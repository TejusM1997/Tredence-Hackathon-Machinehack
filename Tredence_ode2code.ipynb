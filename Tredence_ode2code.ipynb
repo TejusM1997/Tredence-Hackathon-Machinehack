{
  "cells": [
    {
      "cell_type": "code",
      "execution_count": 1,
      "metadata": {
        "colab": {
          "base_uri": "https://localhost:8080/"
        },
        "id": "DETvQNhIpNUb",
        "outputId": "8b7fe003-6b41-4742-a2cb-808f0530199c"
      },
      "outputs": [
        {
          "output_type": "stream",
          "name": "stdout",
          "text": [
            "Mounted at /content/drive\n"
          ]
        }
      ],
      "source": [
        "from google.colab import drive\n",
        "drive.mount('/content/drive')"
      ]
    },
    {
      "cell_type": "code",
      "execution_count": 2,
      "metadata": {
        "id": "h_bZIKpXpYxd"
      },
      "outputs": [],
      "source": [
        "import pandas as pd\n",
        "import numpy as np\n",
        "import seaborn as sns\n",
        "import matplotlib.pyplot as plt\n",
        "from sklearn.metrics import accuracy_score"
      ]
    },
    {
      "cell_type": "code",
      "execution_count": 3,
      "metadata": {
        "colab": {
          "base_uri": "https://localhost:8080/",
          "height": 268
        },
        "id": "zGw-ps12pngD",
        "outputId": "3c717253-36bb-4ef0-8982-27b298429c64"
      },
      "outputs": [
        {
          "output_type": "execute_result",
          "data": {
            "text/html": [
              "\n",
              "  <div id=\"df-44861977-f6d7-4f31-b535-29286ca62a2d\">\n",
              "    <div class=\"colab-df-container\">\n",
              "      <div>\n",
              "<style scoped>\n",
              "    .dataframe tbody tr th:only-of-type {\n",
              "        vertical-align: middle;\n",
              "    }\n",
              "\n",
              "    .dataframe tbody tr th {\n",
              "        vertical-align: top;\n",
              "    }\n",
              "\n",
              "    .dataframe thead th {\n",
              "        text-align: right;\n",
              "    }\n",
              "</style>\n",
              "<table border=\"1\" class=\"dataframe\">\n",
              "  <thead>\n",
              "    <tr style=\"text-align: right;\">\n",
              "      <th></th>\n",
              "      <th>edible-poisonous</th>\n",
              "      <th>cap-diameter</th>\n",
              "      <th>cap-shape</th>\n",
              "      <th>cap-color</th>\n",
              "      <th>does-bruise-or-bleed</th>\n",
              "      <th>gill-attachment</th>\n",
              "      <th>gill-color</th>\n",
              "      <th>stem-height</th>\n",
              "      <th>stem-width</th>\n",
              "      <th>stem-color</th>\n",
              "      <th>has-ring</th>\n",
              "      <th>ring-type</th>\n",
              "      <th>habitat</th>\n",
              "      <th>season</th>\n",
              "    </tr>\n",
              "  </thead>\n",
              "  <tbody>\n",
              "    <tr>\n",
              "      <th>0</th>\n",
              "      <td>p</td>\n",
              "      <td>5.75</td>\n",
              "      <td>x</td>\n",
              "      <td>n</td>\n",
              "      <td>t</td>\n",
              "      <td>s</td>\n",
              "      <td>w</td>\n",
              "      <td>6.13</td>\n",
              "      <td>14.93</td>\n",
              "      <td>w</td>\n",
              "      <td>f</td>\n",
              "      <td>f</td>\n",
              "      <td>d</td>\n",
              "      <td>a</td>\n",
              "    </tr>\n",
              "    <tr>\n",
              "      <th>1</th>\n",
              "      <td>p</td>\n",
              "      <td>2.27</td>\n",
              "      <td>o</td>\n",
              "      <td>g</td>\n",
              "      <td>f</td>\n",
              "      <td>f</td>\n",
              "      <td>f</td>\n",
              "      <td>0.00</td>\n",
              "      <td>0.00</td>\n",
              "      <td>f</td>\n",
              "      <td>f</td>\n",
              "      <td>f</td>\n",
              "      <td>d</td>\n",
              "      <td>s</td>\n",
              "    </tr>\n",
              "    <tr>\n",
              "      <th>2</th>\n",
              "      <td>p</td>\n",
              "      <td>5.59</td>\n",
              "      <td>c</td>\n",
              "      <td>y</td>\n",
              "      <td>t</td>\n",
              "      <td>x</td>\n",
              "      <td>p</td>\n",
              "      <td>5.47</td>\n",
              "      <td>11.27</td>\n",
              "      <td>w</td>\n",
              "      <td>f</td>\n",
              "      <td>f</td>\n",
              "      <td>d</td>\n",
              "      <td>a</td>\n",
              "    </tr>\n",
              "    <tr>\n",
              "      <th>3</th>\n",
              "      <td>p</td>\n",
              "      <td>0.74</td>\n",
              "      <td>x</td>\n",
              "      <td>p</td>\n",
              "      <td>f</td>\n",
              "      <td>a</td>\n",
              "      <td>n</td>\n",
              "      <td>4.33</td>\n",
              "      <td>0.98</td>\n",
              "      <td>k</td>\n",
              "      <td>f</td>\n",
              "      <td>f</td>\n",
              "      <td>d</td>\n",
              "      <td>a</td>\n",
              "    </tr>\n",
              "    <tr>\n",
              "      <th>4</th>\n",
              "      <td>p</td>\n",
              "      <td>9.60</td>\n",
              "      <td>x</td>\n",
              "      <td>n</td>\n",
              "      <td>f</td>\n",
              "      <td>a</td>\n",
              "      <td>w</td>\n",
              "      <td>10.84</td>\n",
              "      <td>28.52</td>\n",
              "      <td>w</td>\n",
              "      <td>f</td>\n",
              "      <td>f</td>\n",
              "      <td>d</td>\n",
              "      <td>u</td>\n",
              "    </tr>\n",
              "  </tbody>\n",
              "</table>\n",
              "</div>\n",
              "      <button class=\"colab-df-convert\" onclick=\"convertToInteractive('df-44861977-f6d7-4f31-b535-29286ca62a2d')\"\n",
              "              title=\"Convert this dataframe to an interactive table.\"\n",
              "              style=\"display:none;\">\n",
              "        \n",
              "  <svg xmlns=\"http://www.w3.org/2000/svg\" height=\"24px\"viewBox=\"0 0 24 24\"\n",
              "       width=\"24px\">\n",
              "    <path d=\"M0 0h24v24H0V0z\" fill=\"none\"/>\n",
              "    <path d=\"M18.56 5.44l.94 2.06.94-2.06 2.06-.94-2.06-.94-.94-2.06-.94 2.06-2.06.94zm-11 1L8.5 8.5l.94-2.06 2.06-.94-2.06-.94L8.5 2.5l-.94 2.06-2.06.94zm10 10l.94 2.06.94-2.06 2.06-.94-2.06-.94-.94-2.06-.94 2.06-2.06.94z\"/><path d=\"M17.41 7.96l-1.37-1.37c-.4-.4-.92-.59-1.43-.59-.52 0-1.04.2-1.43.59L10.3 9.45l-7.72 7.72c-.78.78-.78 2.05 0 2.83L4 21.41c.39.39.9.59 1.41.59.51 0 1.02-.2 1.41-.59l7.78-7.78 2.81-2.81c.8-.78.8-2.07 0-2.86zM5.41 20L4 18.59l7.72-7.72 1.47 1.35L5.41 20z\"/>\n",
              "  </svg>\n",
              "      </button>\n",
              "      \n",
              "  <style>\n",
              "    .colab-df-container {\n",
              "      display:flex;\n",
              "      flex-wrap:wrap;\n",
              "      gap: 12px;\n",
              "    }\n",
              "\n",
              "    .colab-df-convert {\n",
              "      background-color: #E8F0FE;\n",
              "      border: none;\n",
              "      border-radius: 50%;\n",
              "      cursor: pointer;\n",
              "      display: none;\n",
              "      fill: #1967D2;\n",
              "      height: 32px;\n",
              "      padding: 0 0 0 0;\n",
              "      width: 32px;\n",
              "    }\n",
              "\n",
              "    .colab-df-convert:hover {\n",
              "      background-color: #E2EBFA;\n",
              "      box-shadow: 0px 1px 2px rgba(60, 64, 67, 0.3), 0px 1px 3px 1px rgba(60, 64, 67, 0.15);\n",
              "      fill: #174EA6;\n",
              "    }\n",
              "\n",
              "    [theme=dark] .colab-df-convert {\n",
              "      background-color: #3B4455;\n",
              "      fill: #D2E3FC;\n",
              "    }\n",
              "\n",
              "    [theme=dark] .colab-df-convert:hover {\n",
              "      background-color: #434B5C;\n",
              "      box-shadow: 0px 1px 3px 1px rgba(0, 0, 0, 0.15);\n",
              "      filter: drop-shadow(0px 1px 2px rgba(0, 0, 0, 0.3));\n",
              "      fill: #FFFFFF;\n",
              "    }\n",
              "  </style>\n",
              "\n",
              "      <script>\n",
              "        const buttonEl =\n",
              "          document.querySelector('#df-44861977-f6d7-4f31-b535-29286ca62a2d button.colab-df-convert');\n",
              "        buttonEl.style.display =\n",
              "          google.colab.kernel.accessAllowed ? 'block' : 'none';\n",
              "\n",
              "        async function convertToInteractive(key) {\n",
              "          const element = document.querySelector('#df-44861977-f6d7-4f31-b535-29286ca62a2d');\n",
              "          const dataTable =\n",
              "            await google.colab.kernel.invokeFunction('convertToInteractive',\n",
              "                                                     [key], {});\n",
              "          if (!dataTable) return;\n",
              "\n",
              "          const docLinkHtml = 'Like what you see? Visit the ' +\n",
              "            '<a target=\"_blank\" href=https://colab.research.google.com/notebooks/data_table.ipynb>data table notebook</a>'\n",
              "            + ' to learn more about interactive tables.';\n",
              "          element.innerHTML = '';\n",
              "          dataTable['output_type'] = 'display_data';\n",
              "          await google.colab.output.renderOutput(dataTable, element);\n",
              "          const docLink = document.createElement('div');\n",
              "          docLink.innerHTML = docLinkHtml;\n",
              "          element.appendChild(docLink);\n",
              "        }\n",
              "      </script>\n",
              "    </div>\n",
              "  </div>\n",
              "  "
            ],
            "text/plain": [
              "  edible-poisonous  cap-diameter cap-shape  ... ring-type habitat season\n",
              "0                p          5.75         x  ...         f       d      a\n",
              "1                p          2.27         o  ...         f       d      s\n",
              "2                p          5.59         c  ...         f       d      a\n",
              "3                p          0.74         x  ...         f       d      a\n",
              "4                p          9.60         x  ...         f       d      u\n",
              "\n",
              "[5 rows x 14 columns]"
            ]
          },
          "metadata": {},
          "execution_count": 3
        }
      ],
      "source": [
        "train= pd.read_csv('drive/MyDrive/Tredence Competition/train.csv')\n",
        "test= pd.read_csv('drive/MyDrive/Tredence Competition/test.csv')\n",
        "train.head()"
      ]
    },
    {
      "cell_type": "code",
      "execution_count": 4,
      "metadata": {
        "colab": {
          "base_uri": "https://localhost:8080/"
        },
        "id": "mQpzeqHbqoLE",
        "outputId": "c435a0da-32e8-4687-b9c8-81098563f7fa"
      },
      "outputs": [
        {
          "output_type": "execute_result",
          "data": {
            "text/plain": [
              "(42748, 14)"
            ]
          },
          "metadata": {},
          "execution_count": 4
        }
      ],
      "source": [
        "train.shape"
      ]
    },
    {
      "cell_type": "code",
      "execution_count": 5,
      "metadata": {
        "colab": {
          "base_uri": "https://localhost:8080/"
        },
        "id": "XmmVnmJwqsld",
        "outputId": "5faaad6d-8a51-4787-db29-37466f34df0e"
      },
      "outputs": [
        {
          "output_type": "execute_result",
          "data": {
            "text/plain": [
              "edible-poisonous         object\n",
              "cap-diameter            float64\n",
              "cap-shape                object\n",
              "cap-color                object\n",
              "does-bruise-or-bleed     object\n",
              "gill-attachment          object\n",
              "gill-color               object\n",
              "stem-height             float64\n",
              "stem-width              float64\n",
              "stem-color               object\n",
              "has-ring                 object\n",
              "ring-type                object\n",
              "habitat                  object\n",
              "season                   object\n",
              "dtype: object"
            ]
          },
          "metadata": {},
          "execution_count": 5
        }
      ],
      "source": [
        "train.dtypes"
      ]
    },
    {
      "cell_type": "code",
      "execution_count": 6,
      "metadata": {
        "colab": {
          "base_uri": "https://localhost:8080/"
        },
        "id": "r5MO-BMIqwOS",
        "outputId": "4930b154-173c-4799-9a65-fce91373195b"
      },
      "outputs": [
        {
          "output_type": "execute_result",
          "data": {
            "text/plain": [
              "edible-poisonous           0\n",
              "cap-diameter               0\n",
              "cap-shape                  0\n",
              "cap-color                  0\n",
              "does-bruise-or-bleed       0\n",
              "gill-attachment         6940\n",
              "gill-color                 0\n",
              "stem-height                0\n",
              "stem-width                 0\n",
              "stem-color                 0\n",
              "has-ring                   0\n",
              "ring-type               1719\n",
              "habitat                    0\n",
              "season                     0\n",
              "dtype: int64"
            ]
          },
          "metadata": {},
          "execution_count": 6
        }
      ],
      "source": [
        "train.isnull().sum()"
      ]
    },
    {
      "cell_type": "code",
      "execution_count": 7,
      "metadata": {
        "colab": {
          "base_uri": "https://localhost:8080/"
        },
        "id": "5fsS-W3Zq4dD",
        "outputId": "cd8177af-ea70-4411-8b0e-ecf1c58c2b64"
      },
      "outputs": [
        {
          "output_type": "execute_result",
          "data": {
            "text/plain": [
              "edible-poisonous            0\n",
              "cap-diameter                0\n",
              "cap-shape                   0\n",
              "cap-color                   0\n",
              "does-bruise-or-bleed        0\n",
              "gill-attachment          2944\n",
              "gill-color                  0\n",
              "stem-height                 0\n",
              "stem-width                  0\n",
              "stem-color                  0\n",
              "has-ring                    0\n",
              "ring-type                 752\n",
              "habitat                     0\n",
              "season                  18321\n",
              "dtype: int64"
            ]
          },
          "metadata": {},
          "execution_count": 7
        }
      ],
      "source": [
        "test.isnull().sum()"
      ]
    },
    {
      "cell_type": "code",
      "execution_count": 8,
      "metadata": {
        "id": "oCcouSq3xiZJ"
      },
      "outputs": [],
      "source": [
        "def transform_num(df):\n",
        "    df['stem-height'] = np.sqrt(df['stem-height'])\n",
        "    df['stem-width'] = np.cbrt(df['stem-width'])\n",
        "    df['stem-ratio'] = np.cbrt(df['stem-height']/df['stem-width'])\n",
        "    df['stem-ratio'] = df['stem-ratio'].fillna(0)\n",
        "    return df"
      ]
    },
    {
      "cell_type": "code",
      "execution_count": 9,
      "metadata": {
        "id": "hPYzrequxkUr"
      },
      "outputs": [],
      "source": [
        "train = transform_num(train)\n",
        "test = transform_num(test)"
      ]
    },
    {
      "cell_type": "code",
      "execution_count": 10,
      "metadata": {
        "id": "t0aUpofKxqcp"
      },
      "outputs": [],
      "source": [
        "def impute_nan(df,variable):\n",
        "    df[variable+\"_random\"]=df[variable]\n",
        "    ##It will have the random sample to fill the na\n",
        "    random_sample=df[variable].dropna().sample(df[variable].isnull().sum(),random_state=0)\n",
        "    ##pandas need to have same index in order to merge the dataset\n",
        "    random_sample.index=df[df[variable].isnull()].index\n",
        "    df.loc[df[variable].isnull(),variable+'_random']=random_sample"
      ]
    },
    {
      "cell_type": "code",
      "execution_count": 11,
      "metadata": {
        "id": "peQNnHFnxxPD"
      },
      "outputs": [],
      "source": [
        "impute_nan(train,'gill-attachment')\n",
        "impute_nan(test,'gill-attachment')\n",
        "\n",
        "impute_nan(train,'ring-type')\n",
        "impute_nan(test,'ring-type')"
      ]
    },
    {
      "cell_type": "code",
      "execution_count": 12,
      "metadata": {
        "id": "4Wtx_NMvEftp"
      },
      "outputs": [],
      "source": [
        "train.drop('gill-attachment',axis=1,inplace=True)\n",
        "test.drop('gill-attachment',axis=1,inplace=True)\n",
        "\n",
        "train.drop('ring-type',axis=1,inplace=True)\n",
        "test.drop('ring-type',axis=1,inplace=True)"
      ]
    },
    {
      "cell_type": "code",
      "execution_count": 13,
      "metadata": {
        "colab": {
          "base_uri": "https://localhost:8080/"
        },
        "id": "pOytKGpr8e3W",
        "outputId": "60cb0313-c8ae-4cd3-c890-488734e83479"
      },
      "outputs": [
        {
          "output_type": "execute_result",
          "data": {
            "text/plain": [
              "edible-poisonous          0\n",
              "cap-diameter              0\n",
              "cap-shape                 0\n",
              "cap-color                 0\n",
              "does-bruise-or-bleed      0\n",
              "gill-color                0\n",
              "stem-height               0\n",
              "stem-width                0\n",
              "stem-color                0\n",
              "has-ring                  0\n",
              "habitat                   0\n",
              "season                    0\n",
              "stem-ratio                0\n",
              "gill-attachment_random    0\n",
              "ring-type_random          0\n",
              "dtype: int64"
            ]
          },
          "metadata": {},
          "execution_count": 13
        }
      ],
      "source": [
        "train.isnull().sum()"
      ]
    },
    {
      "cell_type": "code",
      "execution_count": 14,
      "metadata": {
        "colab": {
          "base_uri": "https://localhost:8080/",
          "height": 1000
        },
        "id": "5VypT-Wn8lHd",
        "outputId": "2e6d844a-a6ef-48bf-c678-47482ef31e70"
      },
      "outputs": [
        {
          "output_type": "display_data",
          "data": {
            "image/png": "[encoded data removed]",
            "text/plain": [
              "<Figure size 360x360 with 1 Axes>"
            ]
          },
          "metadata": {
            "needs_background": "light"
          }
        },
        {
          "output_type": "display_data",
          "data": {
            "image/png": "[encoded data removed]",
            "text/plain": [
              "<Figure size 360x360 with 1 Axes>"
            ]
          },
          "metadata": {
            "needs_background": "light"
          }
        },
        {
          "output_type": "display_data",
          "data": {
            "image/png": "[encoded data removed]",
            "text/plain": [
              "<Figure size 360x360 with 1 Axes>"
            ]
          },
          "metadata": {
            "needs_background": "light"
          }
        }
      ],
      "source": [
        "for i in ['cap-diameter','stem-height','stem-width']:\n",
        "    sns.displot(train,x=i)"
      ]
    },
    {
      "cell_type": "code",
      "execution_count": 15,
      "metadata": {
        "colab": {
          "base_uri": "https://localhost:8080/",
          "height": 334
        },
        "id": "_kWd3on6PfgT",
        "outputId": "a40fdd12-ea17-4bd8-d6ab-35a4e0a22182"
      },
      "outputs": [
        {
          "output_type": "stream",
          "name": "stderr",
          "text": [
            "/usr/local/lib/python3.7/dist-packages/seaborn/_decorators.py:43: FutureWarning: Pass the following variable as a keyword arg: x. From version 0.12, the only valid positional argument will be `data`, and passing other arguments without an explicit keyword will result in an error or misinterpretation.\n",
            "  FutureWarning\n"
          ]
        },
        {
          "output_type": "display_data",
          "data": {
            "image/png": "[encoded data removed]",
            "text/plain": [
              "<Figure size 432x288 with 1 Axes>"
            ]
          },
          "metadata": {
            "needs_background": "light"
          }
        }
      ],
      "source": [
        "sns.countplot(train['season'])\n",
        "plt.show()"
      ]
    },
    {
      "cell_type": "code",
      "execution_count": 16,
      "metadata": {
        "id": "YdRM9vwo9-5r"
      },
      "outputs": [],
      "source": [
        "test.drop('season',axis=1,inplace=True)\n"
      ]
    },
    {
      "cell_type": "code",
      "execution_count": 17,
      "metadata": {
        "id": "_AMnrNYjNP3p"
      },
      "outputs": [],
      "source": [
        "dummy_train= pd.get_dummies(train[['does-bruise-or-bleed','edible-poisonous', 'gill-color',\n",
        "                                  'stem-color', 'has-ring', 'habitat','cap-shape','gill-attachment_random','ring-type_random',\t'cap-color']],drop_first=True)"
      ]
    },
    {
      "cell_type": "code",
      "execution_count": 18,
      "metadata": {
        "id": "UoZ5QqapNPqJ"
      },
      "outputs": [],
      "source": [
        "train_df= pd.concat([train,dummy_train],axis=1)"
      ]
    },
    {
      "cell_type": "code",
      "execution_count": 19,
      "metadata": {
        "id": "xe5-5TKDNPd6"
      },
      "outputs": [],
      "source": [
        "train_df.drop(['does-bruise-or-bleed','edible-poisonous', 'gill-color',\n",
        "                                  'stem-color', 'has-ring', 'habitat','cap-shape','gill-attachment_random','ring-type_random',\t'cap-color'],axis=1,inplace=True)"
      ]
    },
    {
      "cell_type": "code",
      "execution_count": 20,
      "metadata": {
        "id": "GZrJ1yjNOS1f"
      },
      "outputs": [],
      "source": [
        "dummy_test= pd.get_dummies(test[['does-bruise-or-bleed','edible-poisonous', 'gill-color',\n",
        "                                  'stem-color', 'has-ring', 'habitat','gill-attachment_random','ring-type_random','cap-shape',\t'cap-color']],drop_first=True)"
      ]
    },
    {
      "cell_type": "code",
      "execution_count": 21,
      "metadata": {
        "id": "0Ep4tAUSOexd"
      },
      "outputs": [],
      "source": [
        "test_df= pd.concat([test,dummy_test],axis=1)"
      ]
    },
    {
      "cell_type": "code",
      "execution_count": 22,
      "metadata": {
        "id": "kMT4dvazOov1"
      },
      "outputs": [],
      "source": [
        "test_df.drop(['does-bruise-or-bleed','edible-poisonous', 'gill-color',\n",
        "                                  'stem-color', 'has-ring', 'habitat','gill-attachment_random','ring-type_random','cap-shape',\t'cap-color'],axis=1,inplace=True)"
      ]
    },
    {
      "cell_type": "code",
      "execution_count": 23,
      "metadata": {
        "colab": {
          "base_uri": "https://localhost:8080/",
          "height": 322
        },
        "id": "fksBPFRYA4tP",
        "outputId": "d849f3da-0bda-44b1-f07c-ea9134ae62fb"
      },
      "outputs": [
        {
          "output_type": "execute_result",
          "data": {
            "text/html": [
              "\n",
              "  <div id=\"df-694627a7-e190-4144-a64f-508c32008874\">\n",
              "    <div class=\"colab-df-container\">\n",
              "      <div>\n",
              "<style scoped>\n",
              "    .dataframe tbody tr th:only-of-type {\n",
              "        vertical-align: middle;\n",
              "    }\n",
              "\n",
              "    .dataframe tbody tr th {\n",
              "        vertical-align: top;\n",
              "    }\n",
              "\n",
              "    .dataframe thead th {\n",
              "        text-align: right;\n",
              "    }\n",
              "</style>\n",
              "<table border=\"1\" class=\"dataframe\">\n",
              "  <thead>\n",
              "    <tr style=\"text-align: right;\">\n",
              "      <th></th>\n",
              "      <th>cap-diameter</th>\n",
              "      <th>stem-height</th>\n",
              "      <th>stem-width</th>\n",
              "      <th>season</th>\n",
              "      <th>stem-ratio</th>\n",
              "      <th>does-bruise-or-bleed_t</th>\n",
              "      <th>edible-poisonous_p</th>\n",
              "      <th>gill-color_e</th>\n",
              "      <th>gill-color_f</th>\n",
              "      <th>gill-color_g</th>\n",
              "      <th>gill-color_k</th>\n",
              "      <th>gill-color_n</th>\n",
              "      <th>gill-color_o</th>\n",
              "      <th>gill-color_p</th>\n",
              "      <th>gill-color_r</th>\n",
              "      <th>gill-color_u</th>\n",
              "      <th>gill-color_w</th>\n",
              "      <th>gill-color_y</th>\n",
              "      <th>stem-color_e</th>\n",
              "      <th>stem-color_f</th>\n",
              "      <th>stem-color_g</th>\n",
              "      <th>stem-color_k</th>\n",
              "      <th>stem-color_l</th>\n",
              "      <th>stem-color_n</th>\n",
              "      <th>stem-color_o</th>\n",
              "      <th>stem-color_p</th>\n",
              "      <th>stem-color_r</th>\n",
              "      <th>stem-color_u</th>\n",
              "      <th>stem-color_w</th>\n",
              "      <th>stem-color_y</th>\n",
              "      <th>has-ring_t</th>\n",
              "      <th>habitat_g</th>\n",
              "      <th>habitat_h</th>\n",
              "      <th>habitat_l</th>\n",
              "      <th>habitat_m</th>\n",
              "      <th>habitat_p</th>\n",
              "      <th>habitat_u</th>\n",
              "      <th>habitat_w</th>\n",
              "      <th>cap-shape_c</th>\n",
              "      <th>cap-shape_f</th>\n",
              "      <th>cap-shape_o</th>\n",
              "      <th>cap-shape_p</th>\n",
              "      <th>cap-shape_s</th>\n",
              "      <th>cap-shape_x</th>\n",
              "      <th>gill-attachment_random_d</th>\n",
              "      <th>gill-attachment_random_e</th>\n",
              "      <th>gill-attachment_random_f</th>\n",
              "      <th>gill-attachment_random_p</th>\n",
              "      <th>gill-attachment_random_s</th>\n",
              "      <th>gill-attachment_random_x</th>\n",
              "      <th>ring-type_random_f</th>\n",
              "      <th>ring-type_random_g</th>\n",
              "      <th>ring-type_random_l</th>\n",
              "      <th>ring-type_random_m</th>\n",
              "      <th>ring-type_random_p</th>\n",
              "      <th>ring-type_random_r</th>\n",
              "      <th>ring-type_random_z</th>\n",
              "      <th>cap-color_e</th>\n",
              "      <th>cap-color_g</th>\n",
              "      <th>cap-color_k</th>\n",
              "      <th>cap-color_l</th>\n",
              "      <th>cap-color_n</th>\n",
              "      <th>cap-color_o</th>\n",
              "      <th>cap-color_p</th>\n",
              "      <th>cap-color_r</th>\n",
              "      <th>cap-color_u</th>\n",
              "      <th>cap-color_w</th>\n",
              "      <th>cap-color_y</th>\n",
              "    </tr>\n",
              "  </thead>\n",
              "  <tbody>\n",
              "    <tr>\n",
              "      <th>0</th>\n",
              "      <td>5.75</td>\n",
              "      <td>2.475884</td>\n",
              "      <td>2.462370</td>\n",
              "      <td>a</td>\n",
              "      <td>1.001826</td>\n",
              "      <td>1</td>\n",
              "      <td>1</td>\n",
              "      <td>0</td>\n",
              "      <td>0</td>\n",
              "      <td>0</td>\n",
              "      <td>0</td>\n",
              "      <td>0</td>\n",
              "      <td>0</td>\n",
              "      <td>0</td>\n",
              "      <td>0</td>\n",
              "      <td>0</td>\n",
              "      <td>1</td>\n",
              "      <td>0</td>\n",
              "      <td>0</td>\n",
              "      <td>0</td>\n",
              "      <td>0</td>\n",
              "      <td>0</td>\n",
              "      <td>0</td>\n",
              "      <td>0</td>\n",
              "      <td>0</td>\n",
              "      <td>0</td>\n",
              "      <td>0</td>\n",
              "      <td>0</td>\n",
              "      <td>1</td>\n",
              "      <td>0</td>\n",
              "      <td>0</td>\n",
              "      <td>0</td>\n",
              "      <td>0</td>\n",
              "      <td>0</td>\n",
              "      <td>0</td>\n",
              "      <td>0</td>\n",
              "      <td>0</td>\n",
              "      <td>0</td>\n",
              "      <td>0</td>\n",
              "      <td>0</td>\n",
              "      <td>0</td>\n",
              "      <td>0</td>\n",
              "      <td>0</td>\n",
              "      <td>1</td>\n",
              "      <td>0</td>\n",
              "      <td>0</td>\n",
              "      <td>0</td>\n",
              "      <td>0</td>\n",
              "      <td>1</td>\n",
              "      <td>0</td>\n",
              "      <td>1</td>\n",
              "      <td>0</td>\n",
              "      <td>0</td>\n",
              "      <td>0</td>\n",
              "      <td>0</td>\n",
              "      <td>0</td>\n",
              "      <td>0</td>\n",
              "      <td>0</td>\n",
              "      <td>0</td>\n",
              "      <td>0</td>\n",
              "      <td>0</td>\n",
              "      <td>1</td>\n",
              "      <td>0</td>\n",
              "      <td>0</td>\n",
              "      <td>0</td>\n",
              "      <td>0</td>\n",
              "      <td>0</td>\n",
              "      <td>0</td>\n",
              "    </tr>\n",
              "    <tr>\n",
              "      <th>1</th>\n",
              "      <td>2.27</td>\n",
              "      <td>0.000000</td>\n",
              "      <td>0.000000</td>\n",
              "      <td>s</td>\n",
              "      <td>0.000000</td>\n",
              "      <td>0</td>\n",
              "      <td>1</td>\n",
              "      <td>0</td>\n",
              "      <td>1</td>\n",
              "      <td>0</td>\n",
              "      <td>0</td>\n",
              "      <td>0</td>\n",
              "      <td>0</td>\n",
              "      <td>0</td>\n",
              "      <td>0</td>\n",
              "      <td>0</td>\n",
              "      <td>0</td>\n",
              "      <td>0</td>\n",
              "      <td>0</td>\n",
              "      <td>1</td>\n",
              "      <td>0</td>\n",
              "      <td>0</td>\n",
              "      <td>0</td>\n",
              "      <td>0</td>\n",
              "      <td>0</td>\n",
              "      <td>0</td>\n",
              "      <td>0</td>\n",
              "      <td>0</td>\n",
              "      <td>0</td>\n",
              "      <td>0</td>\n",
              "      <td>0</td>\n",
              "      <td>0</td>\n",
              "      <td>0</td>\n",
              "      <td>0</td>\n",
              "      <td>0</td>\n",
              "      <td>0</td>\n",
              "      <td>0</td>\n",
              "      <td>0</td>\n",
              "      <td>0</td>\n",
              "      <td>0</td>\n",
              "      <td>1</td>\n",
              "      <td>0</td>\n",
              "      <td>0</td>\n",
              "      <td>0</td>\n",
              "      <td>0</td>\n",
              "      <td>0</td>\n",
              "      <td>1</td>\n",
              "      <td>0</td>\n",
              "      <td>0</td>\n",
              "      <td>0</td>\n",
              "      <td>1</td>\n",
              "      <td>0</td>\n",
              "      <td>0</td>\n",
              "      <td>0</td>\n",
              "      <td>0</td>\n",
              "      <td>0</td>\n",
              "      <td>0</td>\n",
              "      <td>0</td>\n",
              "      <td>1</td>\n",
              "      <td>0</td>\n",
              "      <td>0</td>\n",
              "      <td>0</td>\n",
              "      <td>0</td>\n",
              "      <td>0</td>\n",
              "      <td>0</td>\n",
              "      <td>0</td>\n",
              "      <td>0</td>\n",
              "      <td>0</td>\n",
              "    </tr>\n",
              "    <tr>\n",
              "      <th>2</th>\n",
              "      <td>5.59</td>\n",
              "      <td>2.338803</td>\n",
              "      <td>2.242029</td>\n",
              "      <td>a</td>\n",
              "      <td>1.014186</td>\n",
              "      <td>1</td>\n",
              "      <td>1</td>\n",
              "      <td>0</td>\n",
              "      <td>0</td>\n",
              "      <td>0</td>\n",
              "      <td>0</td>\n",
              "      <td>0</td>\n",
              "      <td>0</td>\n",
              "      <td>1</td>\n",
              "      <td>0</td>\n",
              "      <td>0</td>\n",
              "      <td>0</td>\n",
              "      <td>0</td>\n",
              "      <td>0</td>\n",
              "      <td>0</td>\n",
              "      <td>0</td>\n",
              "      <td>0</td>\n",
              "      <td>0</td>\n",
              "      <td>0</td>\n",
              "      <td>0</td>\n",
              "      <td>0</td>\n",
              "      <td>0</td>\n",
              "      <td>0</td>\n",
              "      <td>1</td>\n",
              "      <td>0</td>\n",
              "      <td>0</td>\n",
              "      <td>0</td>\n",
              "      <td>0</td>\n",
              "      <td>0</td>\n",
              "      <td>0</td>\n",
              "      <td>0</td>\n",
              "      <td>0</td>\n",
              "      <td>0</td>\n",
              "      <td>1</td>\n",
              "      <td>0</td>\n",
              "      <td>0</td>\n",
              "      <td>0</td>\n",
              "      <td>0</td>\n",
              "      <td>0</td>\n",
              "      <td>0</td>\n",
              "      <td>0</td>\n",
              "      <td>0</td>\n",
              "      <td>0</td>\n",
              "      <td>0</td>\n",
              "      <td>1</td>\n",
              "      <td>1</td>\n",
              "      <td>0</td>\n",
              "      <td>0</td>\n",
              "      <td>0</td>\n",
              "      <td>0</td>\n",
              "      <td>0</td>\n",
              "      <td>0</td>\n",
              "      <td>0</td>\n",
              "      <td>0</td>\n",
              "      <td>0</td>\n",
              "      <td>0</td>\n",
              "      <td>0</td>\n",
              "      <td>0</td>\n",
              "      <td>0</td>\n",
              "      <td>0</td>\n",
              "      <td>0</td>\n",
              "      <td>0</td>\n",
              "      <td>1</td>\n",
              "    </tr>\n",
              "    <tr>\n",
              "      <th>3</th>\n",
              "      <td>0.74</td>\n",
              "      <td>2.080865</td>\n",
              "      <td>0.993288</td>\n",
              "      <td>a</td>\n",
              "      <td>1.279547</td>\n",
              "      <td>0</td>\n",
              "      <td>1</td>\n",
              "      <td>0</td>\n",
              "      <td>0</td>\n",
              "      <td>0</td>\n",
              "      <td>0</td>\n",
              "      <td>1</td>\n",
              "      <td>0</td>\n",
              "      <td>0</td>\n",
              "      <td>0</td>\n",
              "      <td>0</td>\n",
              "      <td>0</td>\n",
              "      <td>0</td>\n",
              "      <td>0</td>\n",
              "      <td>0</td>\n",
              "      <td>0</td>\n",
              "      <td>1</td>\n",
              "      <td>0</td>\n",
              "      <td>0</td>\n",
              "      <td>0</td>\n",
              "      <td>0</td>\n",
              "      <td>0</td>\n",
              "      <td>0</td>\n",
              "      <td>0</td>\n",
              "      <td>0</td>\n",
              "      <td>0</td>\n",
              "      <td>0</td>\n",
              "      <td>0</td>\n",
              "      <td>0</td>\n",
              "      <td>0</td>\n",
              "      <td>0</td>\n",
              "      <td>0</td>\n",
              "      <td>0</td>\n",
              "      <td>0</td>\n",
              "      <td>0</td>\n",
              "      <td>0</td>\n",
              "      <td>0</td>\n",
              "      <td>0</td>\n",
              "      <td>1</td>\n",
              "      <td>0</td>\n",
              "      <td>0</td>\n",
              "      <td>0</td>\n",
              "      <td>0</td>\n",
              "      <td>0</td>\n",
              "      <td>0</td>\n",
              "      <td>1</td>\n",
              "      <td>0</td>\n",
              "      <td>0</td>\n",
              "      <td>0</td>\n",
              "      <td>0</td>\n",
              "      <td>0</td>\n",
              "      <td>0</td>\n",
              "      <td>0</td>\n",
              "      <td>0</td>\n",
              "      <td>0</td>\n",
              "      <td>0</td>\n",
              "      <td>0</td>\n",
              "      <td>0</td>\n",
              "      <td>1</td>\n",
              "      <td>0</td>\n",
              "      <td>0</td>\n",
              "      <td>0</td>\n",
              "      <td>0</td>\n",
              "    </tr>\n",
              "    <tr>\n",
              "      <th>4</th>\n",
              "      <td>9.60</td>\n",
              "      <td>3.292416</td>\n",
              "      <td>3.055272</td>\n",
              "      <td>u</td>\n",
              "      <td>1.025231</td>\n",
              "      <td>0</td>\n",
              "      <td>1</td>\n",
              "      <td>0</td>\n",
              "      <td>0</td>\n",
              "      <td>0</td>\n",
              "      <td>0</td>\n",
              "      <td>0</td>\n",
              "      <td>0</td>\n",
              "      <td>0</td>\n",
              "      <td>0</td>\n",
              "      <td>0</td>\n",
              "      <td>1</td>\n",
              "      <td>0</td>\n",
              "      <td>0</td>\n",
              "      <td>0</td>\n",
              "      <td>0</td>\n",
              "      <td>0</td>\n",
              "      <td>0</td>\n",
              "      <td>0</td>\n",
              "      <td>0</td>\n",
              "      <td>0</td>\n",
              "      <td>0</td>\n",
              "      <td>0</td>\n",
              "      <td>1</td>\n",
              "      <td>0</td>\n",
              "      <td>0</td>\n",
              "      <td>0</td>\n",
              "      <td>0</td>\n",
              "      <td>0</td>\n",
              "      <td>0</td>\n",
              "      <td>0</td>\n",
              "      <td>0</td>\n",
              "      <td>0</td>\n",
              "      <td>0</td>\n",
              "      <td>0</td>\n",
              "      <td>0</td>\n",
              "      <td>0</td>\n",
              "      <td>0</td>\n",
              "      <td>1</td>\n",
              "      <td>0</td>\n",
              "      <td>0</td>\n",
              "      <td>0</td>\n",
              "      <td>0</td>\n",
              "      <td>0</td>\n",
              "      <td>0</td>\n",
              "      <td>1</td>\n",
              "      <td>0</td>\n",
              "      <td>0</td>\n",
              "      <td>0</td>\n",
              "      <td>0</td>\n",
              "      <td>0</td>\n",
              "      <td>0</td>\n",
              "      <td>0</td>\n",
              "      <td>0</td>\n",
              "      <td>0</td>\n",
              "      <td>0</td>\n",
              "      <td>1</td>\n",
              "      <td>0</td>\n",
              "      <td>0</td>\n",
              "      <td>0</td>\n",
              "      <td>0</td>\n",
              "      <td>0</td>\n",
              "      <td>0</td>\n",
              "    </tr>\n",
              "  </tbody>\n",
              "</table>\n",
              "</div>\n",
              "      <button class=\"colab-df-convert\" onclick=\"convertToInteractive('df-694627a7-e190-4144-a64f-508c32008874')\"\n",
              "              title=\"Convert this dataframe to an interactive table.\"\n",
              "              style=\"display:none;\">\n",
              "        \n",
              "  <svg xmlns=\"http://www.w3.org/2000/svg\" height=\"24px\"viewBox=\"0 0 24 24\"\n",
              "       width=\"24px\">\n",
              "    <path d=\"M0 0h24v24H0V0z\" fill=\"none\"/>\n",
              "    <path d=\"M18.56 5.44l.94 2.06.94-2.06 2.06-.94-2.06-.94-.94-2.06-.94 2.06-2.06.94zm-11 1L8.5 8.5l.94-2.06 2.06-.94-2.06-.94L8.5 2.5l-.94 2.06-2.06.94zm10 10l.94 2.06.94-2.06 2.06-.94-2.06-.94-.94-2.06-.94 2.06-2.06.94z\"/><path d=\"M17.41 7.96l-1.37-1.37c-.4-.4-.92-.59-1.43-.59-.52 0-1.04.2-1.43.59L10.3 9.45l-7.72 7.72c-.78.78-.78 2.05 0 2.83L4 21.41c.39.39.9.59 1.41.59.51 0 1.02-.2 1.41-.59l7.78-7.78 2.81-2.81c.8-.78.8-2.07 0-2.86zM5.41 20L4 18.59l7.72-7.72 1.47 1.35L5.41 20z\"/>\n",
              "  </svg>\n",
              "      </button>\n",
              "      \n",
              "  <style>\n",
              "    .colab-df-container {\n",
              "      display:flex;\n",
              "      flex-wrap:wrap;\n",
              "      gap: 12px;\n",
              "    }\n",
              "\n",
              "    .colab-df-convert {\n",
              "      background-color: #E8F0FE;\n",
              "      border: none;\n",
              "      border-radius: 50%;\n",
              "      cursor: pointer;\n",
              "      display: none;\n",
              "      fill: #1967D2;\n",
              "      height: 32px;\n",
              "      padding: 0 0 0 0;\n",
              "      width: 32px;\n",
              "    }\n",
              "\n",
              "    .colab-df-convert:hover {\n",
              "      background-color: #E2EBFA;\n",
              "      box-shadow: 0px 1px 2px rgba(60, 64, 67, 0.3), 0px 1px 3px 1px rgba(60, 64, 67, 0.15);\n",
              "      fill: #174EA6;\n",
              "    }\n",
              "\n",
              "    [theme=dark] .colab-df-convert {\n",
              "      background-color: #3B4455;\n",
              "      fill: #D2E3FC;\n",
              "    }\n",
              "\n",
              "    [theme=dark] .colab-df-convert:hover {\n",
              "      background-color: #434B5C;\n",
              "      box-shadow: 0px 1px 3px 1px rgba(0, 0, 0, 0.15);\n",
              "      filter: drop-shadow(0px 1px 2px rgba(0, 0, 0, 0.3));\n",
              "      fill: #FFFFFF;\n",
              "    }\n",
              "  </style>\n",
              "\n",
              "      <script>\n",
              "        const buttonEl =\n",
              "          document.querySelector('#df-694627a7-e190-4144-a64f-508c32008874 button.colab-df-convert');\n",
              "        buttonEl.style.display =\n",
              "          google.colab.kernel.accessAllowed ? 'block' : 'none';\n",
              "\n",
              "        async function convertToInteractive(key) {\n",
              "          const element = document.querySelector('#df-694627a7-e190-4144-a64f-508c32008874');\n",
              "          const dataTable =\n",
              "            await google.colab.kernel.invokeFunction('convertToInteractive',\n",
              "                                                     [key], {});\n",
              "          if (!dataTable) return;\n",
              "\n",
              "          const docLinkHtml = 'Like what you see? Visit the ' +\n",
              "            '<a target=\"_blank\" href=https://colab.research.google.com/notebooks/data_table.ipynb>data table notebook</a>'\n",
              "            + ' to learn more about interactive tables.';\n",
              "          element.innerHTML = '';\n",
              "          dataTable['output_type'] = 'display_data';\n",
              "          await google.colab.output.renderOutput(dataTable, element);\n",
              "          const docLink = document.createElement('div');\n",
              "          docLink.innerHTML = docLinkHtml;\n",
              "          element.appendChild(docLink);\n",
              "        }\n",
              "      </script>\n",
              "    </div>\n",
              "  </div>\n",
              "  "
            ],
            "text/plain": [
              "   cap-diameter  stem-height  stem-width  ... cap-color_u  cap-color_w  cap-color_y\n",
              "0          5.75     2.475884    2.462370  ...           0            0            0\n",
              "1          2.27     0.000000    0.000000  ...           0            0            0\n",
              "2          5.59     2.338803    2.242029  ...           0            0            1\n",
              "3          0.74     2.080865    0.993288  ...           0            0            0\n",
              "4          9.60     3.292416    3.055272  ...           0            0            0\n",
              "\n",
              "[5 rows x 68 columns]"
            ]
          },
          "metadata": {},
          "execution_count": 23
        }
      ],
      "source": [
        "train_df.head()"
      ]
    },
    {
      "cell_type": "code",
      "execution_count": 24,
      "metadata": {
        "id": "GsssISPaA7aA"
      },
      "outputs": [],
      "source": [
        "from sklearn.preprocessing import LabelEncoder\n",
        "le= LabelEncoder()\n",
        "train_df['season']=le.fit_transform(train_df['season'])\n"
      ]
    },
    {
      "cell_type": "code",
      "execution_count": 25,
      "metadata": {
        "id": "Ixo29-QWJOzB"
      },
      "outputs": [],
      "source": [
        "output_labels=le.classes_"
      ]
    },
    {
      "cell_type": "code",
      "execution_count": 26,
      "metadata": {
        "colab": {
          "base_uri": "https://localhost:8080/"
        },
        "id": "zFIhNxdcPgFD",
        "outputId": "5612de66-b269-40eb-abad-6a0be0a9e745"
      },
      "outputs": [
        {
          "output_type": "execute_result",
          "data": {
            "text/plain": [
              "array([0, 1, 2, 3])"
            ]
          },
          "metadata": {},
          "execution_count": 26
        }
      ],
      "source": [
        "train_df['season'].unique()"
      ]
    },
    {
      "cell_type": "markdown",
      "metadata": {
        "id": "BneBDcXEvUgq"
      },
      "source": [
        "### **Data Augmentation**"
      ]
    },
    {
      "cell_type": "code",
      "execution_count": 27,
      "metadata": {
        "colab": {
          "base_uri": "https://localhost:8080/"
        },
        "id": "MlI3cM5zw9wb",
        "outputId": "3e465bb6-37b3-4d9c-d09b-4d1c79934b49"
      },
      "outputs": [
        {
          "output_type": "stream",
          "name": "stdout",
          "text": [
            "0.8.1\n"
          ]
        }
      ],
      "source": [
        "# check version number\n",
        "import imblearn\n",
        "from collections import Counter\n",
        "print(imblearn.__version__)"
      ]
    },
    {
      "cell_type": "code",
      "execution_count": 28,
      "metadata": {
        "id": "c7vIy7SXxE6f"
      },
      "outputs": [],
      "source": [
        "from sklearn.model_selection import train_test_split\n",
        "\n",
        "X_train= train_df.drop('season',axis=1)\n",
        "y_train= train_df['season']\n",
        "\n",
        "# Create validation set\n",
        "X_train,X_val,y_train,y_val=train_test_split(X_train,y_train,test_size=0.3,shuffle=False)"
      ]
    },
    {
      "cell_type": "code",
      "execution_count": 29,
      "metadata": {
        "colab": {
          "base_uri": "https://localhost:8080/"
        },
        "id": "ExwDK-K3xM6n",
        "outputId": "18dbd1ef-321b-422f-ccc7-09237e02d4fc"
      },
      "outputs": [
        {
          "output_type": "stream",
          "name": "stdout",
          "text": [
            "Class=0, n=14788 (49.420%)\n",
            "Class=1, n=1321 (4.415%)\n",
            "Class=2, n=11255 (37.613%)\n",
            "Class=3, n=2559 (8.552%)\n"
          ]
        }
      ],
      "source": [
        "# getting the actual class counts and their percentage of the total class values\n",
        "counter= Counter(y_train)\n",
        "for k,v in counter.items():\n",
        "  per= v/len(y_train)*100\n",
        "  print('Class=%d, n=%d (%.3f%%)' % (k, v, per))"
      ]
    },
    {
      "cell_type": "code",
      "source": [
        "counter= Counter(y_val)\n",
        "for k,v in counter.items():\n",
        "  per= v/len(y_val)*100\n",
        "  print('Class=%d, n=%d (%.3f%%)' % (k, v, per))"
      ],
      "metadata": {
        "colab": {
          "base_uri": "https://localhost:8080/"
        },
        "id": "bKY2TMcriQjG",
        "outputId": "a6024299-e802-4d53-a0dd-18ca0fd0da82"
      },
      "execution_count": 30,
      "outputs": [
        {
          "output_type": "stream",
          "name": "stdout",
          "text": [
            "Class=0, n=6315 (49.240%)\n",
            "Class=3, n=1139 (8.881%)\n",
            "Class=2, n=4800 (37.427%)\n",
            "Class=1, n=571 (4.452%)\n"
          ]
        }
      ]
    },
    {
      "cell_type": "code",
      "execution_count": 31,
      "metadata": {
        "colab": {
          "base_uri": "https://localhost:8080/"
        },
        "id": "KGbJBrXjxMeg",
        "outputId": "eed228f0-3705-4d26-9709-ea985ad35fb7"
      },
      "outputs": [
        {
          "output_type": "stream",
          "name": "stderr",
          "text": [
            "/usr/local/lib/python3.7/dist-packages/imblearn/utils/_validation.py:300: UserWarning: After over-sampling, the number of samples (20000) in class 0 will be larger than the number of samples in the majority class (class #0 -> 14788)\n",
            "  f\"After over-sampling, the number of samples ({n_samples})\"\n",
            "/usr/local/lib/python3.7/dist-packages/imblearn/utils/_validation.py:300: UserWarning: After over-sampling, the number of samples (15000) in class 2 will be larger than the number of samples in the majority class (class #0 -> 14788)\n",
            "  f\"After over-sampling, the number of samples ({n_samples})\"\n"
          ]
        },
        {
          "output_type": "stream",
          "name": "stdout",
          "text": [
            "Class=0, n=20000 (41.667%)\n",
            "Class=1, n=6000 (12.500%)\n",
            "Class=2, n=15000 (31.250%)\n",
            "Class=3, n=7000 (14.583%)\n"
          ]
        }
      ],
      "source": [
        "from imblearn.over_sampling import SMOTE\n",
        "strategy_train= {0:20000, 1:6000, 2:15000, 3:7000}\n",
        "oversample= SMOTE(sampling_strategy=strategy_train)\n",
        "X_res,y_res= oversample.fit_resample(X_train,y_train)\n",
        "counter_1= Counter(y_res)\n",
        "for k,v in counter_1.items():\n",
        "  per= v/len(y_res)*100\n",
        "  print('Class=%d, n=%d (%.3f%%)' % (k, v, per))"
      ]
    },
    {
      "cell_type": "code",
      "source": [
        "strategy_val={0:8000,1:2200,2:5200,3:1300}\n",
        "smote= SMOTE(sampling_strategy=strategy_val)\n",
        "X_val_r,y_val_r= smote.fit_resample(X_val,y_val)\n",
        "counter_2=Counter(y_val_r)\n",
        "for k,v in counter_2.items():\n",
        "  per=v/len(y_val_r)*100\n",
        "  print('Class=%d, n=%d (%.3f%%)' % (k, v, per))"
      ],
      "metadata": {
        "colab": {
          "base_uri": "https://localhost:8080/"
        },
        "id": "2axIq5ZzijzC",
        "outputId": "3113caef-872f-496a-f334-5c2e47a81007"
      },
      "execution_count": 32,
      "outputs": [
        {
          "output_type": "stream",
          "name": "stderr",
          "text": [
            "/usr/local/lib/python3.7/dist-packages/imblearn/utils/_validation.py:300: UserWarning: After over-sampling, the number of samples (8000) in class 0 will be larger than the number of samples in the majority class (class #0 -> 6315)\n",
            "  f\"After over-sampling, the number of samples ({n_samples})\"\n"
          ]
        },
        {
          "output_type": "stream",
          "name": "stdout",
          "text": [
            "Class=0, n=8000 (47.904%)\n",
            "Class=3, n=1300 (7.784%)\n",
            "Class=2, n=5200 (31.138%)\n",
            "Class=1, n=2200 (13.174%)\n"
          ]
        }
      ]
    },
    {
      "cell_type": "code",
      "execution_count": 33,
      "metadata": {
        "colab": {
          "base_uri": "https://localhost:8080/"
        },
        "id": "rxQ3DSc74LQM",
        "outputId": "49c85430-ff07-4597-919e-5cf5940f50ab"
      },
      "outputs": [
        {
          "output_type": "stream",
          "name": "stdout",
          "text": [
            "(48000, 67)\n",
            "(48000,)\n"
          ]
        }
      ],
      "source": [
        "\n",
        "print(X_res.shape)\n",
        "print(y_res.shape)"
      ]
    },
    {
      "cell_type": "code",
      "execution_count": 34,
      "metadata": {
        "colab": {
          "base_uri": "https://localhost:8080/"
        },
        "id": "ZXXF-Dhh4isC",
        "outputId": "e1754273-fbee-4439-9daa-76feb7faa6a0"
      },
      "outputs": [
        {
          "output_type": "stream",
          "name": "stdout",
          "text": [
            "(29923, 67)\n"
          ]
        }
      ],
      "source": [
        "print(X_train.shape)"
      ]
    },
    {
      "cell_type": "markdown",
      "metadata": {
        "id": "MJLd30hu85-O"
      },
      "source": [
        "### **Feature Importance**"
      ]
    },
    {
      "cell_type": "code",
      "execution_count": 35,
      "metadata": {
        "colab": {
          "base_uri": "https://localhost:8080/"
        },
        "id": "RENT860D9AVd",
        "outputId": "aae4572a-3061-4e94-e476-39233970d414"
      },
      "outputs": [
        {
          "output_type": "execute_result",
          "data": {
            "text/plain": [
              "stem-width                  0.115346\n",
              "cap-diameter                0.103413\n",
              "stem-ratio                  0.097022\n",
              "stem-height                 0.080692\n",
              "does-bruise-or-bleed_t      0.030102\n",
              "                              ...   \n",
              "gill-attachment_random_x    0.000000\n",
              "stem-color_l                0.000000\n",
              "habitat_w                   0.000000\n",
              "habitat_p                   0.000000\n",
              "gill-color_u                0.000000\n",
              "Length: 67, dtype: float64"
            ]
          },
          "metadata": {},
          "execution_count": 35
        }
      ],
      "source": [
        "from sklearn.feature_selection import mutual_info_classif\n",
        "\n",
        "mutual_info=mutual_info_classif(X_res,y_res)\n",
        "mut_data=pd.Series(mutual_info,index=X_res.columns)\n",
        "mut_data.sort_values(ascending=False)"
      ]
    },
    {
      "cell_type": "code",
      "execution_count": 36,
      "metadata": {
        "colab": {
          "base_uri": "https://localhost:8080/",
          "height": 604
        },
        "id": "BJql2Vyg9AAT",
        "outputId": "10217309-8639-4052-bbf1-7e8af93afc03"
      },
      "outputs": [
        {
          "output_type": "display_data",
          "data": {
            "image/png": "[encoded data removed]",
            "text/plain": [
              "<Figure size 1440x576 with 1 Axes>"
            ]
          },
          "metadata": {
            "needs_background": "light"
          }
        }
      ],
      "source": [
        "mut_data.sort_values(ascending=False).plot.bar(figsize=(20,8))\n",
        "plt.show()"
      ]
    },
    {
      "cell_type": "code",
      "execution_count": 37,
      "metadata": {
        "colab": {
          "base_uri": "https://localhost:8080/"
        },
        "id": "0MV4oipXQ6mJ",
        "outputId": "f989b433-db05-4788-9c0c-df03bad81fde"
      },
      "outputs": [
        {
          "output_type": "execute_result",
          "data": {
            "text/plain": [
              "SelectKBest(k=45, score_func=<function mutual_info_classif at 0x7f433479b4d0>)"
            ]
          },
          "metadata": {},
          "execution_count": 37
        }
      ],
      "source": [
        "from sklearn.feature_selection import SelectKBest\n",
        "\n",
        "sel_top_cols= SelectKBest(mutual_info_classif,k=45)\n",
        "sel_top_cols.fit(X_res,y_res)"
      ]
    },
    {
      "cell_type": "code",
      "execution_count": 38,
      "metadata": {
        "colab": {
          "base_uri": "https://localhost:8080/"
        },
        "id": "bxWQUe_DSg4E",
        "outputId": "19da8c75-764b-44cf-abb0-5727ddfc6f34"
      },
      "outputs": [
        {
          "output_type": "stream",
          "name": "stdout",
          "text": [
            "22\n"
          ]
        }
      ],
      "source": [
        "eliminate_cols=[col for col in X_res.columns\n",
        "                if col not in X_res.columns[sel_top_cols.get_support()]]\n",
        "\n",
        "print(len(eliminate_cols))"
      ]
    },
    {
      "cell_type": "code",
      "execution_count": 39,
      "metadata": {
        "id": "I-hVA67F_FtH"
      },
      "outputs": [],
      "source": [
        "X_res.drop(eliminate_cols,axis=1,inplace=True)\n",
        "X_val_r.drop(eliminate_cols,axis=1,inplace=True)"
      ]
    },
    {
      "cell_type": "code",
      "source": [
        "test_df.drop(eliminate_cols,axis=1,inplace=True)"
      ],
      "metadata": {
        "id": "QypT1AjHijag"
      },
      "execution_count": 40,
      "outputs": []
    },
    {
      "cell_type": "code",
      "execution_count": 41,
      "metadata": {
        "id": "ayFHDcXqC8A4"
      },
      "outputs": [],
      "source": [
        "from lightgbm import LGBMClassifier\n",
        "from xgboost import XGBClassifier\n",
        "from sklearn.ensemble import RandomForestClassifier\n",
        "from sklearn.ensemble import StackingClassifier\n",
        "from sklearn.model_selection import RandomizedSearchCV"
      ]
    },
    {
      "cell_type": "markdown",
      "metadata": {
        "id": "iE67vAVuJpHx"
      },
      "source": [
        "### **Treat outliers**"
      ]
    },
    {
      "cell_type": "markdown",
      "source": [
        " To eliminate outliers or not to is entirely upto you, as it is not black and white that eliminating outliers is necessary , there are a lot of grey areas where outliers prove to be very useful in contributing towards predictive accuracy."
      ],
      "metadata": {
        "id": "Y2TI1HxgoZXo"
      }
    },
    {
      "cell_type": "code",
      "source": [
        "res=pd.concat([X_res,y_res],axis=1)\n",
        "res.shape"
      ],
      "metadata": {
        "colab": {
          "base_uri": "https://localhost:8080/"
        },
        "id": "yS7VRC-nVvA6",
        "outputId": "c8688f96-f16f-40d3-f69b-14fe1580b40a"
      },
      "execution_count": 42,
      "outputs": [
        {
          "output_type": "execute_result",
          "data": {
            "text/plain": [
              "(48000, 46)"
            ]
          },
          "metadata": {},
          "execution_count": 42
        }
      ]
    },
    {
      "cell_type": "code",
      "execution_count": 43,
      "metadata": {
        "colab": {
          "base_uri": "https://localhost:8080/"
        },
        "id": "CmwAdT6KYrId",
        "outputId": "cee1092d-5170-4cfa-e834-80874c6c0d9a"
      },
      "outputs": [
        {
          "output_type": "execute_result",
          "data": {
            "text/plain": [
              "count    48000.000000\n",
              "mean         6.826990\n",
              "std          5.893675\n",
              "min          0.380000\n",
              "25%          3.500000\n",
              "50%          5.780000\n",
              "75%          8.560000\n",
              "max         62.340000\n",
              "Name: cap-diameter, dtype: float64"
            ]
          },
          "metadata": {},
          "execution_count": 43
        }
      ],
      "source": [
        "res['cap-diameter'].describe()"
      ]
    },
    {
      "cell_type": "code",
      "execution_count": 44,
      "metadata": {
        "colab": {
          "base_uri": "https://localhost:8080/",
          "height": 351
        },
        "id": "i_Ao4-5VJ1YA",
        "outputId": "7152bb4d-6d75-4c23-d2ac-25bea953f3a4"
      },
      "outputs": [
        {
          "output_type": "stream",
          "name": "stderr",
          "text": [
            "/usr/local/lib/python3.7/dist-packages/seaborn/_decorators.py:43: FutureWarning: Pass the following variable as a keyword arg: x. From version 0.12, the only valid positional argument will be `data`, and passing other arguments without an explicit keyword will result in an error or misinterpretation.\n",
            "  FutureWarning\n"
          ]
        },
        {
          "output_type": "execute_result",
          "data": {
            "text/plain": [
              "<matplotlib.axes._subplots.AxesSubplot at 0x7f4333dc4710>"
            ]
          },
          "metadata": {},
          "execution_count": 44
        },
        {
          "output_type": "display_data",
          "data": {
            "image/png": "[encoded data removed]",
            "text/plain": [
              "<Figure size 432x288 with 1 Axes>"
            ]
          },
          "metadata": {
            "needs_background": "light"
          }
        }
      ],
      "source": [
        "sns.boxplot(res['cap-diameter'])"
      ]
    },
    {
      "cell_type": "code",
      "source": [
        "def remove_outliers(data,feature):\n",
        "  Q1= np.percentile(data[feature],25,interpolation='midpoint')\n",
        "  Q3= np.percentile(data[feature],75,interpolation='midpoint')\n",
        "  IQR= Q3-Q1\n",
        "  print('Records before',data.shape[0])\n",
        "  upper= np.where(data[feature]>=(Q3+1.5*IQR))\n",
        "  lower= np.where(data[feature]<=(Q1-1.5*IQR))\n",
        "\n",
        "  data.drop(upper[0],inplace=True)\n",
        "  data.drop(lower[0],inplace=True)\n",
        "\n",
        "  print('Records after outlier elimination',data.shape[0])\n"
      ],
      "metadata": {
        "id": "wWVphsCMFM7x"
      },
      "execution_count": 45,
      "outputs": []
    },
    {
      "cell_type": "code",
      "source": [
        "remove_outliers(res,'cap-diameter')"
      ],
      "metadata": {
        "colab": {
          "base_uri": "https://localhost:8080/"
        },
        "id": "RfFi-oy3Ityz",
        "outputId": "a2228f12-7aa0-4d02-d19d-ded0e3909b86"
      },
      "execution_count": 46,
      "outputs": [
        {
          "output_type": "stream",
          "name": "stdout",
          "text": [
            "Records before 48000\n",
            "Records after outlier elimination 46092\n"
          ]
        }
      ]
    },
    {
      "cell_type": "code",
      "source": [
        "sns.boxplot(res['cap-diameter'])"
      ],
      "metadata": {
        "colab": {
          "base_uri": "https://localhost:8080/",
          "height": 351
        },
        "id": "Eds8lnlKJBdh",
        "outputId": "f899900d-a0a7-403e-a9b3-28b9150ad784"
      },
      "execution_count": 47,
      "outputs": [
        {
          "output_type": "stream",
          "name": "stderr",
          "text": [
            "/usr/local/lib/python3.7/dist-packages/seaborn/_decorators.py:43: FutureWarning: Pass the following variable as a keyword arg: x. From version 0.12, the only valid positional argument will be `data`, and passing other arguments without an explicit keyword will result in an error or misinterpretation.\n",
            "  FutureWarning\n"
          ]
        },
        {
          "output_type": "execute_result",
          "data": {
            "text/plain": [
              "<matplotlib.axes._subplots.AxesSubplot at 0x7f432b2388d0>"
            ]
          },
          "metadata": {},
          "execution_count": 47
        },
        {
          "output_type": "display_data",
          "data": {
            "image/png": "[encoded data removed]",
            "text/plain": [
              "<Figure size 432x288 with 1 Axes>"
            ]
          },
          "metadata": {
            "needs_background": "light"
          }
        }
      ]
    },
    {
      "cell_type": "code",
      "source": [
        "sns.boxplot(res['stem-height'])"
      ],
      "metadata": {
        "colab": {
          "base_uri": "https://localhost:8080/",
          "height": 351
        },
        "id": "qtpWV-jh_JB_",
        "outputId": "d0619b66-1382-401a-b4ed-3dc9a47ddbca"
      },
      "execution_count": 48,
      "outputs": [
        {
          "output_type": "stream",
          "name": "stderr",
          "text": [
            "/usr/local/lib/python3.7/dist-packages/seaborn/_decorators.py:43: FutureWarning: Pass the following variable as a keyword arg: x. From version 0.12, the only valid positional argument will be `data`, and passing other arguments without an explicit keyword will result in an error or misinterpretation.\n",
            "  FutureWarning\n"
          ]
        },
        {
          "output_type": "execute_result",
          "data": {
            "text/plain": [
              "<matplotlib.axes._subplots.AxesSubplot at 0x7f432b1bcdd0>"
            ]
          },
          "metadata": {},
          "execution_count": 48
        },
        {
          "output_type": "display_data",
          "data": {
            "image/png": "[encoded data removed]",
            "text/plain": [
              "<Figure size 432x288 with 1 Axes>"
            ]
          },
          "metadata": {
            "needs_background": "light"
          }
        }
      ]
    },
    {
      "cell_type": "code",
      "source": [
        "res['stem-height'].describe()"
      ],
      "metadata": {
        "colab": {
          "base_uri": "https://localhost:8080/"
        },
        "id": "sW0HYd2vMm6G",
        "outputId": "54571e22-b077-4108-ea00-070182b48ee5"
      },
      "execution_count": 49,
      "outputs": [
        {
          "output_type": "execute_result",
          "data": {
            "text/plain": [
              "count    46092.000000\n",
              "mean         2.433646\n",
              "std          0.644826\n",
              "min          0.000000\n",
              "25%          2.137756\n",
              "50%          2.426932\n",
              "75%          2.744085\n",
              "max          5.523586\n",
              "Name: stem-height, dtype: float64"
            ]
          },
          "metadata": {},
          "execution_count": 49
        }
      ]
    },
    {
      "cell_type": "code",
      "source": [
        "percentile25 = res['stem-height'].quantile(0.25)\n",
        "percentile75 = res['stem-height'].quantile(0.75)\n",
        "iqr= percentile75 - percentile25\n",
        "upper_limit = percentile75 + 1.5 * iqr\n",
        "lower_limit = percentile25 - 1.5 * iqr\n",
        "\n",
        "res= res[(res['stem-height']< upper_limit) & (res['stem-height']>lower_limit)]\n",
        "res.shape[0]"
      ],
      "metadata": {
        "colab": {
          "base_uri": "https://localhost:8080/"
        },
        "id": "0n4uZDpMM2hE",
        "outputId": "a7cea181-a63d-4f9b-88a3-eaf06d6c1a88"
      },
      "execution_count": 50,
      "outputs": [
        {
          "output_type": "execute_result",
          "data": {
            "text/plain": [
              "43448"
            ]
          },
          "metadata": {},
          "execution_count": 50
        }
      ]
    },
    {
      "cell_type": "code",
      "source": [
        "sns.boxplot(res['stem-height'])"
      ],
      "metadata": {
        "colab": {
          "base_uri": "https://localhost:8080/",
          "height": 351
        },
        "id": "EChS4qS3Ab3c",
        "outputId": "fb4f7e30-0691-41c5-bcdf-582036c41942"
      },
      "execution_count": 51,
      "outputs": [
        {
          "output_type": "stream",
          "name": "stderr",
          "text": [
            "/usr/local/lib/python3.7/dist-packages/seaborn/_decorators.py:43: FutureWarning: Pass the following variable as a keyword arg: x. From version 0.12, the only valid positional argument will be `data`, and passing other arguments without an explicit keyword will result in an error or misinterpretation.\n",
            "  FutureWarning\n"
          ]
        },
        {
          "output_type": "execute_result",
          "data": {
            "text/plain": [
              "<matplotlib.axes._subplots.AxesSubplot at 0x7f432b192d10>"
            ]
          },
          "metadata": {},
          "execution_count": 51
        },
        {
          "output_type": "display_data",
          "data": {
            "image/png": "[encoded data removed]",
            "text/plain": [
              "<Figure size 432x288 with 1 Axes>"
            ]
          },
          "metadata": {
            "needs_background": "light"
          }
        }
      ]
    },
    {
      "cell_type": "code",
      "source": [
        "sns.boxplot(res['stem-width'])"
      ],
      "metadata": {
        "colab": {
          "base_uri": "https://localhost:8080/",
          "height": 351
        },
        "id": "5EtGPkItA1Jz",
        "outputId": "fd110579-e4ea-42d0-e3a8-684ed5f50a54"
      },
      "execution_count": 52,
      "outputs": [
        {
          "output_type": "stream",
          "name": "stderr",
          "text": [
            "/usr/local/lib/python3.7/dist-packages/seaborn/_decorators.py:43: FutureWarning: Pass the following variable as a keyword arg: x. From version 0.12, the only valid positional argument will be `data`, and passing other arguments without an explicit keyword will result in an error or misinterpretation.\n",
            "  FutureWarning\n"
          ]
        },
        {
          "output_type": "execute_result",
          "data": {
            "text/plain": [
              "<matplotlib.axes._subplots.AxesSubplot at 0x7f432b101650>"
            ]
          },
          "metadata": {},
          "execution_count": 52
        },
        {
          "output_type": "display_data",
          "data": {
            "image/png": "[encoded data removed]",
            "text/plain": [
              "<Figure size 432x288 with 1 Axes>"
            ]
          },
          "metadata": {
            "needs_background": "light"
          }
        }
      ]
    },
    {
      "cell_type": "code",
      "source": [
        "percentile25 = res['stem-width'].quantile(0.25)\n",
        "percentile75 = res['stem-width'].quantile(0.75)\n",
        "iqr= percentile75 - percentile25\n",
        "upper_limit = percentile75 + 1.5 * iqr\n",
        "lower_limit = percentile25 - 1.5 * iqr\n",
        "\n",
        "res= res[(res['stem-width']< upper_limit) & (res['stem-width']>lower_limit)]\n",
        "res.shape[0]"
      ],
      "metadata": {
        "colab": {
          "base_uri": "https://localhost:8080/"
        },
        "id": "KnaeOh4zPEdM",
        "outputId": "dabe8cc6-eb6a-4f10-c086-d0309e714de8"
      },
      "execution_count": 53,
      "outputs": [
        {
          "output_type": "execute_result",
          "data": {
            "text/plain": [
              "43275"
            ]
          },
          "metadata": {},
          "execution_count": 53
        }
      ]
    },
    {
      "cell_type": "code",
      "source": [
        "res.columns"
      ],
      "metadata": {
        "colab": {
          "base_uri": "https://localhost:8080/"
        },
        "id": "7di4XuZXW5VY",
        "outputId": "7224890b-3152-4f4d-b363-ac4e68883c01"
      },
      "execution_count": 54,
      "outputs": [
        {
          "output_type": "execute_result",
          "data": {
            "text/plain": [
              "Index(['cap-diameter', 'stem-height', 'stem-width', 'stem-ratio',\n",
              "       'does-bruise-or-bleed_t', 'edible-poisonous_p', 'gill-color_e',\n",
              "       'gill-color_f', 'gill-color_o', 'gill-color_p', 'gill-color_w',\n",
              "       'gill-color_y', 'stem-color_e', 'stem-color_f', 'stem-color_g',\n",
              "       'stem-color_k', 'stem-color_n', 'stem-color_p', 'stem-color_u',\n",
              "       'stem-color_w', 'stem-color_y', 'has-ring_t', 'habitat_m', 'habitat_u',\n",
              "       'cap-shape_c', 'cap-shape_f', 'cap-shape_o', 'cap-shape_p',\n",
              "       'cap-shape_s', 'cap-shape_x', 'gill-attachment_random_d',\n",
              "       'gill-attachment_random_f', 'gill-attachment_random_p',\n",
              "       'gill-attachment_random_s', 'gill-attachment_random_x',\n",
              "       'ring-type_random_f', 'ring-type_random_m', 'ring-type_random_p',\n",
              "       'ring-type_random_z', 'cap-color_g', 'cap-color_l', 'cap-color_o',\n",
              "       'cap-color_p', 'cap-color_r', 'cap-color_u', 'season'],\n",
              "      dtype='object')"
            ]
          },
          "metadata": {},
          "execution_count": 54
        }
      ]
    },
    {
      "cell_type": "code",
      "source": [
        "X_res_1= res.drop('season',axis=1)\n",
        "y_res_1= res['season']\n",
        "print(X_res_1.shape)\n",
        "print(y_res_1.shape)"
      ],
      "metadata": {
        "colab": {
          "base_uri": "https://localhost:8080/"
        },
        "id": "OONyeE6EPi8A",
        "outputId": "6382763b-77f4-44d8-fc50-35c4fdff1471"
      },
      "execution_count": 55,
      "outputs": [
        {
          "output_type": "stream",
          "name": "stdout",
          "text": [
            "(43275, 45)\n",
            "(43275,)\n"
          ]
        }
      ]
    },
    {
      "cell_type": "markdown",
      "source": [
        "### **Modelling**"
      ],
      "metadata": {
        "id": "ghmtb7Ag-8cH"
      }
    },
    {
      "cell_type": "markdown",
      "source": [
        "LGBM Classifier"
      ],
      "metadata": {
        "id": "13mHo2nZpTIJ"
      }
    },
    {
      "cell_type": "code",
      "source": [
        "X_val.drop(eliminate_cols,axis=1,inplace=True)"
      ],
      "metadata": {
        "id": "USVDiPjqqDfB"
      },
      "execution_count": 57,
      "outputs": []
    },
    {
      "cell_type": "code",
      "execution_count": 58,
      "metadata": {
        "colab": {
          "base_uri": "https://localhost:8080/"
        },
        "id": "PNFyVisaE4mf",
        "outputId": "1450860f-4242-47b1-f562-64bac744932e"
      },
      "outputs": [
        {
          "output_type": "execute_result",
          "data": {
            "text/plain": [
              "0.5111111111111111"
            ]
          },
          "metadata": {},
          "execution_count": 58
        }
      ],
      "source": [
        "# Without outliers\n",
        "lgb=LGBMClassifier(learning_rate=0.1,n_estimators=500,reg_lambda=0.7)\n",
        "lgb.fit(X_res_1,y_res_1)\n",
        "y_pred_lgb=lgb.predict(X_val)\n",
        "accuracy_score(y_val,y_pred_lgb)"
      ]
    },
    {
      "cell_type": "code",
      "source": [
        "# With outliers\n",
        "lgb=LGBMClassifier(learning_rate=0.1,n_estimators=500,reg_lambda=0.7)\n",
        "lgb.fit(X_res,y_res)\n",
        "y_pred_lgb=lgb.predict(X_val)\n",
        "accuracy_score(y_val,y_pred_lgb)"
      ],
      "metadata": {
        "colab": {
          "base_uri": "https://localhost:8080/"
        },
        "id": "P2imLudLqyY8",
        "outputId": "1e8d38da-9106-4b7f-bd6f-cd726c175e3e"
      },
      "execution_count": 59,
      "outputs": [
        {
          "output_type": "execute_result",
          "data": {
            "text/plain": [
              "0.5171929824561403"
            ]
          },
          "metadata": {},
          "execution_count": 59
        }
      ]
    },
    {
      "cell_type": "markdown",
      "source": [
        "Random Forest Classifier"
      ],
      "metadata": {
        "id": "95pNrbmUrLgw"
      }
    },
    {
      "cell_type": "code",
      "execution_count": 60,
      "metadata": {
        "colab": {
          "base_uri": "https://localhost:8080/"
        },
        "id": "0It9XKhUGbTP",
        "outputId": "f5b5788d-43a0-46c0-e075-4ee8fad01517"
      },
      "outputs": [
        {
          "output_type": "execute_result",
          "data": {
            "text/plain": [
              "0.5164912280701754"
            ]
          },
          "metadata": {},
          "execution_count": 60
        }
      ],
      "source": [
        "# Without outliers\n",
        "rf= RandomForestClassifier(n_estimators=600,criterion='entropy',max_features='log2')\n",
        "rf.fit(X_res_1,y_res_1)\n",
        "y_pred_rf=rf.predict(X_val)\n",
        "accuracy_score(y_val,y_pred_rf)"
      ]
    },
    {
      "cell_type": "code",
      "execution_count": 61,
      "metadata": {
        "colab": {
          "base_uri": "https://localhost:8080/"
        },
        "id": "R7Whp3YRADvH",
        "outputId": "e3f70fb9-e693-4e60-9938-940c58cb5ea6"
      },
      "outputs": [
        {
          "output_type": "execute_result",
          "data": {
            "text/plain": [
              "0.5207797270955166"
            ]
          },
          "metadata": {},
          "execution_count": 61
        }
      ],
      "source": [
        "# with outliers\n",
        "rf1= RandomForestClassifier(n_estimators=600,criterion='entropy',max_features='log2')\n",
        "rf1.fit(X_res,y_res)\n",
        "y_pred_rf1= rf1.predict(X_val)\n",
        "accuracy_score(y_val,y_pred_rf1)"
      ]
    },
    {
      "cell_type": "code",
      "execution_count": 62,
      "metadata": {
        "colab": {
          "base_uri": "https://localhost:8080/"
        },
        "id": "McCGmMThxqDb",
        "outputId": "fda69d26-7e4d-409d-9e50-9236149bee41"
      },
      "outputs": [
        {
          "output_type": "execute_result",
          "data": {
            "text/plain": [
              "cap-diameter                0.185572\n",
              "stem-width                  0.178265\n",
              "stem-ratio                  0.176085\n",
              "stem-height                 0.151531\n",
              "edible-poisonous_p          0.023967\n",
              "does-bruise-or-bleed_t      0.017316\n",
              "gill-color_w                0.015899\n",
              "stem-color_w                0.015834\n",
              "stem-color_n                0.015089\n",
              "cap-shape_x                 0.013509\n",
              "has-ring_t                  0.012406\n",
              "gill-attachment_random_d    0.012079\n",
              "gill-attachment_random_s    0.012046\n",
              "gill-attachment_random_x    0.012037\n",
              "stem-color_y                0.010357\n",
              "cap-shape_f                 0.009932\n",
              "gill-attachment_random_p    0.009707\n",
              "gill-color_f                0.009491\n",
              "cap-shape_s                 0.008989\n",
              "cap-shape_o                 0.008811\n",
              "ring-type_random_f          0.008588\n",
              "gill-color_y                0.008486\n",
              "gill-attachment_random_f    0.008122\n",
              "gill-color_p                0.007721\n",
              "cap-color_g                 0.006944\n",
              "ring-type_random_z          0.006698\n",
              "cap-color_o                 0.006146\n",
              "cap-shape_c                 0.006135\n",
              "habitat_m                   0.005383\n",
              "gill-color_o                0.004772\n",
              "cap-shape_p                 0.004608\n",
              "stem-color_g                0.003100\n",
              "cap-color_p                 0.002781\n",
              "stem-color_p                0.002722\n",
              "stem-color_e                0.002709\n",
              "stem-color_u                0.002546\n",
              "cap-color_r                 0.002472\n",
              "cap-color_u                 0.002322\n",
              "stem-color_k                0.002229\n",
              "gill-color_e                0.001530\n",
              "cap-color_l                 0.001413\n",
              "stem-color_f                0.001266\n",
              "ring-type_random_p          0.001137\n",
              "ring-type_random_m          0.000670\n",
              "habitat_u                   0.000581\n",
              "dtype: float64"
            ]
          },
          "metadata": {},
          "execution_count": 62
        }
      ],
      "source": [
        "pd.Series(rf1.feature_importances_,index=X_res.columns).sort_values(ascending=False)"
      ]
    },
    {
      "cell_type": "markdown",
      "source": [
        "XGBoost Classifier"
      ],
      "metadata": {
        "id": "Ek6MOBHTtDn1"
      }
    },
    {
      "cell_type": "code",
      "execution_count": 63,
      "metadata": {
        "colab": {
          "base_uri": "https://localhost:8080/"
        },
        "id": "Qf7pBDjIFfSY",
        "outputId": "92c60d05-7b4e-44d7-ca06-fe9b2b148b5c"
      },
      "outputs": [
        {
          "output_type": "execute_result",
          "data": {
            "text/plain": [
              "0.5061208576998051"
            ]
          },
          "metadata": {},
          "execution_count": 63
        }
      ],
      "source": [
        "# Without outliers\n",
        "xgb=XGBClassifier(n_estimators=300,objective='multi:softmax')\n",
        "xgb.fit(X_res_1,y_res_1)\n",
        "y_xgb= xgb.predict(X_val)\n",
        "accuracy_score(y_val,y_xgb)"
      ]
    },
    {
      "cell_type": "code",
      "source": [
        "# With outliers\n",
        "xgb=XGBClassifier(n_estimators=300,objective='multi:softmax')\n",
        "xgb.fit(X_res,y_res)\n",
        "y_xgb= xgb.predict(X_val)\n",
        "accuracy_score(y_val,y_xgb)"
      ],
      "metadata": {
        "colab": {
          "base_uri": "https://localhost:8080/"
        },
        "id": "r0nBngGEuUei",
        "outputId": "5eced730-5b90-4a94-d7e5-612bcdcb3522"
      },
      "execution_count": 64,
      "outputs": [
        {
          "output_type": "execute_result",
          "data": {
            "text/plain": [
              "0.5083040935672515"
            ]
          },
          "metadata": {},
          "execution_count": 64
        }
      ]
    },
    {
      "cell_type": "code",
      "execution_count": 65,
      "metadata": {
        "colab": {
          "base_uri": "https://localhost:8080/"
        },
        "id": "vT1IyV4e4W-j",
        "outputId": "efe1b6bd-2c87-4a8f-b2ca-c77efe791935"
      },
      "outputs": [
        {
          "output_type": "stream",
          "name": "stdout",
          "text": [
            "Collecting catboost\n",
            "  Downloading catboost-1.0.4-cp37-none-manylinux1_x86_64.whl (76.1 MB)\n",
            "\u001b[K     |████████████████████████████████| 76.1 MB 51 kB/s \n",
            "\u001b[?25hRequirement already satisfied: numpy>=1.16.0 in /usr/local/lib/python3.7/dist-packages (from catboost) (1.19.5)\n",
            "Requirement already satisfied: scipy in /usr/local/lib/python3.7/dist-packages (from catboost) (1.4.1)\n",
            "Requirement already satisfied: six in /usr/local/lib/python3.7/dist-packages (from catboost) (1.15.0)\n",
            "Requirement already satisfied: graphviz in /usr/local/lib/python3.7/dist-packages (from catboost) (0.10.1)\n",
            "Requirement already satisfied: plotly in /usr/local/lib/python3.7/dist-packages (from catboost) (4.4.1)\n",
            "Requirement already satisfied: pandas>=0.24.0 in /usr/local/lib/python3.7/dist-packages (from catboost) (1.1.5)\n",
            "Requirement already satisfied: matplotlib in /usr/local/lib/python3.7/dist-packages (from catboost) (3.2.2)\n",
            "Requirement already satisfied: python-dateutil>=2.7.3 in /usr/local/lib/python3.7/dist-packages (from pandas>=0.24.0->catboost) (2.8.2)\n",
            "Requirement already satisfied: pytz>=2017.2 in /usr/local/lib/python3.7/dist-packages (from pandas>=0.24.0->catboost) (2018.9)\n",
            "Requirement already satisfied: cycler>=0.10 in /usr/local/lib/python3.7/dist-packages (from matplotlib->catboost) (0.11.0)\n",
            "Requirement already satisfied: pyparsing!=2.0.4,!=2.1.2,!=2.1.6,>=2.0.1 in /usr/local/lib/python3.7/dist-packages (from matplotlib->catboost) (3.0.6)\n",
            "Requirement already satisfied: kiwisolver>=1.0.1 in /usr/local/lib/python3.7/dist-packages (from matplotlib->catboost) (1.3.2)\n",
            "Requirement already satisfied: retrying>=1.3.3 in /usr/local/lib/python3.7/dist-packages (from plotly->catboost) (1.3.3)\n",
            "Installing collected packages: catboost\n",
            "Successfully installed catboost-1.0.4\n"
          ]
        }
      ],
      "source": [
        "!pip install catboost"
      ]
    },
    {
      "cell_type": "code",
      "execution_count": 66,
      "metadata": {
        "id": "ET5aRn1r4mXi"
      },
      "outputs": [],
      "source": [
        "from catboost import CatBoostClassifier"
      ]
    },
    {
      "cell_type": "code",
      "execution_count": 67,
      "metadata": {
        "colab": {
          "base_uri": "https://localhost:8080/"
        },
        "id": "g5As08JS4z8q",
        "outputId": "9458a5da-2c04-4b07-a309-227caf41653b"
      },
      "outputs": [
        {
          "output_type": "stream",
          "name": "stdout",
          "text": [
            "Learning rate set to 0.09589\n",
            "0:\tlearn: 1.3383245\ttotal: 108ms\tremaining: 1m 47s\n",
            "1:\tlearn: 1.3009713\ttotal: 168ms\tremaining: 1m 23s\n",
            "2:\tlearn: 1.2665883\ttotal: 236ms\tremaining: 1m 18s\n",
            "3:\tlearn: 1.2406747\ttotal: 299ms\tremaining: 1m 14s\n",
            "4:\tlearn: 1.2148065\ttotal: 349ms\tremaining: 1m 9s\n",
            "5:\tlearn: 1.1924365\ttotal: 414ms\tremaining: 1m 8s\n",
            "6:\tlearn: 1.1725611\ttotal: 487ms\tremaining: 1m 9s\n",
            "7:\tlearn: 1.1554742\ttotal: 544ms\tremaining: 1m 7s\n",
            "8:\tlearn: 1.1381633\ttotal: 612ms\tremaining: 1m 7s\n",
            "9:\tlearn: 1.1228705\ttotal: 672ms\tremaining: 1m 6s\n",
            "10:\tlearn: 1.1088160\ttotal: 733ms\tremaining: 1m 5s\n",
            "11:\tlearn: 1.0966086\ttotal: 787ms\tremaining: 1m 4s\n",
            "12:\tlearn: 1.0830188\ttotal: 850ms\tremaining: 1m 4s\n",
            "13:\tlearn: 1.0715641\ttotal: 898ms\tremaining: 1m 3s\n",
            "14:\tlearn: 1.0598096\ttotal: 940ms\tremaining: 1m 1s\n",
            "15:\tlearn: 1.0510153\ttotal: 998ms\tremaining: 1m 1s\n",
            "16:\tlearn: 1.0433543\ttotal: 1.03s\tremaining: 59.8s\n",
            "17:\tlearn: 1.0354880\ttotal: 1.08s\tremaining: 59.2s\n",
            "18:\tlearn: 1.0276689\ttotal: 1.14s\tremaining: 58.7s\n",
            "19:\tlearn: 1.0221438\ttotal: 1.19s\tremaining: 58.3s\n",
            "20:\tlearn: 1.0143755\ttotal: 1.27s\tremaining: 59.2s\n",
            "21:\tlearn: 1.0066071\ttotal: 1.3s\tremaining: 57.8s\n",
            "22:\tlearn: 0.9989051\ttotal: 1.33s\tremaining: 56.7s\n",
            "23:\tlearn: 0.9920356\ttotal: 1.4s\tremaining: 57.1s\n",
            "24:\tlearn: 0.9854807\ttotal: 1.44s\tremaining: 56.2s\n",
            "25:\tlearn: 0.9804176\ttotal: 1.47s\tremaining: 55.2s\n",
            "26:\tlearn: 0.9741364\ttotal: 1.51s\tremaining: 54.5s\n",
            "27:\tlearn: 0.9689041\ttotal: 1.55s\tremaining: 53.8s\n",
            "28:\tlearn: 0.9629698\ttotal: 1.59s\tremaining: 53.4s\n",
            "29:\tlearn: 0.9579017\ttotal: 1.64s\tremaining: 53s\n",
            "30:\tlearn: 0.9531004\ttotal: 1.71s\tremaining: 53.4s\n",
            "31:\tlearn: 0.9479494\ttotal: 1.75s\tremaining: 53s\n",
            "32:\tlearn: 0.9432506\ttotal: 1.82s\tremaining: 53.3s\n",
            "33:\tlearn: 0.9373285\ttotal: 1.87s\tremaining: 53.1s\n",
            "34:\tlearn: 0.9328451\ttotal: 1.94s\tremaining: 53.4s\n",
            "35:\tlearn: 0.9293360\ttotal: 2s\tremaining: 53.7s\n",
            "36:\tlearn: 0.9250486\ttotal: 2.07s\tremaining: 54s\n",
            "37:\tlearn: 0.9217681\ttotal: 2.13s\tremaining: 54s\n",
            "38:\tlearn: 0.9187952\ttotal: 2.19s\tremaining: 54s\n",
            "39:\tlearn: 0.9155208\ttotal: 2.25s\tremaining: 54s\n",
            "40:\tlearn: 0.9133072\ttotal: 2.31s\tremaining: 54s\n",
            "41:\tlearn: 0.9101908\ttotal: 2.36s\tremaining: 53.9s\n",
            "42:\tlearn: 0.9053713\ttotal: 2.43s\tremaining: 54.1s\n",
            "43:\tlearn: 0.9034404\ttotal: 2.49s\tremaining: 54.1s\n",
            "44:\tlearn: 0.9009769\ttotal: 2.54s\tremaining: 53.9s\n",
            "45:\tlearn: 0.8985762\ttotal: 2.6s\tremaining: 54s\n",
            "46:\tlearn: 0.8965444\ttotal: 2.67s\tremaining: 54.1s\n",
            "47:\tlearn: 0.8933995\ttotal: 2.73s\tremaining: 54.1s\n",
            "48:\tlearn: 0.8908471\ttotal: 2.79s\tremaining: 54.2s\n",
            "49:\tlearn: 0.8875830\ttotal: 2.85s\tremaining: 54.2s\n",
            "50:\tlearn: 0.8853262\ttotal: 2.91s\tremaining: 54.1s\n",
            "51:\tlearn: 0.8820131\ttotal: 2.95s\tremaining: 53.8s\n",
            "52:\tlearn: 0.8806565\ttotal: 2.98s\tremaining: 53.3s\n",
            "53:\tlearn: 0.8787174\ttotal: 3.03s\tremaining: 53.1s\n",
            "54:\tlearn: 0.8744628\ttotal: 3.08s\tremaining: 53s\n",
            "55:\tlearn: 0.8723434\ttotal: 3.15s\tremaining: 53.1s\n",
            "56:\tlearn: 0.8697276\ttotal: 3.19s\tremaining: 52.9s\n",
            "57:\tlearn: 0.8680330\ttotal: 3.23s\tremaining: 52.5s\n",
            "58:\tlearn: 0.8658403\ttotal: 3.31s\tremaining: 52.7s\n",
            "59:\tlearn: 0.8642018\ttotal: 3.34s\tremaining: 52.3s\n",
            "60:\tlearn: 0.8625320\ttotal: 3.4s\tremaining: 52.4s\n",
            "61:\tlearn: 0.8605133\ttotal: 3.46s\tremaining: 52.4s\n",
            "62:\tlearn: 0.8585301\ttotal: 3.52s\tremaining: 52.3s\n",
            "63:\tlearn: 0.8572486\ttotal: 3.55s\tremaining: 51.9s\n",
            "64:\tlearn: 0.8550449\ttotal: 3.6s\tremaining: 51.7s\n",
            "65:\tlearn: 0.8531979\ttotal: 3.67s\tremaining: 51.9s\n",
            "66:\tlearn: 0.8516295\ttotal: 3.72s\tremaining: 51.8s\n",
            "67:\tlearn: 0.8494138\ttotal: 3.75s\tremaining: 51.5s\n",
            "68:\tlearn: 0.8465545\ttotal: 3.79s\tremaining: 51.2s\n",
            "69:\tlearn: 0.8456507\ttotal: 3.83s\tremaining: 50.8s\n",
            "70:\tlearn: 0.8437567\ttotal: 3.87s\tremaining: 50.6s\n",
            "71:\tlearn: 0.8419140\ttotal: 3.92s\tremaining: 50.6s\n",
            "72:\tlearn: 0.8406369\ttotal: 3.98s\tremaining: 50.5s\n",
            "73:\tlearn: 0.8397135\ttotal: 4.03s\tremaining: 50.5s\n",
            "74:\tlearn: 0.8378301\ttotal: 4.1s\tremaining: 50.5s\n",
            "75:\tlearn: 0.8364118\ttotal: 4.16s\tremaining: 50.6s\n",
            "76:\tlearn: 0.8350767\ttotal: 4.22s\tremaining: 50.6s\n",
            "77:\tlearn: 0.8342297\ttotal: 4.28s\tremaining: 50.6s\n",
            "78:\tlearn: 0.8330027\ttotal: 4.32s\tremaining: 50.4s\n",
            "79:\tlearn: 0.8317591\ttotal: 4.41s\tremaining: 50.7s\n",
            "80:\tlearn: 0.8307622\ttotal: 4.48s\tremaining: 50.8s\n",
            "81:\tlearn: 0.8287589\ttotal: 4.55s\tremaining: 51s\n",
            "82:\tlearn: 0.8272264\ttotal: 4.63s\tremaining: 51.1s\n",
            "83:\tlearn: 0.8259393\ttotal: 4.67s\tremaining: 50.9s\n",
            "84:\tlearn: 0.8243992\ttotal: 4.72s\tremaining: 50.8s\n",
            "85:\tlearn: 0.8234628\ttotal: 4.77s\tremaining: 50.7s\n",
            "86:\tlearn: 0.8211278\ttotal: 4.82s\tremaining: 50.6s\n",
            "87:\tlearn: 0.8200409\ttotal: 4.86s\tremaining: 50.3s\n",
            "88:\tlearn: 0.8189433\ttotal: 4.89s\tremaining: 50.1s\n",
            "89:\tlearn: 0.8179652\ttotal: 4.93s\tremaining: 49.8s\n",
            "90:\tlearn: 0.8172522\ttotal: 4.98s\tremaining: 49.7s\n",
            "91:\tlearn: 0.8166031\ttotal: 5.01s\tremaining: 49.5s\n",
            "92:\tlearn: 0.8153927\ttotal: 5.05s\tremaining: 49.2s\n",
            "93:\tlearn: 0.8143765\ttotal: 5.09s\tremaining: 49s\n",
            "94:\tlearn: 0.8128608\ttotal: 5.12s\tremaining: 48.8s\n",
            "95:\tlearn: 0.8120535\ttotal: 5.15s\tremaining: 48.5s\n",
            "96:\tlearn: 0.8098355\ttotal: 5.19s\tremaining: 48.3s\n",
            "97:\tlearn: 0.8086249\ttotal: 5.24s\tremaining: 48.2s\n",
            "98:\tlearn: 0.8080368\ttotal: 5.27s\tremaining: 48s\n",
            "99:\tlearn: 0.8071029\ttotal: 5.31s\tremaining: 47.8s\n",
            "100:\tlearn: 0.8062355\ttotal: 5.34s\tremaining: 47.6s\n",
            "101:\tlearn: 0.8045194\ttotal: 5.39s\tremaining: 47.4s\n",
            "102:\tlearn: 0.8038729\ttotal: 5.42s\tremaining: 47.2s\n",
            "103:\tlearn: 0.8026622\ttotal: 5.46s\tremaining: 47.1s\n",
            "104:\tlearn: 0.8017615\ttotal: 5.52s\tremaining: 47.1s\n",
            "105:\tlearn: 0.8011766\ttotal: 5.56s\tremaining: 46.9s\n",
            "106:\tlearn: 0.8004357\ttotal: 5.61s\tremaining: 46.9s\n",
            "107:\tlearn: 0.7996017\ttotal: 5.67s\tremaining: 46.8s\n",
            "108:\tlearn: 0.7985591\ttotal: 5.73s\tremaining: 46.9s\n",
            "109:\tlearn: 0.7979114\ttotal: 5.79s\tremaining: 46.9s\n",
            "110:\tlearn: 0.7969416\ttotal: 5.85s\tremaining: 46.9s\n",
            "111:\tlearn: 0.7962773\ttotal: 5.92s\tremaining: 46.9s\n",
            "112:\tlearn: 0.7951220\ttotal: 5.96s\tremaining: 46.8s\n",
            "113:\tlearn: 0.7943684\ttotal: 6s\tremaining: 46.6s\n",
            "114:\tlearn: 0.7938806\ttotal: 6.03s\tremaining: 46.4s\n",
            "115:\tlearn: 0.7931557\ttotal: 6.1s\tremaining: 46.5s\n",
            "116:\tlearn: 0.7923030\ttotal: 6.18s\tremaining: 46.6s\n",
            "117:\tlearn: 0.7917752\ttotal: 6.21s\tremaining: 46.4s\n",
            "118:\tlearn: 0.7912385\ttotal: 6.24s\tremaining: 46.2s\n",
            "119:\tlearn: 0.7906962\ttotal: 6.27s\tremaining: 46s\n",
            "120:\tlearn: 0.7900927\ttotal: 6.33s\tremaining: 46s\n",
            "121:\tlearn: 0.7894352\ttotal: 6.39s\tremaining: 46s\n",
            "122:\tlearn: 0.7885755\ttotal: 6.44s\tremaining: 45.9s\n",
            "123:\tlearn: 0.7874963\ttotal: 6.5s\tremaining: 45.9s\n",
            "124:\tlearn: 0.7867024\ttotal: 6.54s\tremaining: 45.8s\n",
            "125:\tlearn: 0.7860086\ttotal: 6.58s\tremaining: 45.6s\n",
            "126:\tlearn: 0.7849102\ttotal: 6.63s\tremaining: 45.6s\n",
            "127:\tlearn: 0.7840633\ttotal: 6.68s\tremaining: 45.5s\n",
            "128:\tlearn: 0.7830574\ttotal: 6.75s\tremaining: 45.6s\n",
            "129:\tlearn: 0.7820558\ttotal: 6.82s\tremaining: 45.6s\n",
            "130:\tlearn: 0.7812177\ttotal: 6.88s\tremaining: 45.7s\n",
            "131:\tlearn: 0.7803127\ttotal: 6.93s\tremaining: 45.6s\n",
            "132:\tlearn: 0.7796314\ttotal: 7s\tremaining: 45.6s\n",
            "133:\tlearn: 0.7788553\ttotal: 7.08s\tremaining: 45.8s\n",
            "134:\tlearn: 0.7779983\ttotal: 7.12s\tremaining: 45.6s\n",
            "135:\tlearn: 0.7773757\ttotal: 7.18s\tremaining: 45.6s\n",
            "136:\tlearn: 0.7767641\ttotal: 7.25s\tremaining: 45.6s\n",
            "137:\tlearn: 0.7756388\ttotal: 7.31s\tremaining: 45.6s\n",
            "138:\tlearn: 0.7751957\ttotal: 7.35s\tremaining: 45.5s\n",
            "139:\tlearn: 0.7745109\ttotal: 7.38s\tremaining: 45.3s\n",
            "140:\tlearn: 0.7735141\ttotal: 7.42s\tremaining: 45.2s\n",
            "141:\tlearn: 0.7725671\ttotal: 7.48s\tremaining: 45.2s\n",
            "142:\tlearn: 0.7720252\ttotal: 7.54s\tremaining: 45.2s\n",
            "143:\tlearn: 0.7707511\ttotal: 7.61s\tremaining: 45.2s\n",
            "144:\tlearn: 0.7699721\ttotal: 7.69s\tremaining: 45.4s\n",
            "145:\tlearn: 0.7692756\ttotal: 7.75s\tremaining: 45.4s\n",
            "146:\tlearn: 0.7687507\ttotal: 7.81s\tremaining: 45.3s\n",
            "147:\tlearn: 0.7682332\ttotal: 7.85s\tremaining: 45.2s\n",
            "148:\tlearn: 0.7680497\ttotal: 7.9s\tremaining: 45.1s\n",
            "149:\tlearn: 0.7674458\ttotal: 7.94s\tremaining: 45s\n",
            "150:\tlearn: 0.7665776\ttotal: 8s\tremaining: 45s\n",
            "151:\tlearn: 0.7662123\ttotal: 8.07s\tremaining: 45s\n",
            "152:\tlearn: 0.7659646\ttotal: 8.1s\tremaining: 44.8s\n",
            "153:\tlearn: 0.7650259\ttotal: 8.16s\tremaining: 44.8s\n",
            "154:\tlearn: 0.7646937\ttotal: 8.22s\tremaining: 44.8s\n",
            "155:\tlearn: 0.7643473\ttotal: 8.28s\tremaining: 44.8s\n",
            "156:\tlearn: 0.7638752\ttotal: 8.34s\tremaining: 44.8s\n",
            "157:\tlearn: 0.7633134\ttotal: 8.38s\tremaining: 44.7s\n",
            "158:\tlearn: 0.7625524\ttotal: 8.43s\tremaining: 44.6s\n",
            "159:\tlearn: 0.7622458\ttotal: 8.48s\tremaining: 44.5s\n",
            "160:\tlearn: 0.7617627\ttotal: 8.53s\tremaining: 44.4s\n",
            "161:\tlearn: 0.7611422\ttotal: 8.59s\tremaining: 44.4s\n",
            "162:\tlearn: 0.7608777\ttotal: 8.65s\tremaining: 44.4s\n",
            "163:\tlearn: 0.7601013\ttotal: 8.72s\tremaining: 44.5s\n",
            "164:\tlearn: 0.7594226\ttotal: 8.79s\tremaining: 44.5s\n",
            "165:\tlearn: 0.7588981\ttotal: 8.86s\tremaining: 44.5s\n",
            "166:\tlearn: 0.7582495\ttotal: 8.93s\tremaining: 44.5s\n",
            "167:\tlearn: 0.7579302\ttotal: 8.98s\tremaining: 44.5s\n",
            "168:\tlearn: 0.7574280\ttotal: 9.03s\tremaining: 44.4s\n",
            "169:\tlearn: 0.7568643\ttotal: 9.09s\tremaining: 44.4s\n",
            "170:\tlearn: 0.7560575\ttotal: 9.16s\tremaining: 44.4s\n",
            "171:\tlearn: 0.7554787\ttotal: 9.23s\tremaining: 44.4s\n",
            "172:\tlearn: 0.7545104\ttotal: 9.27s\tremaining: 44.3s\n",
            "173:\tlearn: 0.7540715\ttotal: 9.3s\tremaining: 44.2s\n",
            "174:\tlearn: 0.7536821\ttotal: 9.33s\tremaining: 44s\n",
            "175:\tlearn: 0.7530576\ttotal: 9.4s\tremaining: 44s\n",
            "176:\tlearn: 0.7527428\ttotal: 9.46s\tremaining: 44s\n",
            "177:\tlearn: 0.7523254\ttotal: 9.51s\tremaining: 43.9s\n",
            "178:\tlearn: 0.7518447\ttotal: 9.55s\tremaining: 43.8s\n",
            "179:\tlearn: 0.7511645\ttotal: 9.6s\tremaining: 43.7s\n",
            "180:\tlearn: 0.7507673\ttotal: 9.64s\tremaining: 43.6s\n",
            "181:\tlearn: 0.7502507\ttotal: 9.7s\tremaining: 43.6s\n",
            "182:\tlearn: 0.7497988\ttotal: 9.76s\tremaining: 43.6s\n",
            "183:\tlearn: 0.7493197\ttotal: 9.8s\tremaining: 43.5s\n",
            "184:\tlearn: 0.7488990\ttotal: 9.84s\tremaining: 43.3s\n",
            "185:\tlearn: 0.7486414\ttotal: 9.88s\tremaining: 43.2s\n",
            "186:\tlearn: 0.7481976\ttotal: 9.91s\tremaining: 43.1s\n",
            "187:\tlearn: 0.7478660\ttotal: 9.94s\tremaining: 42.9s\n",
            "188:\tlearn: 0.7476527\ttotal: 9.98s\tremaining: 42.8s\n",
            "189:\tlearn: 0.7472346\ttotal: 10s\tremaining: 42.8s\n",
            "190:\tlearn: 0.7467344\ttotal: 10.1s\tremaining: 42.7s\n",
            "191:\tlearn: 0.7460704\ttotal: 10.1s\tremaining: 42.7s\n",
            "192:\tlearn: 0.7455680\ttotal: 10.2s\tremaining: 42.7s\n",
            "193:\tlearn: 0.7452132\ttotal: 10.3s\tremaining: 42.6s\n",
            "194:\tlearn: 0.7450286\ttotal: 10.3s\tremaining: 42.6s\n",
            "195:\tlearn: 0.7446477\ttotal: 10.4s\tremaining: 42.6s\n",
            "196:\tlearn: 0.7442606\ttotal: 10.4s\tremaining: 42.6s\n",
            "197:\tlearn: 0.7440215\ttotal: 10.5s\tremaining: 42.5s\n",
            "198:\tlearn: 0.7436426\ttotal: 10.5s\tremaining: 42.4s\n",
            "199:\tlearn: 0.7431712\ttotal: 10.6s\tremaining: 42.2s\n",
            "200:\tlearn: 0.7428299\ttotal: 10.6s\tremaining: 42.1s\n",
            "201:\tlearn: 0.7426445\ttotal: 10.6s\tremaining: 42s\n",
            "202:\tlearn: 0.7422502\ttotal: 10.7s\tremaining: 41.8s\n",
            "203:\tlearn: 0.7419585\ttotal: 10.7s\tremaining: 41.8s\n",
            "204:\tlearn: 0.7416968\ttotal: 10.8s\tremaining: 41.8s\n",
            "205:\tlearn: 0.7412757\ttotal: 10.8s\tremaining: 41.7s\n",
            "206:\tlearn: 0.7408390\ttotal: 10.9s\tremaining: 41.6s\n",
            "207:\tlearn: 0.7405983\ttotal: 10.9s\tremaining: 41.6s\n",
            "208:\tlearn: 0.7402968\ttotal: 11s\tremaining: 41.6s\n",
            "209:\tlearn: 0.7398719\ttotal: 11s\tremaining: 41.5s\n",
            "210:\tlearn: 0.7397607\ttotal: 11.1s\tremaining: 41.5s\n",
            "211:\tlearn: 0.7394391\ttotal: 11.2s\tremaining: 41.5s\n",
            "212:\tlearn: 0.7391973\ttotal: 11.2s\tremaining: 41.5s\n",
            "213:\tlearn: 0.7388308\ttotal: 11.3s\tremaining: 41.5s\n",
            "214:\tlearn: 0.7385261\ttotal: 11.4s\tremaining: 41.4s\n",
            "215:\tlearn: 0.7380305\ttotal: 11.4s\tremaining: 41.4s\n",
            "216:\tlearn: 0.7375248\ttotal: 11.5s\tremaining: 41.4s\n",
            "217:\tlearn: 0.7374141\ttotal: 11.5s\tremaining: 41.4s\n",
            "218:\tlearn: 0.7372713\ttotal: 11.6s\tremaining: 41.3s\n",
            "219:\tlearn: 0.7370969\ttotal: 11.6s\tremaining: 41.2s\n",
            "220:\tlearn: 0.7368606\ttotal: 11.7s\tremaining: 41.2s\n",
            "221:\tlearn: 0.7366185\ttotal: 11.7s\tremaining: 41.1s\n",
            "222:\tlearn: 0.7362295\ttotal: 11.8s\tremaining: 41s\n",
            "223:\tlearn: 0.7360015\ttotal: 11.8s\tremaining: 41s\n",
            "224:\tlearn: 0.7357418\ttotal: 11.9s\tremaining: 41s\n",
            "225:\tlearn: 0.7354336\ttotal: 12s\tremaining: 41s\n",
            "226:\tlearn: 0.7352852\ttotal: 12s\tremaining: 41s\n",
            "227:\tlearn: 0.7349607\ttotal: 12.1s\tremaining: 41s\n",
            "228:\tlearn: 0.7347172\ttotal: 12.2s\tremaining: 41s\n",
            "229:\tlearn: 0.7344929\ttotal: 12.2s\tremaining: 40.9s\n",
            "230:\tlearn: 0.7342244\ttotal: 12.3s\tremaining: 40.8s\n",
            "231:\tlearn: 0.7340526\ttotal: 12.3s\tremaining: 40.7s\n",
            "232:\tlearn: 0.7337117\ttotal: 12.3s\tremaining: 40.7s\n",
            "233:\tlearn: 0.7335180\ttotal: 12.4s\tremaining: 40.6s\n",
            "234:\tlearn: 0.7333270\ttotal: 12.4s\tremaining: 40.5s\n",
            "235:\tlearn: 0.7326689\ttotal: 12.5s\tremaining: 40.5s\n",
            "236:\tlearn: 0.7325006\ttotal: 12.6s\tremaining: 40.4s\n",
            "237:\tlearn: 0.7322880\ttotal: 12.6s\tremaining: 40.4s\n",
            "238:\tlearn: 0.7316982\ttotal: 12.7s\tremaining: 40.3s\n",
            "239:\tlearn: 0.7314175\ttotal: 12.7s\tremaining: 40.3s\n",
            "240:\tlearn: 0.7312836\ttotal: 12.8s\tremaining: 40.3s\n",
            "241:\tlearn: 0.7310403\ttotal: 12.9s\tremaining: 40.3s\n",
            "242:\tlearn: 0.7307102\ttotal: 12.9s\tremaining: 40.2s\n",
            "243:\tlearn: 0.7303481\ttotal: 13s\tremaining: 40.2s\n",
            "244:\tlearn: 0.7300346\ttotal: 13s\tremaining: 40.2s\n",
            "245:\tlearn: 0.7295800\ttotal: 13.1s\tremaining: 40.1s\n",
            "246:\tlearn: 0.7293530\ttotal: 13.1s\tremaining: 40s\n",
            "247:\tlearn: 0.7291676\ttotal: 13.2s\tremaining: 40s\n",
            "248:\tlearn: 0.7288446\ttotal: 13.2s\tremaining: 39.9s\n",
            "249:\tlearn: 0.7284165\ttotal: 13.3s\tremaining: 39.9s\n",
            "250:\tlearn: 0.7280177\ttotal: 13.3s\tremaining: 39.8s\n",
            "251:\tlearn: 0.7279051\ttotal: 13.4s\tremaining: 39.7s\n",
            "252:\tlearn: 0.7276428\ttotal: 13.4s\tremaining: 39.7s\n",
            "253:\tlearn: 0.7274291\ttotal: 13.5s\tremaining: 39.6s\n",
            "254:\tlearn: 0.7272762\ttotal: 13.6s\tremaining: 39.6s\n",
            "255:\tlearn: 0.7270858\ttotal: 13.6s\tremaining: 39.6s\n",
            "256:\tlearn: 0.7268408\ttotal: 13.7s\tremaining: 39.5s\n",
            "257:\tlearn: 0.7267549\ttotal: 13.7s\tremaining: 39.5s\n",
            "258:\tlearn: 0.7264629\ttotal: 13.8s\tremaining: 39.4s\n",
            "259:\tlearn: 0.7260719\ttotal: 13.8s\tremaining: 39.3s\n",
            "260:\tlearn: 0.7258537\ttotal: 13.9s\tremaining: 39.3s\n",
            "261:\tlearn: 0.7256080\ttotal: 13.9s\tremaining: 39.2s\n",
            "262:\tlearn: 0.7254583\ttotal: 14s\tremaining: 39.2s\n",
            "263:\tlearn: 0.7253759\ttotal: 14s\tremaining: 39.1s\n",
            "264:\tlearn: 0.7248444\ttotal: 14.1s\tremaining: 39s\n",
            "265:\tlearn: 0.7244612\ttotal: 14.1s\tremaining: 39s\n",
            "266:\tlearn: 0.7243613\ttotal: 14.2s\tremaining: 38.9s\n",
            "267:\tlearn: 0.7241626\ttotal: 14.2s\tremaining: 38.8s\n",
            "268:\tlearn: 0.7237643\ttotal: 14.3s\tremaining: 38.8s\n",
            "269:\tlearn: 0.7233715\ttotal: 14.3s\tremaining: 38.8s\n",
            "270:\tlearn: 0.7230914\ttotal: 14.4s\tremaining: 38.7s\n",
            "271:\tlearn: 0.7228882\ttotal: 14.5s\tremaining: 38.7s\n",
            "272:\tlearn: 0.7227699\ttotal: 14.6s\tremaining: 38.8s\n",
            "273:\tlearn: 0.7225340\ttotal: 14.6s\tremaining: 38.7s\n",
            "274:\tlearn: 0.7223722\ttotal: 14.7s\tremaining: 38.7s\n",
            "275:\tlearn: 0.7221275\ttotal: 14.7s\tremaining: 38.6s\n",
            "276:\tlearn: 0.7217734\ttotal: 14.8s\tremaining: 38.6s\n",
            "277:\tlearn: 0.7215266\ttotal: 14.9s\tremaining: 38.6s\n",
            "278:\tlearn: 0.7212853\ttotal: 14.9s\tremaining: 38.5s\n",
            "279:\tlearn: 0.7209736\ttotal: 14.9s\tremaining: 38.4s\n",
            "280:\tlearn: 0.7207157\ttotal: 14.9s\tremaining: 38.3s\n",
            "281:\tlearn: 0.7205913\ttotal: 15s\tremaining: 38.2s\n",
            "282:\tlearn: 0.7201309\ttotal: 15.1s\tremaining: 38.2s\n",
            "283:\tlearn: 0.7195622\ttotal: 15.1s\tremaining: 38.1s\n",
            "284:\tlearn: 0.7193696\ttotal: 15.2s\tremaining: 38s\n",
            "285:\tlearn: 0.7191852\ttotal: 15.2s\tremaining: 38s\n",
            "286:\tlearn: 0.7187227\ttotal: 15.3s\tremaining: 38s\n",
            "287:\tlearn: 0.7185002\ttotal: 15.3s\tremaining: 37.9s\n",
            "288:\tlearn: 0.7183189\ttotal: 15.4s\tremaining: 37.8s\n",
            "289:\tlearn: 0.7181952\ttotal: 15.4s\tremaining: 37.7s\n",
            "290:\tlearn: 0.7179776\ttotal: 15.4s\tremaining: 37.6s\n",
            "291:\tlearn: 0.7177669\ttotal: 15.5s\tremaining: 37.5s\n",
            "292:\tlearn: 0.7175345\ttotal: 15.5s\tremaining: 37.4s\n",
            "293:\tlearn: 0.7173285\ttotal: 15.6s\tremaining: 37.4s\n",
            "294:\tlearn: 0.7170078\ttotal: 15.6s\tremaining: 37.4s\n",
            "295:\tlearn: 0.7168473\ttotal: 15.7s\tremaining: 37.4s\n",
            "296:\tlearn: 0.7165739\ttotal: 15.8s\tremaining: 37.4s\n",
            "297:\tlearn: 0.7164466\ttotal: 15.8s\tremaining: 37.3s\n",
            "298:\tlearn: 0.7162236\ttotal: 15.9s\tremaining: 37.3s\n",
            "299:\tlearn: 0.7160241\ttotal: 16s\tremaining: 37.2s\n",
            "300:\tlearn: 0.7157920\ttotal: 16s\tremaining: 37.2s\n",
            "301:\tlearn: 0.7156713\ttotal: 16.1s\tremaining: 37.1s\n",
            "302:\tlearn: 0.7153945\ttotal: 16.1s\tremaining: 37s\n",
            "303:\tlearn: 0.7152432\ttotal: 16.1s\tremaining: 37s\n",
            "304:\tlearn: 0.7150556\ttotal: 16.2s\tremaining: 36.9s\n",
            "305:\tlearn: 0.7149105\ttotal: 16.3s\tremaining: 36.9s\n",
            "306:\tlearn: 0.7146905\ttotal: 16.3s\tremaining: 36.9s\n",
            "307:\tlearn: 0.7143887\ttotal: 16.4s\tremaining: 36.8s\n",
            "308:\tlearn: 0.7142687\ttotal: 16.4s\tremaining: 36.8s\n",
            "309:\tlearn: 0.7139290\ttotal: 16.5s\tremaining: 36.8s\n",
            "310:\tlearn: 0.7136605\ttotal: 16.6s\tremaining: 36.7s\n",
            "311:\tlearn: 0.7135016\ttotal: 16.6s\tremaining: 36.6s\n",
            "312:\tlearn: 0.7132586\ttotal: 16.6s\tremaining: 36.5s\n",
            "313:\tlearn: 0.7129372\ttotal: 16.7s\tremaining: 36.4s\n",
            "314:\tlearn: 0.7127851\ttotal: 16.7s\tremaining: 36.3s\n",
            "315:\tlearn: 0.7126278\ttotal: 16.8s\tremaining: 36.3s\n",
            "316:\tlearn: 0.7124459\ttotal: 16.8s\tremaining: 36.2s\n",
            "317:\tlearn: 0.7120401\ttotal: 16.9s\tremaining: 36.2s\n",
            "318:\tlearn: 0.7116895\ttotal: 16.9s\tremaining: 36.2s\n",
            "319:\tlearn: 0.7113616\ttotal: 17s\tremaining: 36.1s\n",
            "320:\tlearn: 0.7111807\ttotal: 17.1s\tremaining: 36.1s\n",
            "321:\tlearn: 0.7110938\ttotal: 17.1s\tremaining: 36s\n",
            "322:\tlearn: 0.7109902\ttotal: 17.1s\tremaining: 35.9s\n",
            "323:\tlearn: 0.7107992\ttotal: 17.2s\tremaining: 35.9s\n",
            "324:\tlearn: 0.7106458\ttotal: 17.3s\tremaining: 35.8s\n",
            "325:\tlearn: 0.7103115\ttotal: 17.3s\tremaining: 35.8s\n",
            "326:\tlearn: 0.7100901\ttotal: 17.3s\tremaining: 35.7s\n",
            "327:\tlearn: 0.7098786\ttotal: 17.4s\tremaining: 35.6s\n",
            "328:\tlearn: 0.7096492\ttotal: 17.4s\tremaining: 35.6s\n",
            "329:\tlearn: 0.7094518\ttotal: 17.5s\tremaining: 35.6s\n",
            "330:\tlearn: 0.7090645\ttotal: 17.6s\tremaining: 35.5s\n",
            "331:\tlearn: 0.7089250\ttotal: 17.6s\tremaining: 35.5s\n",
            "332:\tlearn: 0.7087944\ttotal: 17.7s\tremaining: 35.4s\n",
            "333:\tlearn: 0.7086826\ttotal: 17.7s\tremaining: 35.4s\n",
            "334:\tlearn: 0.7083625\ttotal: 17.8s\tremaining: 35.4s\n",
            "335:\tlearn: 0.7080618\ttotal: 17.9s\tremaining: 35.4s\n",
            "336:\tlearn: 0.7079250\ttotal: 18s\tremaining: 35.3s\n",
            "337:\tlearn: 0.7076706\ttotal: 18s\tremaining: 35.3s\n",
            "338:\tlearn: 0.7075800\ttotal: 18.1s\tremaining: 35.2s\n",
            "339:\tlearn: 0.7073009\ttotal: 18.1s\tremaining: 35.2s\n",
            "340:\tlearn: 0.7071334\ttotal: 18.2s\tremaining: 35.1s\n",
            "341:\tlearn: 0.7069294\ttotal: 18.2s\tremaining: 35s\n",
            "342:\tlearn: 0.7068224\ttotal: 18.2s\tremaining: 35s\n",
            "343:\tlearn: 0.7065543\ttotal: 18.3s\tremaining: 34.9s\n",
            "344:\tlearn: 0.7063509\ttotal: 18.3s\tremaining: 34.8s\n",
            "345:\tlearn: 0.7061834\ttotal: 18.4s\tremaining: 34.8s\n",
            "346:\tlearn: 0.7059139\ttotal: 18.4s\tremaining: 34.7s\n",
            "347:\tlearn: 0.7057099\ttotal: 18.5s\tremaining: 34.7s\n",
            "348:\tlearn: 0.7055043\ttotal: 18.6s\tremaining: 34.7s\n",
            "349:\tlearn: 0.7053712\ttotal: 18.7s\tremaining: 34.6s\n",
            "350:\tlearn: 0.7052683\ttotal: 18.7s\tremaining: 34.6s\n",
            "351:\tlearn: 0.7051403\ttotal: 18.7s\tremaining: 34.5s\n",
            "352:\tlearn: 0.7050519\ttotal: 18.8s\tremaining: 34.5s\n",
            "353:\tlearn: 0.7047549\ttotal: 18.9s\tremaining: 34.4s\n",
            "354:\tlearn: 0.7045716\ttotal: 18.9s\tremaining: 34.4s\n",
            "355:\tlearn: 0.7041653\ttotal: 19s\tremaining: 34.3s\n",
            "356:\tlearn: 0.7038952\ttotal: 19.1s\tremaining: 34.3s\n",
            "357:\tlearn: 0.7037471\ttotal: 19.1s\tremaining: 34.3s\n",
            "358:\tlearn: 0.7036147\ttotal: 19.1s\tremaining: 34.2s\n",
            "359:\tlearn: 0.7034765\ttotal: 19.2s\tremaining: 34.2s\n",
            "360:\tlearn: 0.7030727\ttotal: 19.3s\tremaining: 34.1s\n",
            "361:\tlearn: 0.7027833\ttotal: 19.3s\tremaining: 34.1s\n",
            "362:\tlearn: 0.7026374\ttotal: 19.4s\tremaining: 34s\n",
            "363:\tlearn: 0.7024826\ttotal: 19.4s\tremaining: 33.9s\n",
            "364:\tlearn: 0.7023442\ttotal: 19.5s\tremaining: 33.9s\n",
            "365:\tlearn: 0.7021412\ttotal: 19.5s\tremaining: 33.9s\n",
            "366:\tlearn: 0.7018361\ttotal: 19.6s\tremaining: 33.8s\n",
            "367:\tlearn: 0.7015221\ttotal: 19.7s\tremaining: 33.8s\n",
            "368:\tlearn: 0.7011747\ttotal: 19.7s\tremaining: 33.7s\n",
            "369:\tlearn: 0.7009286\ttotal: 19.8s\tremaining: 33.7s\n",
            "370:\tlearn: 0.7007223\ttotal: 19.8s\tremaining: 33.6s\n",
            "371:\tlearn: 0.7005645\ttotal: 19.9s\tremaining: 33.6s\n",
            "372:\tlearn: 0.7003220\ttotal: 19.9s\tremaining: 33.5s\n",
            "373:\tlearn: 0.7001584\ttotal: 20s\tremaining: 33.5s\n",
            "374:\tlearn: 0.7000514\ttotal: 20s\tremaining: 33.4s\n",
            "375:\tlearn: 0.6997954\ttotal: 20.1s\tremaining: 33.4s\n",
            "376:\tlearn: 0.6997138\ttotal: 20.2s\tremaining: 33.4s\n",
            "377:\tlearn: 0.6993945\ttotal: 20.2s\tremaining: 33.3s\n",
            "378:\tlearn: 0.6991198\ttotal: 20.3s\tremaining: 33.2s\n",
            "379:\tlearn: 0.6989808\ttotal: 20.3s\tremaining: 33.1s\n",
            "380:\tlearn: 0.6988971\ttotal: 20.3s\tremaining: 33s\n",
            "381:\tlearn: 0.6987049\ttotal: 20.4s\tremaining: 33s\n",
            "382:\tlearn: 0.6984371\ttotal: 20.5s\tremaining: 33s\n",
            "383:\tlearn: 0.6983308\ttotal: 20.5s\tremaining: 32.9s\n",
            "384:\tlearn: 0.6982060\ttotal: 20.6s\tremaining: 32.9s\n",
            "385:\tlearn: 0.6980556\ttotal: 20.7s\tremaining: 32.9s\n",
            "386:\tlearn: 0.6978479\ttotal: 20.7s\tremaining: 32.8s\n",
            "387:\tlearn: 0.6977109\ttotal: 20.8s\tremaining: 32.8s\n",
            "388:\tlearn: 0.6975829\ttotal: 20.9s\tremaining: 32.8s\n",
            "389:\tlearn: 0.6973997\ttotal: 20.9s\tremaining: 32.7s\n",
            "390:\tlearn: 0.6971587\ttotal: 21s\tremaining: 32.7s\n",
            "391:\tlearn: 0.6969442\ttotal: 21s\tremaining: 32.6s\n",
            "392:\tlearn: 0.6966783\ttotal: 21.1s\tremaining: 32.5s\n",
            "393:\tlearn: 0.6965949\ttotal: 21.1s\tremaining: 32.5s\n",
            "394:\tlearn: 0.6964725\ttotal: 21.2s\tremaining: 32.4s\n",
            "395:\tlearn: 0.6963581\ttotal: 21.2s\tremaining: 32.3s\n",
            "396:\tlearn: 0.6961906\ttotal: 21.2s\tremaining: 32.2s\n",
            "397:\tlearn: 0.6960173\ttotal: 21.3s\tremaining: 32.2s\n",
            "398:\tlearn: 0.6958196\ttotal: 21.3s\tremaining: 32.1s\n",
            "399:\tlearn: 0.6956348\ttotal: 21.4s\tremaining: 32.1s\n",
            "400:\tlearn: 0.6954775\ttotal: 21.5s\tremaining: 32s\n",
            "401:\tlearn: 0.6953723\ttotal: 21.5s\tremaining: 32s\n",
            "402:\tlearn: 0.6951162\ttotal: 21.6s\tremaining: 31.9s\n",
            "403:\tlearn: 0.6948829\ttotal: 21.6s\tremaining: 31.9s\n",
            "404:\tlearn: 0.6945824\ttotal: 21.7s\tremaining: 31.8s\n",
            "405:\tlearn: 0.6945346\ttotal: 21.7s\tremaining: 31.7s\n",
            "406:\tlearn: 0.6944117\ttotal: 21.7s\tremaining: 31.7s\n",
            "407:\tlearn: 0.6942168\ttotal: 21.8s\tremaining: 31.6s\n",
            "408:\tlearn: 0.6940384\ttotal: 21.9s\tremaining: 31.6s\n",
            "409:\tlearn: 0.6939041\ttotal: 21.9s\tremaining: 31.5s\n",
            "410:\tlearn: 0.6937434\ttotal: 22s\tremaining: 31.5s\n",
            "411:\tlearn: 0.6935307\ttotal: 22.1s\tremaining: 31.5s\n",
            "412:\tlearn: 0.6932637\ttotal: 22.1s\tremaining: 31.4s\n",
            "413:\tlearn: 0.6931420\ttotal: 22.2s\tremaining: 31.4s\n",
            "414:\tlearn: 0.6930670\ttotal: 22.2s\tremaining: 31.3s\n",
            "415:\tlearn: 0.6929200\ttotal: 22.2s\tremaining: 31.2s\n",
            "416:\tlearn: 0.6926833\ttotal: 22.3s\tremaining: 31.2s\n",
            "417:\tlearn: 0.6925465\ttotal: 22.3s\tremaining: 31.1s\n",
            "418:\tlearn: 0.6923897\ttotal: 22.4s\tremaining: 31s\n",
            "419:\tlearn: 0.6922164\ttotal: 22.4s\tremaining: 31s\n",
            "420:\tlearn: 0.6921106\ttotal: 22.5s\tremaining: 31s\n",
            "421:\tlearn: 0.6920337\ttotal: 22.6s\tremaining: 30.9s\n",
            "422:\tlearn: 0.6918825\ttotal: 22.6s\tremaining: 30.8s\n",
            "423:\tlearn: 0.6916110\ttotal: 22.6s\tremaining: 30.7s\n",
            "424:\tlearn: 0.6914819\ttotal: 22.7s\tremaining: 30.7s\n",
            "425:\tlearn: 0.6911353\ttotal: 22.7s\tremaining: 30.6s\n",
            "426:\tlearn: 0.6910655\ttotal: 22.8s\tremaining: 30.6s\n",
            "427:\tlearn: 0.6909416\ttotal: 22.9s\tremaining: 30.6s\n",
            "428:\tlearn: 0.6906973\ttotal: 22.9s\tremaining: 30.5s\n",
            "429:\tlearn: 0.6905497\ttotal: 23s\tremaining: 30.5s\n",
            "430:\tlearn: 0.6902409\ttotal: 23.1s\tremaining: 30.5s\n",
            "431:\tlearn: 0.6901536\ttotal: 23.1s\tremaining: 30.4s\n",
            "432:\tlearn: 0.6900616\ttotal: 23.1s\tremaining: 30.3s\n",
            "433:\tlearn: 0.6897679\ttotal: 23.2s\tremaining: 30.2s\n",
            "434:\tlearn: 0.6895910\ttotal: 23.2s\tremaining: 30.2s\n",
            "435:\tlearn: 0.6894698\ttotal: 23.3s\tremaining: 30.1s\n",
            "436:\tlearn: 0.6892219\ttotal: 23.3s\tremaining: 30s\n",
            "437:\tlearn: 0.6891307\ttotal: 23.4s\tremaining: 30s\n",
            "438:\tlearn: 0.6890609\ttotal: 23.4s\tremaining: 29.9s\n",
            "439:\tlearn: 0.6889893\ttotal: 23.4s\tremaining: 29.8s\n",
            "440:\tlearn: 0.6889132\ttotal: 23.4s\tremaining: 29.7s\n",
            "441:\tlearn: 0.6888148\ttotal: 23.5s\tremaining: 29.6s\n",
            "442:\tlearn: 0.6887368\ttotal: 23.5s\tremaining: 29.6s\n",
            "443:\tlearn: 0.6885353\ttotal: 23.5s\tremaining: 29.5s\n",
            "444:\tlearn: 0.6884896\ttotal: 23.6s\tremaining: 29.4s\n",
            "445:\tlearn: 0.6883430\ttotal: 23.6s\tremaining: 29.3s\n",
            "446:\tlearn: 0.6882397\ttotal: 23.7s\tremaining: 29.3s\n",
            "447:\tlearn: 0.6880897\ttotal: 23.7s\tremaining: 29.2s\n",
            "448:\tlearn: 0.6879181\ttotal: 23.8s\tremaining: 29.2s\n",
            "449:\tlearn: 0.6878119\ttotal: 23.8s\tremaining: 29.1s\n",
            "450:\tlearn: 0.6876883\ttotal: 23.8s\tremaining: 29s\n",
            "451:\tlearn: 0.6875587\ttotal: 23.9s\tremaining: 29s\n",
            "452:\tlearn: 0.6874234\ttotal: 24s\tremaining: 28.9s\n",
            "453:\tlearn: 0.6873251\ttotal: 24s\tremaining: 28.9s\n",
            "454:\tlearn: 0.6872499\ttotal: 24.1s\tremaining: 28.8s\n",
            "455:\tlearn: 0.6871260\ttotal: 24.1s\tremaining: 28.8s\n",
            "456:\tlearn: 0.6869096\ttotal: 24.2s\tremaining: 28.7s\n",
            "457:\tlearn: 0.6868039\ttotal: 24.2s\tremaining: 28.7s\n",
            "458:\tlearn: 0.6866049\ttotal: 24.3s\tremaining: 28.6s\n",
            "459:\tlearn: 0.6865123\ttotal: 24.3s\tremaining: 28.5s\n",
            "460:\tlearn: 0.6863979\ttotal: 24.3s\tremaining: 28.5s\n",
            "461:\tlearn: 0.6861743\ttotal: 24.4s\tremaining: 28.4s\n",
            "462:\tlearn: 0.6859339\ttotal: 24.4s\tremaining: 28.3s\n",
            "463:\tlearn: 0.6858348\ttotal: 24.5s\tremaining: 28.3s\n",
            "464:\tlearn: 0.6856711\ttotal: 24.6s\tremaining: 28.3s\n",
            "465:\tlearn: 0.6855325\ttotal: 24.6s\tremaining: 28.2s\n",
            "466:\tlearn: 0.6854079\ttotal: 24.7s\tremaining: 28.2s\n",
            "467:\tlearn: 0.6852080\ttotal: 24.7s\tremaining: 28.1s\n",
            "468:\tlearn: 0.6850296\ttotal: 24.8s\tremaining: 28.1s\n",
            "469:\tlearn: 0.6848763\ttotal: 24.8s\tremaining: 28s\n",
            "470:\tlearn: 0.6846721\ttotal: 24.9s\tremaining: 27.9s\n",
            "471:\tlearn: 0.6845872\ttotal: 24.9s\tremaining: 27.9s\n",
            "472:\tlearn: 0.6843997\ttotal: 25s\tremaining: 27.8s\n",
            "473:\tlearn: 0.6842581\ttotal: 25s\tremaining: 27.8s\n",
            "474:\tlearn: 0.6841265\ttotal: 25.1s\tremaining: 27.7s\n",
            "475:\tlearn: 0.6839928\ttotal: 25.1s\tremaining: 27.6s\n",
            "476:\tlearn: 0.6839047\ttotal: 25.2s\tremaining: 27.6s\n",
            "477:\tlearn: 0.6837888\ttotal: 25.2s\tremaining: 27.5s\n",
            "478:\tlearn: 0.6837071\ttotal: 25.2s\tremaining: 27.4s\n",
            "479:\tlearn: 0.6835460\ttotal: 25.3s\tremaining: 27.4s\n",
            "480:\tlearn: 0.6834587\ttotal: 25.3s\tremaining: 27.3s\n",
            "481:\tlearn: 0.6832681\ttotal: 25.3s\tremaining: 27.2s\n",
            "482:\tlearn: 0.6831346\ttotal: 25.3s\tremaining: 27.1s\n",
            "483:\tlearn: 0.6829815\ttotal: 25.4s\tremaining: 27s\n",
            "484:\tlearn: 0.6827900\ttotal: 25.4s\tremaining: 27s\n",
            "485:\tlearn: 0.6827037\ttotal: 25.4s\tremaining: 26.9s\n",
            "486:\tlearn: 0.6825579\ttotal: 25.4s\tremaining: 26.8s\n",
            "487:\tlearn: 0.6824180\ttotal: 25.5s\tremaining: 26.7s\n",
            "488:\tlearn: 0.6821676\ttotal: 25.5s\tremaining: 26.6s\n",
            "489:\tlearn: 0.6820151\ttotal: 25.5s\tremaining: 26.6s\n",
            "490:\tlearn: 0.6818984\ttotal: 25.5s\tremaining: 26.5s\n",
            "491:\tlearn: 0.6817176\ttotal: 25.6s\tremaining: 26.4s\n",
            "492:\tlearn: 0.6816558\ttotal: 25.6s\tremaining: 26.3s\n",
            "493:\tlearn: 0.6815876\ttotal: 25.6s\tremaining: 26.3s\n",
            "494:\tlearn: 0.6812851\ttotal: 25.7s\tremaining: 26.2s\n",
            "495:\tlearn: 0.6811161\ttotal: 25.7s\tremaining: 26.1s\n",
            "496:\tlearn: 0.6809625\ttotal: 25.7s\tremaining: 26s\n",
            "497:\tlearn: 0.6806936\ttotal: 25.7s\tremaining: 25.9s\n",
            "498:\tlearn: 0.6805683\ttotal: 25.8s\tremaining: 25.9s\n",
            "499:\tlearn: 0.6803742\ttotal: 25.8s\tremaining: 25.8s\n",
            "500:\tlearn: 0.6802670\ttotal: 25.8s\tremaining: 25.7s\n",
            "501:\tlearn: 0.6801183\ttotal: 25.8s\tremaining: 25.6s\n",
            "502:\tlearn: 0.6798982\ttotal: 25.9s\tremaining: 25.6s\n",
            "503:\tlearn: 0.6796888\ttotal: 25.9s\tremaining: 25.5s\n",
            "504:\tlearn: 0.6795085\ttotal: 25.9s\tremaining: 25.4s\n",
            "505:\tlearn: 0.6794128\ttotal: 26s\tremaining: 25.3s\n",
            "506:\tlearn: 0.6792434\ttotal: 26s\tremaining: 25.3s\n",
            "507:\tlearn: 0.6791783\ttotal: 26s\tremaining: 25.2s\n",
            "508:\tlearn: 0.6790567\ttotal: 26s\tremaining: 25.1s\n",
            "509:\tlearn: 0.6789105\ttotal: 26.1s\tremaining: 25s\n",
            "510:\tlearn: 0.6787672\ttotal: 26.1s\tremaining: 25s\n",
            "511:\tlearn: 0.6786497\ttotal: 26.1s\tremaining: 24.9s\n",
            "512:\tlearn: 0.6784931\ttotal: 26.1s\tremaining: 24.8s\n",
            "513:\tlearn: 0.6783380\ttotal: 26.2s\tremaining: 24.7s\n",
            "514:\tlearn: 0.6781965\ttotal: 26.2s\tremaining: 24.7s\n",
            "515:\tlearn: 0.6780627\ttotal: 26.2s\tremaining: 24.6s\n",
            "516:\tlearn: 0.6779662\ttotal: 26.2s\tremaining: 24.5s\n",
            "517:\tlearn: 0.6777546\ttotal: 26.3s\tremaining: 24.4s\n",
            "518:\tlearn: 0.6775527\ttotal: 26.3s\tremaining: 24.4s\n",
            "519:\tlearn: 0.6774351\ttotal: 26.3s\tremaining: 24.3s\n",
            "520:\tlearn: 0.6772970\ttotal: 26.3s\tremaining: 24.2s\n",
            "521:\tlearn: 0.6771763\ttotal: 26.4s\tremaining: 24.1s\n",
            "522:\tlearn: 0.6770595\ttotal: 26.4s\tremaining: 24.1s\n",
            "523:\tlearn: 0.6769235\ttotal: 26.4s\tremaining: 24s\n",
            "524:\tlearn: 0.6767866\ttotal: 26.5s\tremaining: 23.9s\n",
            "525:\tlearn: 0.6767112\ttotal: 26.5s\tremaining: 23.9s\n",
            "526:\tlearn: 0.6765127\ttotal: 26.5s\tremaining: 23.8s\n",
            "527:\tlearn: 0.6763088\ttotal: 26.5s\tremaining: 23.7s\n",
            "528:\tlearn: 0.6762352\ttotal: 26.6s\tremaining: 23.6s\n",
            "529:\tlearn: 0.6759294\ttotal: 26.6s\tremaining: 23.6s\n",
            "530:\tlearn: 0.6758088\ttotal: 26.6s\tremaining: 23.5s\n",
            "531:\tlearn: 0.6757340\ttotal: 26.6s\tremaining: 23.4s\n",
            "532:\tlearn: 0.6755178\ttotal: 26.7s\tremaining: 23.4s\n",
            "533:\tlearn: 0.6753295\ttotal: 26.7s\tremaining: 23.3s\n",
            "534:\tlearn: 0.6752027\ttotal: 26.7s\tremaining: 23.2s\n",
            "535:\tlearn: 0.6750171\ttotal: 26.7s\tremaining: 23.1s\n",
            "536:\tlearn: 0.6748483\ttotal: 26.8s\tremaining: 23.1s\n",
            "537:\tlearn: 0.6746005\ttotal: 26.8s\tremaining: 23s\n",
            "538:\tlearn: 0.6745294\ttotal: 26.8s\tremaining: 22.9s\n",
            "539:\tlearn: 0.6743454\ttotal: 26.8s\tremaining: 22.9s\n",
            "540:\tlearn: 0.6742003\ttotal: 26.9s\tremaining: 22.8s\n",
            "541:\tlearn: 0.6740597\ttotal: 26.9s\tremaining: 22.7s\n",
            "542:\tlearn: 0.6739662\ttotal: 26.9s\tremaining: 22.7s\n",
            "543:\tlearn: 0.6738385\ttotal: 27s\tremaining: 22.6s\n",
            "544:\tlearn: 0.6736729\ttotal: 27s\tremaining: 22.5s\n",
            "545:\tlearn: 0.6735181\ttotal: 27s\tremaining: 22.5s\n",
            "546:\tlearn: 0.6732690\ttotal: 27s\tremaining: 22.4s\n",
            "547:\tlearn: 0.6731631\ttotal: 27.1s\tremaining: 22.3s\n",
            "548:\tlearn: 0.6729548\ttotal: 27.1s\tremaining: 22.3s\n",
            "549:\tlearn: 0.6727547\ttotal: 27.1s\tremaining: 22.2s\n",
            "550:\tlearn: 0.6726688\ttotal: 27.1s\tremaining: 22.1s\n",
            "551:\tlearn: 0.6725410\ttotal: 27.2s\tremaining: 22.1s\n",
            "552:\tlearn: 0.6724577\ttotal: 27.2s\tremaining: 22s\n",
            "553:\tlearn: 0.6723244\ttotal: 27.2s\tremaining: 21.9s\n",
            "554:\tlearn: 0.6721426\ttotal: 27.3s\tremaining: 21.9s\n",
            "555:\tlearn: 0.6720131\ttotal: 27.3s\tremaining: 21.8s\n",
            "556:\tlearn: 0.6718509\ttotal: 27.3s\tremaining: 21.7s\n",
            "557:\tlearn: 0.6717623\ttotal: 27.3s\tremaining: 21.6s\n",
            "558:\tlearn: 0.6716499\ttotal: 27.4s\tremaining: 21.6s\n",
            "559:\tlearn: 0.6715446\ttotal: 27.4s\tremaining: 21.5s\n",
            "560:\tlearn: 0.6714288\ttotal: 27.4s\tremaining: 21.4s\n",
            "561:\tlearn: 0.6713438\ttotal: 27.4s\tremaining: 21.4s\n",
            "562:\tlearn: 0.6711152\ttotal: 27.5s\tremaining: 21.3s\n",
            "563:\tlearn: 0.6709548\ttotal: 27.5s\tremaining: 21.2s\n",
            "564:\tlearn: 0.6707696\ttotal: 27.5s\tremaining: 21.2s\n",
            "565:\tlearn: 0.6706720\ttotal: 27.5s\tremaining: 21.1s\n",
            "566:\tlearn: 0.6704996\ttotal: 27.6s\tremaining: 21.1s\n",
            "567:\tlearn: 0.6703970\ttotal: 27.6s\tremaining: 21s\n",
            "568:\tlearn: 0.6701559\ttotal: 27.6s\tremaining: 20.9s\n",
            "569:\tlearn: 0.6700573\ttotal: 27.6s\tremaining: 20.9s\n",
            "570:\tlearn: 0.6699486\ttotal: 27.7s\tremaining: 20.8s\n",
            "571:\tlearn: 0.6698281\ttotal: 27.7s\tremaining: 20.7s\n",
            "572:\tlearn: 0.6697580\ttotal: 27.7s\tremaining: 20.7s\n",
            "573:\tlearn: 0.6696529\ttotal: 27.8s\tremaining: 20.6s\n",
            "574:\tlearn: 0.6695229\ttotal: 27.8s\tremaining: 20.5s\n",
            "575:\tlearn: 0.6693975\ttotal: 27.8s\tremaining: 20.5s\n",
            "576:\tlearn: 0.6692730\ttotal: 27.8s\tremaining: 20.4s\n",
            "577:\tlearn: 0.6691580\ttotal: 27.9s\tremaining: 20.3s\n",
            "578:\tlearn: 0.6691113\ttotal: 27.9s\tremaining: 20.3s\n",
            "579:\tlearn: 0.6689373\ttotal: 27.9s\tremaining: 20.2s\n",
            "580:\tlearn: 0.6687627\ttotal: 27.9s\tremaining: 20.2s\n",
            "581:\tlearn: 0.6686572\ttotal: 28s\tremaining: 20.1s\n",
            "582:\tlearn: 0.6685226\ttotal: 28s\tremaining: 20s\n",
            "583:\tlearn: 0.6684730\ttotal: 28s\tremaining: 20s\n",
            "584:\tlearn: 0.6683756\ttotal: 28s\tremaining: 19.9s\n",
            "585:\tlearn: 0.6682054\ttotal: 28.1s\tremaining: 19.8s\n",
            "586:\tlearn: 0.6681181\ttotal: 28.1s\tremaining: 19.8s\n",
            "587:\tlearn: 0.6680446\ttotal: 28.1s\tremaining: 19.7s\n",
            "588:\tlearn: 0.6679405\ttotal: 28.1s\tremaining: 19.6s\n",
            "589:\tlearn: 0.6678291\ttotal: 28.2s\tremaining: 19.6s\n",
            "590:\tlearn: 0.6676869\ttotal: 28.2s\tremaining: 19.5s\n",
            "591:\tlearn: 0.6675591\ttotal: 28.2s\tremaining: 19.5s\n",
            "592:\tlearn: 0.6674790\ttotal: 28.2s\tremaining: 19.4s\n",
            "593:\tlearn: 0.6673388\ttotal: 28.3s\tremaining: 19.3s\n",
            "594:\tlearn: 0.6671818\ttotal: 28.3s\tremaining: 19.3s\n",
            "595:\tlearn: 0.6670947\ttotal: 28.3s\tremaining: 19.2s\n",
            "596:\tlearn: 0.6669268\ttotal: 28.4s\tremaining: 19.1s\n",
            "597:\tlearn: 0.6668569\ttotal: 28.4s\tremaining: 19.1s\n",
            "598:\tlearn: 0.6666894\ttotal: 28.4s\tremaining: 19s\n",
            "599:\tlearn: 0.6665861\ttotal: 28.4s\tremaining: 19s\n",
            "600:\tlearn: 0.6665360\ttotal: 28.5s\tremaining: 18.9s\n",
            "601:\tlearn: 0.6663098\ttotal: 28.5s\tremaining: 18.8s\n",
            "602:\tlearn: 0.6661959\ttotal: 28.5s\tremaining: 18.8s\n",
            "603:\tlearn: 0.6660436\ttotal: 28.5s\tremaining: 18.7s\n",
            "604:\tlearn: 0.6658469\ttotal: 28.6s\tremaining: 18.7s\n",
            "605:\tlearn: 0.6657889\ttotal: 28.6s\tremaining: 18.6s\n",
            "606:\tlearn: 0.6656438\ttotal: 28.6s\tremaining: 18.5s\n",
            "607:\tlearn: 0.6654543\ttotal: 28.7s\tremaining: 18.5s\n",
            "608:\tlearn: 0.6652695\ttotal: 28.7s\tremaining: 18.4s\n",
            "609:\tlearn: 0.6651575\ttotal: 28.7s\tremaining: 18.4s\n",
            "610:\tlearn: 0.6649177\ttotal: 28.7s\tremaining: 18.3s\n",
            "611:\tlearn: 0.6648347\ttotal: 28.8s\tremaining: 18.2s\n",
            "612:\tlearn: 0.6647734\ttotal: 28.8s\tremaining: 18.2s\n",
            "613:\tlearn: 0.6646786\ttotal: 28.8s\tremaining: 18.1s\n",
            "614:\tlearn: 0.6644213\ttotal: 28.8s\tremaining: 18.1s\n",
            "615:\tlearn: 0.6643368\ttotal: 28.9s\tremaining: 18s\n",
            "616:\tlearn: 0.6641988\ttotal: 28.9s\tremaining: 17.9s\n",
            "617:\tlearn: 0.6639486\ttotal: 28.9s\tremaining: 17.9s\n",
            "618:\tlearn: 0.6638443\ttotal: 29s\tremaining: 17.8s\n",
            "619:\tlearn: 0.6637105\ttotal: 29s\tremaining: 17.8s\n",
            "620:\tlearn: 0.6636161\ttotal: 29s\tremaining: 17.7s\n",
            "621:\tlearn: 0.6635787\ttotal: 29s\tremaining: 17.6s\n",
            "622:\tlearn: 0.6634583\ttotal: 29.1s\tremaining: 17.6s\n",
            "623:\tlearn: 0.6633727\ttotal: 29.1s\tremaining: 17.5s\n",
            "624:\tlearn: 0.6632112\ttotal: 29.1s\tremaining: 17.5s\n",
            "625:\tlearn: 0.6630935\ttotal: 29.1s\tremaining: 17.4s\n",
            "626:\tlearn: 0.6629973\ttotal: 29.2s\tremaining: 17.3s\n",
            "627:\tlearn: 0.6629509\ttotal: 29.2s\tremaining: 17.3s\n",
            "628:\tlearn: 0.6628220\ttotal: 29.2s\tremaining: 17.2s\n",
            "629:\tlearn: 0.6627224\ttotal: 29.2s\tremaining: 17.2s\n",
            "630:\tlearn: 0.6626626\ttotal: 29.3s\tremaining: 17.1s\n",
            "631:\tlearn: 0.6625182\ttotal: 29.3s\tremaining: 17.1s\n",
            "632:\tlearn: 0.6624094\ttotal: 29.3s\tremaining: 17s\n",
            "633:\tlearn: 0.6623339\ttotal: 29.3s\tremaining: 16.9s\n",
            "634:\tlearn: 0.6622312\ttotal: 29.4s\tremaining: 16.9s\n",
            "635:\tlearn: 0.6620471\ttotal: 29.4s\tremaining: 16.8s\n",
            "636:\tlearn: 0.6619661\ttotal: 29.4s\tremaining: 16.8s\n",
            "637:\tlearn: 0.6618728\ttotal: 29.4s\tremaining: 16.7s\n",
            "638:\tlearn: 0.6617943\ttotal: 29.5s\tremaining: 16.6s\n",
            "639:\tlearn: 0.6616475\ttotal: 29.5s\tremaining: 16.6s\n",
            "640:\tlearn: 0.6615477\ttotal: 29.5s\tremaining: 16.5s\n",
            "641:\tlearn: 0.6614467\ttotal: 29.5s\tremaining: 16.5s\n",
            "642:\tlearn: 0.6613258\ttotal: 29.6s\tremaining: 16.4s\n",
            "643:\tlearn: 0.6612794\ttotal: 29.6s\tremaining: 16.4s\n",
            "644:\tlearn: 0.6611574\ttotal: 29.6s\tremaining: 16.3s\n",
            "645:\tlearn: 0.6610147\ttotal: 29.7s\tremaining: 16.3s\n",
            "646:\tlearn: 0.6609086\ttotal: 29.7s\tremaining: 16.2s\n",
            "647:\tlearn: 0.6608045\ttotal: 29.7s\tremaining: 16.1s\n",
            "648:\tlearn: 0.6607021\ttotal: 29.7s\tremaining: 16.1s\n",
            "649:\tlearn: 0.6605118\ttotal: 29.8s\tremaining: 16s\n",
            "650:\tlearn: 0.6603607\ttotal: 29.8s\tremaining: 16s\n",
            "651:\tlearn: 0.6602508\ttotal: 29.8s\tremaining: 15.9s\n",
            "652:\tlearn: 0.6601973\ttotal: 29.8s\tremaining: 15.9s\n",
            "653:\tlearn: 0.6601123\ttotal: 29.9s\tremaining: 15.8s\n",
            "654:\tlearn: 0.6599982\ttotal: 29.9s\tremaining: 15.7s\n",
            "655:\tlearn: 0.6599015\ttotal: 29.9s\tremaining: 15.7s\n",
            "656:\tlearn: 0.6597602\ttotal: 30s\tremaining: 15.6s\n",
            "657:\tlearn: 0.6597106\ttotal: 30s\tremaining: 15.6s\n",
            "658:\tlearn: 0.6596223\ttotal: 30s\tremaining: 15.5s\n",
            "659:\tlearn: 0.6595654\ttotal: 30s\tremaining: 15.5s\n",
            "660:\tlearn: 0.6594873\ttotal: 30s\tremaining: 15.4s\n",
            "661:\tlearn: 0.6593983\ttotal: 30.1s\tremaining: 15.4s\n",
            "662:\tlearn: 0.6593063\ttotal: 30.1s\tremaining: 15.3s\n",
            "663:\tlearn: 0.6591918\ttotal: 30.1s\tremaining: 15.2s\n",
            "664:\tlearn: 0.6591158\ttotal: 30.1s\tremaining: 15.2s\n",
            "665:\tlearn: 0.6590494\ttotal: 30.2s\tremaining: 15.1s\n",
            "666:\tlearn: 0.6589760\ttotal: 30.2s\tremaining: 15.1s\n",
            "667:\tlearn: 0.6588424\ttotal: 30.2s\tremaining: 15s\n",
            "668:\tlearn: 0.6587547\ttotal: 30.3s\tremaining: 15s\n",
            "669:\tlearn: 0.6586225\ttotal: 30.3s\tremaining: 14.9s\n",
            "670:\tlearn: 0.6585375\ttotal: 30.3s\tremaining: 14.9s\n",
            "671:\tlearn: 0.6584473\ttotal: 30.3s\tremaining: 14.8s\n",
            "672:\tlearn: 0.6583742\ttotal: 30.4s\tremaining: 14.7s\n",
            "673:\tlearn: 0.6582089\ttotal: 30.4s\tremaining: 14.7s\n",
            "674:\tlearn: 0.6580735\ttotal: 30.4s\tremaining: 14.6s\n",
            "675:\tlearn: 0.6579937\ttotal: 30.4s\tremaining: 14.6s\n",
            "676:\tlearn: 0.6579283\ttotal: 30.5s\tremaining: 14.5s\n",
            "677:\tlearn: 0.6578305\ttotal: 30.5s\tremaining: 14.5s\n",
            "678:\tlearn: 0.6577259\ttotal: 30.5s\tremaining: 14.4s\n",
            "679:\tlearn: 0.6576580\ttotal: 30.5s\tremaining: 14.4s\n",
            "680:\tlearn: 0.6575301\ttotal: 30.6s\tremaining: 14.3s\n",
            "681:\tlearn: 0.6574381\ttotal: 30.6s\tremaining: 14.3s\n",
            "682:\tlearn: 0.6573732\ttotal: 30.6s\tremaining: 14.2s\n",
            "683:\tlearn: 0.6572894\ttotal: 30.6s\tremaining: 14.2s\n",
            "684:\tlearn: 0.6571204\ttotal: 30.7s\tremaining: 14.1s\n",
            "685:\tlearn: 0.6570044\ttotal: 30.7s\tremaining: 14s\n",
            "686:\tlearn: 0.6569300\ttotal: 30.7s\tremaining: 14s\n",
            "687:\tlearn: 0.6568183\ttotal: 30.7s\tremaining: 13.9s\n",
            "688:\tlearn: 0.6567074\ttotal: 30.8s\tremaining: 13.9s\n",
            "689:\tlearn: 0.6566027\ttotal: 30.8s\tremaining: 13.8s\n",
            "690:\tlearn: 0.6565570\ttotal: 30.8s\tremaining: 13.8s\n",
            "691:\tlearn: 0.6564732\ttotal: 30.8s\tremaining: 13.7s\n",
            "692:\tlearn: 0.6562978\ttotal: 30.9s\tremaining: 13.7s\n",
            "693:\tlearn: 0.6561744\ttotal: 30.9s\tremaining: 13.6s\n",
            "694:\tlearn: 0.6560536\ttotal: 30.9s\tremaining: 13.6s\n",
            "695:\tlearn: 0.6559299\ttotal: 31s\tremaining: 13.5s\n",
            "696:\tlearn: 0.6557702\ttotal: 31s\tremaining: 13.5s\n",
            "697:\tlearn: 0.6557014\ttotal: 31s\tremaining: 13.4s\n",
            "698:\tlearn: 0.6556010\ttotal: 31.1s\tremaining: 13.4s\n",
            "699:\tlearn: 0.6554609\ttotal: 31.1s\tremaining: 13.3s\n",
            "700:\tlearn: 0.6554079\ttotal: 31.1s\tremaining: 13.3s\n",
            "701:\tlearn: 0.6553116\ttotal: 31.1s\tremaining: 13.2s\n",
            "702:\tlearn: 0.6551692\ttotal: 31.2s\tremaining: 13.2s\n",
            "703:\tlearn: 0.6551328\ttotal: 31.2s\tremaining: 13.1s\n",
            "704:\tlearn: 0.6549280\ttotal: 31.2s\tremaining: 13.1s\n",
            "705:\tlearn: 0.6548864\ttotal: 31.2s\tremaining: 13s\n",
            "706:\tlearn: 0.6547793\ttotal: 31.3s\tremaining: 13s\n",
            "707:\tlearn: 0.6546240\ttotal: 31.3s\tremaining: 12.9s\n",
            "708:\tlearn: 0.6545747\ttotal: 31.3s\tremaining: 12.9s\n",
            "709:\tlearn: 0.6545098\ttotal: 31.3s\tremaining: 12.8s\n",
            "710:\tlearn: 0.6544247\ttotal: 31.4s\tremaining: 12.8s\n",
            "711:\tlearn: 0.6543512\ttotal: 31.4s\tremaining: 12.7s\n",
            "712:\tlearn: 0.6542577\ttotal: 31.4s\tremaining: 12.6s\n",
            "713:\tlearn: 0.6540819\ttotal: 31.5s\tremaining: 12.6s\n",
            "714:\tlearn: 0.6540049\ttotal: 31.5s\tremaining: 12.5s\n",
            "715:\tlearn: 0.6539411\ttotal: 31.5s\tremaining: 12.5s\n",
            "716:\tlearn: 0.6538710\ttotal: 31.5s\tremaining: 12.4s\n",
            "717:\tlearn: 0.6538207\ttotal: 31.6s\tremaining: 12.4s\n",
            "718:\tlearn: 0.6537218\ttotal: 31.6s\tremaining: 12.3s\n",
            "719:\tlearn: 0.6536427\ttotal: 31.6s\tremaining: 12.3s\n",
            "720:\tlearn: 0.6535174\ttotal: 31.6s\tremaining: 12.2s\n",
            "721:\tlearn: 0.6533875\ttotal: 31.7s\tremaining: 12.2s\n",
            "722:\tlearn: 0.6531903\ttotal: 31.7s\tremaining: 12.1s\n",
            "723:\tlearn: 0.6530802\ttotal: 31.7s\tremaining: 12.1s\n",
            "724:\tlearn: 0.6529801\ttotal: 31.7s\tremaining: 12s\n",
            "725:\tlearn: 0.6528889\ttotal: 31.8s\tremaining: 12s\n",
            "726:\tlearn: 0.6527719\ttotal: 31.8s\tremaining: 11.9s\n",
            "727:\tlearn: 0.6526760\ttotal: 31.8s\tremaining: 11.9s\n",
            "728:\tlearn: 0.6525169\ttotal: 31.9s\tremaining: 11.8s\n",
            "729:\tlearn: 0.6524061\ttotal: 31.9s\tremaining: 11.8s\n",
            "730:\tlearn: 0.6522910\ttotal: 31.9s\tremaining: 11.7s\n",
            "731:\tlearn: 0.6522158\ttotal: 31.9s\tremaining: 11.7s\n",
            "732:\tlearn: 0.6520721\ttotal: 32s\tremaining: 11.6s\n",
            "733:\tlearn: 0.6520031\ttotal: 32s\tremaining: 11.6s\n",
            "734:\tlearn: 0.6517863\ttotal: 32s\tremaining: 11.5s\n",
            "735:\tlearn: 0.6517009\ttotal: 32.1s\tremaining: 11.5s\n",
            "736:\tlearn: 0.6516434\ttotal: 32.1s\tremaining: 11.4s\n",
            "737:\tlearn: 0.6515786\ttotal: 32.1s\tremaining: 11.4s\n",
            "738:\tlearn: 0.6514927\ttotal: 32.1s\tremaining: 11.3s\n",
            "739:\tlearn: 0.6513469\ttotal: 32.2s\tremaining: 11.3s\n",
            "740:\tlearn: 0.6511914\ttotal: 32.2s\tremaining: 11.2s\n",
            "741:\tlearn: 0.6511040\ttotal: 32.2s\tremaining: 11.2s\n",
            "742:\tlearn: 0.6510161\ttotal: 32.2s\tremaining: 11.1s\n",
            "743:\tlearn: 0.6509817\ttotal: 32.3s\tremaining: 11.1s\n",
            "744:\tlearn: 0.6508832\ttotal: 32.3s\tremaining: 11s\n",
            "745:\tlearn: 0.6508228\ttotal: 32.3s\tremaining: 11s\n",
            "746:\tlearn: 0.6507133\ttotal: 32.3s\tremaining: 10.9s\n",
            "747:\tlearn: 0.6505950\ttotal: 32.4s\tremaining: 10.9s\n",
            "748:\tlearn: 0.6505156\ttotal: 32.4s\tremaining: 10.8s\n",
            "749:\tlearn: 0.6504808\ttotal: 32.4s\tremaining: 10.8s\n",
            "750:\tlearn: 0.6503993\ttotal: 32.4s\tremaining: 10.8s\n",
            "751:\tlearn: 0.6503368\ttotal: 32.5s\tremaining: 10.7s\n",
            "752:\tlearn: 0.6502576\ttotal: 32.5s\tremaining: 10.7s\n",
            "753:\tlearn: 0.6501772\ttotal: 32.5s\tremaining: 10.6s\n",
            "754:\tlearn: 0.6500506\ttotal: 32.5s\tremaining: 10.6s\n",
            "755:\tlearn: 0.6499523\ttotal: 32.6s\tremaining: 10.5s\n",
            "756:\tlearn: 0.6499075\ttotal: 32.6s\tremaining: 10.5s\n",
            "757:\tlearn: 0.6498297\ttotal: 32.6s\tremaining: 10.4s\n",
            "758:\tlearn: 0.6497384\ttotal: 32.6s\tremaining: 10.4s\n",
            "759:\tlearn: 0.6496528\ttotal: 32.7s\tremaining: 10.3s\n",
            "760:\tlearn: 0.6494939\ttotal: 32.7s\tremaining: 10.3s\n",
            "761:\tlearn: 0.6494165\ttotal: 32.7s\tremaining: 10.2s\n",
            "762:\tlearn: 0.6493385\ttotal: 32.8s\tremaining: 10.2s\n",
            "763:\tlearn: 0.6492370\ttotal: 32.8s\tremaining: 10.1s\n",
            "764:\tlearn: 0.6490840\ttotal: 32.8s\tremaining: 10.1s\n",
            "765:\tlearn: 0.6489625\ttotal: 32.8s\tremaining: 10s\n",
            "766:\tlearn: 0.6488124\ttotal: 32.9s\tremaining: 9.98s\n",
            "767:\tlearn: 0.6486811\ttotal: 32.9s\tremaining: 9.94s\n",
            "768:\tlearn: 0.6485764\ttotal: 32.9s\tremaining: 9.89s\n",
            "769:\tlearn: 0.6485076\ttotal: 33s\tremaining: 9.84s\n",
            "770:\tlearn: 0.6482565\ttotal: 33s\tremaining: 9.8s\n",
            "771:\tlearn: 0.6481944\ttotal: 33s\tremaining: 9.75s\n",
            "772:\tlearn: 0.6481177\ttotal: 33s\tremaining: 9.7s\n",
            "773:\tlearn: 0.6479935\ttotal: 33.1s\tremaining: 9.65s\n",
            "774:\tlearn: 0.6479165\ttotal: 33.1s\tremaining: 9.6s\n",
            "775:\tlearn: 0.6478119\ttotal: 33.1s\tremaining: 9.56s\n",
            "776:\tlearn: 0.6477527\ttotal: 33.1s\tremaining: 9.51s\n",
            "777:\tlearn: 0.6476089\ttotal: 33.2s\tremaining: 9.46s\n",
            "778:\tlearn: 0.6475314\ttotal: 33.2s\tremaining: 9.41s\n",
            "779:\tlearn: 0.6474871\ttotal: 33.2s\tremaining: 9.37s\n",
            "780:\tlearn: 0.6474079\ttotal: 33.2s\tremaining: 9.32s\n",
            "781:\tlearn: 0.6472513\ttotal: 33.3s\tremaining: 9.27s\n",
            "782:\tlearn: 0.6471080\ttotal: 33.3s\tremaining: 9.22s\n",
            "783:\tlearn: 0.6470133\ttotal: 33.3s\tremaining: 9.18s\n",
            "784:\tlearn: 0.6469299\ttotal: 33.3s\tremaining: 9.13s\n",
            "785:\tlearn: 0.6468735\ttotal: 33.4s\tremaining: 9.08s\n",
            "786:\tlearn: 0.6467787\ttotal: 33.4s\tremaining: 9.03s\n",
            "787:\tlearn: 0.6467406\ttotal: 33.4s\tremaining: 8.99s\n",
            "788:\tlearn: 0.6466470\ttotal: 33.4s\tremaining: 8.94s\n",
            "789:\tlearn: 0.6465845\ttotal: 33.5s\tremaining: 8.89s\n",
            "790:\tlearn: 0.6465253\ttotal: 33.5s\tremaining: 8.85s\n",
            "791:\tlearn: 0.6464992\ttotal: 33.5s\tremaining: 8.8s\n",
            "792:\tlearn: 0.6464411\ttotal: 33.5s\tremaining: 8.75s\n",
            "793:\tlearn: 0.6463343\ttotal: 33.6s\tremaining: 8.71s\n",
            "794:\tlearn: 0.6462555\ttotal: 33.6s\tremaining: 8.66s\n",
            "795:\tlearn: 0.6460953\ttotal: 33.6s\tremaining: 8.61s\n",
            "796:\tlearn: 0.6460350\ttotal: 33.6s\tremaining: 8.57s\n",
            "797:\tlearn: 0.6459716\ttotal: 33.7s\tremaining: 8.52s\n",
            "798:\tlearn: 0.6458669\ttotal: 33.7s\tremaining: 8.47s\n",
            "799:\tlearn: 0.6457462\ttotal: 33.7s\tremaining: 8.43s\n",
            "800:\tlearn: 0.6455912\ttotal: 33.7s\tremaining: 8.38s\n",
            "801:\tlearn: 0.6455148\ttotal: 33.8s\tremaining: 8.34s\n",
            "802:\tlearn: 0.6454213\ttotal: 33.8s\tremaining: 8.29s\n",
            "803:\tlearn: 0.6453405\ttotal: 33.8s\tremaining: 8.24s\n",
            "804:\tlearn: 0.6452353\ttotal: 33.8s\tremaining: 8.2s\n",
            "805:\tlearn: 0.6450992\ttotal: 33.9s\tremaining: 8.15s\n",
            "806:\tlearn: 0.6450007\ttotal: 33.9s\tremaining: 8.11s\n",
            "807:\tlearn: 0.6449375\ttotal: 33.9s\tremaining: 8.06s\n",
            "808:\tlearn: 0.6448696\ttotal: 34s\tremaining: 8.02s\n",
            "809:\tlearn: 0.6447553\ttotal: 34s\tremaining: 7.97s\n",
            "810:\tlearn: 0.6446782\ttotal: 34s\tremaining: 7.93s\n",
            "811:\tlearn: 0.6444964\ttotal: 34s\tremaining: 7.88s\n",
            "812:\tlearn: 0.6444231\ttotal: 34.1s\tremaining: 7.84s\n",
            "813:\tlearn: 0.6443406\ttotal: 34.1s\tremaining: 7.79s\n",
            "814:\tlearn: 0.6442567\ttotal: 34.1s\tremaining: 7.74s\n",
            "815:\tlearn: 0.6441796\ttotal: 34.1s\tremaining: 7.7s\n",
            "816:\tlearn: 0.6440728\ttotal: 34.2s\tremaining: 7.65s\n",
            "817:\tlearn: 0.6439673\ttotal: 34.2s\tremaining: 7.61s\n",
            "818:\tlearn: 0.6438933\ttotal: 34.2s\tremaining: 7.56s\n",
            "819:\tlearn: 0.6438459\ttotal: 34.2s\tremaining: 7.52s\n",
            "820:\tlearn: 0.6437718\ttotal: 34.3s\tremaining: 7.47s\n",
            "821:\tlearn: 0.6436571\ttotal: 34.3s\tremaining: 7.43s\n",
            "822:\tlearn: 0.6435768\ttotal: 34.3s\tremaining: 7.38s\n",
            "823:\tlearn: 0.6434791\ttotal: 34.3s\tremaining: 7.33s\n",
            "824:\tlearn: 0.6433394\ttotal: 34.4s\tremaining: 7.29s\n",
            "825:\tlearn: 0.6432497\ttotal: 34.4s\tremaining: 7.25s\n",
            "826:\tlearn: 0.6431910\ttotal: 34.4s\tremaining: 7.2s\n",
            "827:\tlearn: 0.6430753\ttotal: 34.5s\tremaining: 7.16s\n",
            "828:\tlearn: 0.6429697\ttotal: 34.5s\tremaining: 7.11s\n",
            "829:\tlearn: 0.6428985\ttotal: 34.5s\tremaining: 7.07s\n",
            "830:\tlearn: 0.6428239\ttotal: 34.5s\tremaining: 7.02s\n",
            "831:\tlearn: 0.6427688\ttotal: 34.6s\tremaining: 6.98s\n",
            "832:\tlearn: 0.6427001\ttotal: 34.6s\tremaining: 6.93s\n",
            "833:\tlearn: 0.6426329\ttotal: 34.6s\tremaining: 6.89s\n",
            "834:\tlearn: 0.6425904\ttotal: 34.6s\tremaining: 6.85s\n",
            "835:\tlearn: 0.6424938\ttotal: 34.7s\tremaining: 6.8s\n",
            "836:\tlearn: 0.6424387\ttotal: 34.7s\tremaining: 6.76s\n",
            "837:\tlearn: 0.6423419\ttotal: 34.7s\tremaining: 6.71s\n",
            "838:\tlearn: 0.6422388\ttotal: 34.7s\tremaining: 6.67s\n",
            "839:\tlearn: 0.6421959\ttotal: 34.8s\tremaining: 6.62s\n",
            "840:\tlearn: 0.6421178\ttotal: 34.8s\tremaining: 6.58s\n",
            "841:\tlearn: 0.6420584\ttotal: 34.8s\tremaining: 6.54s\n",
            "842:\tlearn: 0.6419693\ttotal: 34.9s\tremaining: 6.49s\n",
            "843:\tlearn: 0.6418535\ttotal: 34.9s\tremaining: 6.45s\n",
            "844:\tlearn: 0.6417405\ttotal: 34.9s\tremaining: 6.4s\n",
            "845:\tlearn: 0.6415859\ttotal: 34.9s\tremaining: 6.36s\n",
            "846:\tlearn: 0.6414031\ttotal: 35s\tremaining: 6.32s\n",
            "847:\tlearn: 0.6413375\ttotal: 35s\tremaining: 6.27s\n",
            "848:\tlearn: 0.6411861\ttotal: 35s\tremaining: 6.23s\n",
            "849:\tlearn: 0.6410897\ttotal: 35.1s\tremaining: 6.19s\n",
            "850:\tlearn: 0.6409661\ttotal: 35.1s\tremaining: 6.14s\n",
            "851:\tlearn: 0.6408651\ttotal: 35.1s\tremaining: 6.1s\n",
            "852:\tlearn: 0.6406522\ttotal: 35.1s\tremaining: 6.05s\n",
            "853:\tlearn: 0.6405546\ttotal: 35.2s\tremaining: 6.01s\n",
            "854:\tlearn: 0.6404702\ttotal: 35.2s\tremaining: 5.97s\n",
            "855:\tlearn: 0.6403828\ttotal: 35.2s\tremaining: 5.92s\n",
            "856:\tlearn: 0.6402686\ttotal: 35.2s\tremaining: 5.88s\n",
            "857:\tlearn: 0.6402010\ttotal: 35.3s\tremaining: 5.84s\n",
            "858:\tlearn: 0.6400928\ttotal: 35.3s\tremaining: 5.79s\n",
            "859:\tlearn: 0.6400020\ttotal: 35.3s\tremaining: 5.75s\n",
            "860:\tlearn: 0.6399096\ttotal: 35.3s\tremaining: 5.71s\n",
            "861:\tlearn: 0.6398560\ttotal: 35.4s\tremaining: 5.66s\n",
            "862:\tlearn: 0.6397744\ttotal: 35.4s\tremaining: 5.62s\n",
            "863:\tlearn: 0.6396624\ttotal: 35.4s\tremaining: 5.57s\n",
            "864:\tlearn: 0.6395440\ttotal: 35.4s\tremaining: 5.53s\n",
            "865:\tlearn: 0.6394682\ttotal: 35.5s\tremaining: 5.49s\n",
            "866:\tlearn: 0.6394173\ttotal: 35.5s\tremaining: 5.45s\n",
            "867:\tlearn: 0.6393367\ttotal: 35.5s\tremaining: 5.4s\n",
            "868:\tlearn: 0.6392339\ttotal: 35.6s\tremaining: 5.36s\n",
            "869:\tlearn: 0.6391564\ttotal: 35.6s\tremaining: 5.32s\n",
            "870:\tlearn: 0.6390931\ttotal: 35.6s\tremaining: 5.27s\n",
            "871:\tlearn: 0.6389843\ttotal: 35.6s\tremaining: 5.23s\n",
            "872:\tlearn: 0.6389038\ttotal: 35.7s\tremaining: 5.19s\n",
            "873:\tlearn: 0.6388377\ttotal: 35.7s\tremaining: 5.14s\n",
            "874:\tlearn: 0.6386464\ttotal: 35.7s\tremaining: 5.1s\n",
            "875:\tlearn: 0.6385962\ttotal: 35.7s\tremaining: 5.06s\n",
            "876:\tlearn: 0.6385426\ttotal: 35.8s\tremaining: 5.02s\n",
            "877:\tlearn: 0.6384710\ttotal: 35.8s\tremaining: 4.97s\n",
            "878:\tlearn: 0.6383073\ttotal: 35.8s\tremaining: 4.93s\n",
            "879:\tlearn: 0.6382372\ttotal: 35.8s\tremaining: 4.89s\n",
            "880:\tlearn: 0.6381765\ttotal: 35.9s\tremaining: 4.84s\n",
            "881:\tlearn: 0.6380968\ttotal: 35.9s\tremaining: 4.8s\n",
            "882:\tlearn: 0.6380327\ttotal: 35.9s\tremaining: 4.76s\n",
            "883:\tlearn: 0.6379776\ttotal: 35.9s\tremaining: 4.72s\n",
            "884:\tlearn: 0.6378814\ttotal: 36s\tremaining: 4.67s\n",
            "885:\tlearn: 0.6378357\ttotal: 36s\tremaining: 4.63s\n",
            "886:\tlearn: 0.6377796\ttotal: 36s\tremaining: 4.59s\n",
            "887:\tlearn: 0.6376975\ttotal: 36.1s\tremaining: 4.55s\n",
            "888:\tlearn: 0.6376417\ttotal: 36.1s\tremaining: 4.5s\n",
            "889:\tlearn: 0.6375837\ttotal: 36.1s\tremaining: 4.46s\n",
            "890:\tlearn: 0.6374849\ttotal: 36.1s\tremaining: 4.42s\n",
            "891:\tlearn: 0.6374002\ttotal: 36.2s\tremaining: 4.38s\n",
            "892:\tlearn: 0.6373619\ttotal: 36.2s\tremaining: 4.33s\n",
            "893:\tlearn: 0.6372622\ttotal: 36.2s\tremaining: 4.29s\n",
            "894:\tlearn: 0.6371644\ttotal: 36.2s\tremaining: 4.25s\n",
            "895:\tlearn: 0.6370949\ttotal: 36.3s\tremaining: 4.21s\n",
            "896:\tlearn: 0.6370390\ttotal: 36.3s\tremaining: 4.17s\n",
            "897:\tlearn: 0.6369935\ttotal: 36.3s\tremaining: 4.13s\n",
            "898:\tlearn: 0.6368685\ttotal: 36.4s\tremaining: 4.08s\n",
            "899:\tlearn: 0.6367939\ttotal: 36.4s\tremaining: 4.04s\n",
            "900:\tlearn: 0.6366374\ttotal: 36.4s\tremaining: 4s\n",
            "901:\tlearn: 0.6365407\ttotal: 36.4s\tremaining: 3.96s\n",
            "902:\tlearn: 0.6364620\ttotal: 36.5s\tremaining: 3.92s\n",
            "903:\tlearn: 0.6363901\ttotal: 36.5s\tremaining: 3.87s\n",
            "904:\tlearn: 0.6362945\ttotal: 36.5s\tremaining: 3.83s\n",
            "905:\tlearn: 0.6362526\ttotal: 36.5s\tremaining: 3.79s\n",
            "906:\tlearn: 0.6361964\ttotal: 36.6s\tremaining: 3.75s\n",
            "907:\tlearn: 0.6361371\ttotal: 36.6s\tremaining: 3.71s\n",
            "908:\tlearn: 0.6360412\ttotal: 36.6s\tremaining: 3.67s\n",
            "909:\tlearn: 0.6359638\ttotal: 36.6s\tremaining: 3.62s\n",
            "910:\tlearn: 0.6358859\ttotal: 36.7s\tremaining: 3.58s\n",
            "911:\tlearn: 0.6358221\ttotal: 36.7s\tremaining: 3.54s\n",
            "912:\tlearn: 0.6357420\ttotal: 36.7s\tremaining: 3.5s\n",
            "913:\tlearn: 0.6356884\ttotal: 36.7s\tremaining: 3.46s\n",
            "914:\tlearn: 0.6355974\ttotal: 36.8s\tremaining: 3.42s\n",
            "915:\tlearn: 0.6355282\ttotal: 36.8s\tremaining: 3.37s\n",
            "916:\tlearn: 0.6354128\ttotal: 36.8s\tremaining: 3.33s\n",
            "917:\tlearn: 0.6353321\ttotal: 36.8s\tremaining: 3.29s\n",
            "918:\tlearn: 0.6351585\ttotal: 36.9s\tremaining: 3.25s\n",
            "919:\tlearn: 0.6350733\ttotal: 36.9s\tremaining: 3.21s\n",
            "920:\tlearn: 0.6349694\ttotal: 36.9s\tremaining: 3.17s\n",
            "921:\tlearn: 0.6348875\ttotal: 36.9s\tremaining: 3.13s\n",
            "922:\tlearn: 0.6348059\ttotal: 37s\tremaining: 3.08s\n",
            "923:\tlearn: 0.6347801\ttotal: 37s\tremaining: 3.04s\n",
            "924:\tlearn: 0.6346702\ttotal: 37s\tremaining: 3s\n",
            "925:\tlearn: 0.6345498\ttotal: 37.1s\tremaining: 2.96s\n",
            "926:\tlearn: 0.6344554\ttotal: 37.1s\tremaining: 2.92s\n",
            "927:\tlearn: 0.6344096\ttotal: 37.1s\tremaining: 2.88s\n",
            "928:\tlearn: 0.6343261\ttotal: 37.1s\tremaining: 2.84s\n",
            "929:\tlearn: 0.6342466\ttotal: 37.2s\tremaining: 2.8s\n",
            "930:\tlearn: 0.6341650\ttotal: 37.2s\tremaining: 2.76s\n",
            "931:\tlearn: 0.6340013\ttotal: 37.2s\tremaining: 2.72s\n",
            "932:\tlearn: 0.6339354\ttotal: 37.3s\tremaining: 2.67s\n",
            "933:\tlearn: 0.6337994\ttotal: 37.3s\tremaining: 2.63s\n",
            "934:\tlearn: 0.6337499\ttotal: 37.3s\tremaining: 2.59s\n",
            "935:\tlearn: 0.6336916\ttotal: 37.3s\tremaining: 2.55s\n",
            "936:\tlearn: 0.6335414\ttotal: 37.4s\tremaining: 2.51s\n",
            "937:\tlearn: 0.6333689\ttotal: 37.4s\tremaining: 2.47s\n",
            "938:\tlearn: 0.6332705\ttotal: 37.4s\tremaining: 2.43s\n",
            "939:\tlearn: 0.6331903\ttotal: 37.4s\tremaining: 2.39s\n",
            "940:\tlearn: 0.6331230\ttotal: 37.5s\tremaining: 2.35s\n",
            "941:\tlearn: 0.6330306\ttotal: 37.5s\tremaining: 2.31s\n",
            "942:\tlearn: 0.6329761\ttotal: 37.5s\tremaining: 2.27s\n",
            "943:\tlearn: 0.6328728\ttotal: 37.6s\tremaining: 2.23s\n",
            "944:\tlearn: 0.6327570\ttotal: 37.6s\tremaining: 2.19s\n",
            "945:\tlearn: 0.6327018\ttotal: 37.6s\tremaining: 2.15s\n",
            "946:\tlearn: 0.6326320\ttotal: 37.6s\tremaining: 2.11s\n",
            "947:\tlearn: 0.6325904\ttotal: 37.7s\tremaining: 2.06s\n",
            "948:\tlearn: 0.6325408\ttotal: 37.7s\tremaining: 2.02s\n",
            "949:\tlearn: 0.6324354\ttotal: 37.7s\tremaining: 1.98s\n",
            "950:\tlearn: 0.6322203\ttotal: 37.7s\tremaining: 1.94s\n",
            "951:\tlearn: 0.6321539\ttotal: 37.8s\tremaining: 1.9s\n",
            "952:\tlearn: 0.6320345\ttotal: 37.8s\tremaining: 1.86s\n",
            "953:\tlearn: 0.6318752\ttotal: 37.8s\tremaining: 1.82s\n",
            "954:\tlearn: 0.6318066\ttotal: 37.8s\tremaining: 1.78s\n",
            "955:\tlearn: 0.6317101\ttotal: 37.9s\tremaining: 1.74s\n",
            "956:\tlearn: 0.6316365\ttotal: 37.9s\tremaining: 1.7s\n",
            "957:\tlearn: 0.6315301\ttotal: 37.9s\tremaining: 1.66s\n",
            "958:\tlearn: 0.6314919\ttotal: 37.9s\tremaining: 1.62s\n",
            "959:\tlearn: 0.6312844\ttotal: 38s\tremaining: 1.58s\n",
            "960:\tlearn: 0.6310832\ttotal: 38s\tremaining: 1.54s\n",
            "961:\tlearn: 0.6310192\ttotal: 38s\tremaining: 1.5s\n",
            "962:\tlearn: 0.6309835\ttotal: 38.1s\tremaining: 1.46s\n",
            "963:\tlearn: 0.6308946\ttotal: 38.1s\tremaining: 1.42s\n",
            "964:\tlearn: 0.6308158\ttotal: 38.1s\tremaining: 1.38s\n",
            "965:\tlearn: 0.6307419\ttotal: 38.1s\tremaining: 1.34s\n",
            "966:\tlearn: 0.6306851\ttotal: 38.2s\tremaining: 1.3s\n",
            "967:\tlearn: 0.6306233\ttotal: 38.2s\tremaining: 1.26s\n",
            "968:\tlearn: 0.6305568\ttotal: 38.2s\tremaining: 1.22s\n",
            "969:\tlearn: 0.6305006\ttotal: 38.2s\tremaining: 1.18s\n",
            "970:\tlearn: 0.6303541\ttotal: 38.3s\tremaining: 1.14s\n",
            "971:\tlearn: 0.6302704\ttotal: 38.3s\tremaining: 1.1s\n",
            "972:\tlearn: 0.6302133\ttotal: 38.3s\tremaining: 1.06s\n",
            "973:\tlearn: 0.6301523\ttotal: 38.3s\tremaining: 1.02s\n",
            "974:\tlearn: 0.6300254\ttotal: 38.4s\tremaining: 984ms\n",
            "975:\tlearn: 0.6299419\ttotal: 38.4s\tremaining: 944ms\n",
            "976:\tlearn: 0.6298730\ttotal: 38.4s\tremaining: 905ms\n",
            "977:\tlearn: 0.6298119\ttotal: 38.5s\tremaining: 865ms\n",
            "978:\tlearn: 0.6297641\ttotal: 38.5s\tremaining: 825ms\n",
            "979:\tlearn: 0.6297227\ttotal: 38.5s\tremaining: 786ms\n",
            "980:\tlearn: 0.6295830\ttotal: 38.5s\tremaining: 746ms\n",
            "981:\tlearn: 0.6295240\ttotal: 38.6s\tremaining: 707ms\n",
            "982:\tlearn: 0.6294174\ttotal: 38.6s\tremaining: 667ms\n",
            "983:\tlearn: 0.6292657\ttotal: 38.6s\tremaining: 628ms\n",
            "984:\tlearn: 0.6291567\ttotal: 38.6s\tremaining: 588ms\n",
            "985:\tlearn: 0.6290960\ttotal: 38.7s\tremaining: 549ms\n",
            "986:\tlearn: 0.6290060\ttotal: 38.7s\tremaining: 510ms\n",
            "987:\tlearn: 0.6289490\ttotal: 38.7s\tremaining: 470ms\n",
            "988:\tlearn: 0.6288800\ttotal: 38.7s\tremaining: 431ms\n",
            "989:\tlearn: 0.6287875\ttotal: 38.8s\tremaining: 392ms\n",
            "990:\tlearn: 0.6287304\ttotal: 38.8s\tremaining: 352ms\n",
            "991:\tlearn: 0.6286432\ttotal: 38.8s\tremaining: 313ms\n",
            "992:\tlearn: 0.6286098\ttotal: 38.9s\tremaining: 274ms\n",
            "993:\tlearn: 0.6285203\ttotal: 38.9s\tremaining: 235ms\n",
            "994:\tlearn: 0.6284794\ttotal: 38.9s\tremaining: 196ms\n",
            "995:\tlearn: 0.6283857\ttotal: 38.9s\tremaining: 156ms\n",
            "996:\tlearn: 0.6283015\ttotal: 39s\tremaining: 117ms\n",
            "997:\tlearn: 0.6282140\ttotal: 39s\tremaining: 78.2ms\n",
            "998:\tlearn: 0.6281458\ttotal: 39s\tremaining: 39.1ms\n",
            "999:\tlearn: 0.6280999\ttotal: 39.1s\tremaining: 0us\n"
          ]
        },
        {
          "output_type": "execute_result",
          "data": {
            "text/plain": [
              "0.5077582846003899"
            ]
          },
          "metadata": {},
          "execution_count": 67
        }
      ],
      "source": [
        "cbc= CatBoostClassifier()\n",
        "cbc.fit(X_res_1,y_res_1)\n",
        "y_pred_cbc= cbc.predict(X_val)\n",
        "accuracy_score(y_val,y_pred_cbc)"
      ]
    },
    {
      "cell_type": "code",
      "execution_count": 68,
      "metadata": {
        "colab": {
          "base_uri": "https://localhost:8080/"
        },
        "id": "ADZ3m4-tI0yI",
        "outputId": "18ecaec8-9f32-47a5-f87d-f4ea95ed6a5d"
      },
      "outputs": [
        {
          "output_type": "stream",
          "name": "stdout",
          "text": [
            "Learning rate set to 0.096398\n",
            "0:\tlearn: 1.3472905\ttotal: 40.3ms\tremaining: 40.3s\n",
            "1:\tlearn: 1.3133400\ttotal: 76ms\tremaining: 37.9s\n",
            "2:\tlearn: 1.2843699\ttotal: 106ms\tremaining: 35.3s\n",
            "3:\tlearn: 1.2560640\ttotal: 134ms\tremaining: 33.4s\n",
            "4:\tlearn: 1.2302775\ttotal: 162ms\tremaining: 32.3s\n",
            "5:\tlearn: 1.2101150\ttotal: 192ms\tremaining: 31.7s\n",
            "6:\tlearn: 1.1918626\ttotal: 220ms\tremaining: 31.1s\n",
            "7:\tlearn: 1.1738600\ttotal: 248ms\tremaining: 30.8s\n",
            "8:\tlearn: 1.1600510\ttotal: 275ms\tremaining: 30.2s\n",
            "9:\tlearn: 1.1462471\ttotal: 301ms\tremaining: 29.8s\n",
            "10:\tlearn: 1.1327829\ttotal: 328ms\tremaining: 29.5s\n",
            "11:\tlearn: 1.1217968\ttotal: 358ms\tremaining: 29.5s\n",
            "12:\tlearn: 1.1104407\ttotal: 385ms\tremaining: 29.2s\n",
            "13:\tlearn: 1.0990941\ttotal: 416ms\tremaining: 29.3s\n",
            "14:\tlearn: 1.0912492\ttotal: 445ms\tremaining: 29.2s\n",
            "15:\tlearn: 1.0842227\ttotal: 472ms\tremaining: 29s\n",
            "16:\tlearn: 1.0736594\ttotal: 500ms\tremaining: 28.9s\n",
            "17:\tlearn: 1.0638792\ttotal: 526ms\tremaining: 28.7s\n",
            "18:\tlearn: 1.0553668\ttotal: 555ms\tremaining: 28.7s\n",
            "19:\tlearn: 1.0474964\ttotal: 581ms\tremaining: 28.5s\n",
            "20:\tlearn: 1.0397259\ttotal: 610ms\tremaining: 28.4s\n",
            "21:\tlearn: 1.0315649\ttotal: 641ms\tremaining: 28.5s\n",
            "22:\tlearn: 1.0253412\ttotal: 667ms\tremaining: 28.3s\n",
            "23:\tlearn: 1.0182637\ttotal: 694ms\tremaining: 28.2s\n",
            "24:\tlearn: 1.0124042\ttotal: 721ms\tremaining: 28.1s\n",
            "25:\tlearn: 1.0065401\ttotal: 772ms\tremaining: 28.9s\n",
            "26:\tlearn: 0.9980854\ttotal: 842ms\tremaining: 30.4s\n",
            "27:\tlearn: 0.9922735\ttotal: 938ms\tremaining: 32.6s\n",
            "28:\tlearn: 0.9863510\ttotal: 998ms\tremaining: 33.4s\n",
            "29:\tlearn: 0.9816736\ttotal: 1.09s\tremaining: 35.1s\n",
            "30:\tlearn: 0.9751235\ttotal: 1.18s\tremaining: 37s\n",
            "31:\tlearn: 0.9690160\ttotal: 1.26s\tremaining: 38.2s\n",
            "32:\tlearn: 0.9651729\ttotal: 1.33s\tremaining: 38.9s\n",
            "33:\tlearn: 0.9603272\ttotal: 1.39s\tremaining: 39.6s\n",
            "34:\tlearn: 0.9549327\ttotal: 1.44s\tremaining: 39.8s\n",
            "35:\tlearn: 0.9510370\ttotal: 1.51s\tremaining: 40.4s\n",
            "36:\tlearn: 0.9476167\ttotal: 1.6s\tremaining: 41.6s\n",
            "37:\tlearn: 0.9431859\ttotal: 1.66s\tremaining: 42.1s\n",
            "38:\tlearn: 0.9394448\ttotal: 1.73s\tremaining: 42.6s\n",
            "39:\tlearn: 0.9352170\ttotal: 1.81s\tremaining: 43.5s\n",
            "40:\tlearn: 0.9319958\ttotal: 1.9s\tremaining: 44.5s\n",
            "41:\tlearn: 0.9268589\ttotal: 1.99s\tremaining: 45.4s\n",
            "42:\tlearn: 0.9240242\ttotal: 2.04s\tremaining: 45.4s\n",
            "43:\tlearn: 0.9219099\ttotal: 2.1s\tremaining: 45.6s\n",
            "44:\tlearn: 0.9185378\ttotal: 2.17s\tremaining: 46s\n",
            "45:\tlearn: 0.9151351\ttotal: 2.25s\tremaining: 46.6s\n",
            "46:\tlearn: 0.9114912\ttotal: 2.31s\tremaining: 46.9s\n",
            "47:\tlearn: 0.9094260\ttotal: 2.38s\tremaining: 47.2s\n",
            "48:\tlearn: 0.9065640\ttotal: 2.44s\tremaining: 47.4s\n",
            "49:\tlearn: 0.9030216\ttotal: 2.5s\tremaining: 47.5s\n",
            "50:\tlearn: 0.9002986\ttotal: 2.56s\tremaining: 47.7s\n",
            "51:\tlearn: 0.8974650\ttotal: 2.63s\tremaining: 48s\n",
            "52:\tlearn: 0.8964232\ttotal: 2.69s\tremaining: 48.1s\n",
            "53:\tlearn: 0.8937650\ttotal: 2.76s\tremaining: 48.4s\n",
            "54:\tlearn: 0.8921450\ttotal: 2.82s\tremaining: 48.5s\n",
            "55:\tlearn: 0.8893965\ttotal: 2.89s\tremaining: 48.8s\n",
            "56:\tlearn: 0.8864018\ttotal: 2.92s\tremaining: 48.3s\n",
            "57:\tlearn: 0.8849077\ttotal: 2.95s\tremaining: 47.8s\n",
            "58:\tlearn: 0.8832223\ttotal: 2.99s\tremaining: 47.6s\n",
            "59:\tlearn: 0.8818407\ttotal: 3.02s\tremaining: 47.3s\n",
            "60:\tlearn: 0.8804350\ttotal: 3.04s\tremaining: 46.9s\n",
            "61:\tlearn: 0.8784915\ttotal: 3.07s\tremaining: 46.5s\n",
            "62:\tlearn: 0.8770636\ttotal: 3.1s\tremaining: 46.1s\n",
            "63:\tlearn: 0.8749171\ttotal: 3.13s\tremaining: 45.8s\n",
            "64:\tlearn: 0.8734888\ttotal: 3.16s\tremaining: 45.4s\n",
            "65:\tlearn: 0.8710358\ttotal: 3.19s\tremaining: 45.2s\n",
            "66:\tlearn: 0.8682314\ttotal: 3.22s\tremaining: 44.9s\n",
            "67:\tlearn: 0.8662312\ttotal: 3.25s\tremaining: 44.6s\n",
            "68:\tlearn: 0.8638084\ttotal: 3.28s\tremaining: 44.3s\n",
            "69:\tlearn: 0.8626278\ttotal: 3.31s\tremaining: 44s\n",
            "70:\tlearn: 0.8612892\ttotal: 3.34s\tremaining: 43.7s\n",
            "71:\tlearn: 0.8591577\ttotal: 3.37s\tremaining: 43.4s\n",
            "72:\tlearn: 0.8562345\ttotal: 3.4s\tremaining: 43.2s\n",
            "73:\tlearn: 0.8548571\ttotal: 3.43s\tremaining: 42.9s\n",
            "74:\tlearn: 0.8527904\ttotal: 3.46s\tremaining: 42.7s\n",
            "75:\tlearn: 0.8511731\ttotal: 3.49s\tremaining: 42.4s\n",
            "76:\tlearn: 0.8502449\ttotal: 3.51s\tremaining: 42.1s\n",
            "77:\tlearn: 0.8489588\ttotal: 3.54s\tremaining: 41.9s\n",
            "78:\tlearn: 0.8466812\ttotal: 3.58s\tremaining: 41.7s\n",
            "79:\tlearn: 0.8452122\ttotal: 3.61s\tremaining: 41.5s\n",
            "80:\tlearn: 0.8438796\ttotal: 3.64s\tremaining: 41.3s\n",
            "81:\tlearn: 0.8426354\ttotal: 3.67s\tremaining: 41.1s\n",
            "82:\tlearn: 0.8415772\ttotal: 3.69s\tremaining: 40.8s\n",
            "83:\tlearn: 0.8407886\ttotal: 3.72s\tremaining: 40.6s\n",
            "84:\tlearn: 0.8394707\ttotal: 3.75s\tremaining: 40.4s\n",
            "85:\tlearn: 0.8375809\ttotal: 3.78s\tremaining: 40.2s\n",
            "86:\tlearn: 0.8362612\ttotal: 3.82s\tremaining: 40.1s\n",
            "87:\tlearn: 0.8352330\ttotal: 3.85s\tremaining: 39.9s\n",
            "88:\tlearn: 0.8340805\ttotal: 3.88s\tremaining: 39.7s\n",
            "89:\tlearn: 0.8329968\ttotal: 3.9s\tremaining: 39.5s\n",
            "90:\tlearn: 0.8318668\ttotal: 3.93s\tremaining: 39.3s\n",
            "91:\tlearn: 0.8311466\ttotal: 3.96s\tremaining: 39.1s\n",
            "92:\tlearn: 0.8303455\ttotal: 3.99s\tremaining: 38.9s\n",
            "93:\tlearn: 0.8294631\ttotal: 4.03s\tremaining: 38.8s\n",
            "94:\tlearn: 0.8287037\ttotal: 4.05s\tremaining: 38.6s\n",
            "95:\tlearn: 0.8280009\ttotal: 4.08s\tremaining: 38.4s\n",
            "96:\tlearn: 0.8272102\ttotal: 4.11s\tremaining: 38.2s\n",
            "97:\tlearn: 0.8264670\ttotal: 4.14s\tremaining: 38.1s\n",
            "98:\tlearn: 0.8255305\ttotal: 4.17s\tremaining: 37.9s\n",
            "99:\tlearn: 0.8246989\ttotal: 4.2s\tremaining: 37.8s\n",
            "100:\tlearn: 0.8233147\ttotal: 4.23s\tremaining: 37.6s\n",
            "101:\tlearn: 0.8226144\ttotal: 4.26s\tremaining: 37.5s\n",
            "102:\tlearn: 0.8201395\ttotal: 4.29s\tremaining: 37.3s\n",
            "103:\tlearn: 0.8190922\ttotal: 4.32s\tremaining: 37.2s\n",
            "104:\tlearn: 0.8184516\ttotal: 4.34s\tremaining: 37s\n",
            "105:\tlearn: 0.8176966\ttotal: 4.37s\tremaining: 36.9s\n",
            "106:\tlearn: 0.8167266\ttotal: 4.4s\tremaining: 36.7s\n",
            "107:\tlearn: 0.8161382\ttotal: 4.43s\tremaining: 36.6s\n",
            "108:\tlearn: 0.8153753\ttotal: 4.46s\tremaining: 36.5s\n",
            "109:\tlearn: 0.8145417\ttotal: 4.49s\tremaining: 36.3s\n",
            "110:\tlearn: 0.8135887\ttotal: 4.52s\tremaining: 36.2s\n",
            "111:\tlearn: 0.8123543\ttotal: 4.55s\tremaining: 36s\n",
            "112:\tlearn: 0.8112604\ttotal: 4.58s\tremaining: 35.9s\n",
            "113:\tlearn: 0.8095053\ttotal: 4.61s\tremaining: 35.8s\n",
            "114:\tlearn: 0.8086759\ttotal: 4.64s\tremaining: 35.7s\n",
            "115:\tlearn: 0.8080575\ttotal: 4.66s\tremaining: 35.5s\n",
            "116:\tlearn: 0.8073575\ttotal: 4.69s\tremaining: 35.4s\n",
            "117:\tlearn: 0.8063481\ttotal: 4.72s\tremaining: 35.3s\n",
            "118:\tlearn: 0.8054050\ttotal: 4.75s\tremaining: 35.2s\n",
            "119:\tlearn: 0.8047562\ttotal: 4.78s\tremaining: 35s\n",
            "120:\tlearn: 0.8043108\ttotal: 4.8s\tremaining: 34.9s\n",
            "121:\tlearn: 0.8033062\ttotal: 4.83s\tremaining: 34.8s\n",
            "122:\tlearn: 0.8026697\ttotal: 4.86s\tremaining: 34.7s\n",
            "123:\tlearn: 0.8019660\ttotal: 4.89s\tremaining: 34.6s\n",
            "124:\tlearn: 0.8013765\ttotal: 4.92s\tremaining: 34.4s\n",
            "125:\tlearn: 0.8000468\ttotal: 4.96s\tremaining: 34.4s\n",
            "126:\tlearn: 0.7994192\ttotal: 4.99s\tremaining: 34.3s\n",
            "127:\tlearn: 0.7989874\ttotal: 5.02s\tremaining: 34.2s\n",
            "128:\tlearn: 0.7979780\ttotal: 5.06s\tremaining: 34.2s\n",
            "129:\tlearn: 0.7975753\ttotal: 5.09s\tremaining: 34.1s\n",
            "130:\tlearn: 0.7970190\ttotal: 5.11s\tremaining: 33.9s\n",
            "131:\tlearn: 0.7962994\ttotal: 5.14s\tremaining: 33.8s\n",
            "132:\tlearn: 0.7957866\ttotal: 5.17s\tremaining: 33.7s\n",
            "133:\tlearn: 0.7949756\ttotal: 5.2s\tremaining: 33.6s\n",
            "134:\tlearn: 0.7940971\ttotal: 5.25s\tremaining: 33.6s\n",
            "135:\tlearn: 0.7932407\ttotal: 5.35s\tremaining: 34s\n",
            "136:\tlearn: 0.7929092\ttotal: 5.42s\tremaining: 34.1s\n",
            "137:\tlearn: 0.7922784\ttotal: 5.46s\tremaining: 34.1s\n",
            "138:\tlearn: 0.7913851\ttotal: 5.51s\tremaining: 34.1s\n",
            "139:\tlearn: 0.7899365\ttotal: 5.6s\tremaining: 34.4s\n",
            "140:\tlearn: 0.7884745\ttotal: 5.68s\tremaining: 34.6s\n",
            "141:\tlearn: 0.7877777\ttotal: 5.75s\tremaining: 34.8s\n",
            "142:\tlearn: 0.7873201\ttotal: 5.81s\tremaining: 34.8s\n",
            "143:\tlearn: 0.7866266\ttotal: 5.88s\tremaining: 34.9s\n",
            "144:\tlearn: 0.7861680\ttotal: 5.94s\tremaining: 35.1s\n",
            "145:\tlearn: 0.7856913\ttotal: 6.02s\tremaining: 35.2s\n",
            "146:\tlearn: 0.7850825\ttotal: 6.07s\tremaining: 35.2s\n",
            "147:\tlearn: 0.7844814\ttotal: 6.14s\tremaining: 35.3s\n",
            "148:\tlearn: 0.7838295\ttotal: 6.18s\tremaining: 35.3s\n",
            "149:\tlearn: 0.7830235\ttotal: 6.23s\tremaining: 35.3s\n",
            "150:\tlearn: 0.7827431\ttotal: 6.26s\tremaining: 35.2s\n",
            "151:\tlearn: 0.7824006\ttotal: 6.3s\tremaining: 35.2s\n",
            "152:\tlearn: 0.7822117\ttotal: 6.33s\tremaining: 35s\n",
            "153:\tlearn: 0.7816023\ttotal: 6.36s\tremaining: 34.9s\n",
            "154:\tlearn: 0.7808724\ttotal: 6.39s\tremaining: 34.8s\n",
            "155:\tlearn: 0.7801275\ttotal: 6.42s\tremaining: 34.7s\n",
            "156:\tlearn: 0.7796524\ttotal: 6.45s\tremaining: 34.6s\n",
            "157:\tlearn: 0.7794011\ttotal: 6.47s\tremaining: 34.5s\n",
            "158:\tlearn: 0.7788188\ttotal: 6.51s\tremaining: 34.4s\n",
            "159:\tlearn: 0.7780272\ttotal: 6.55s\tremaining: 34.4s\n",
            "160:\tlearn: 0.7774948\ttotal: 6.62s\tremaining: 34.5s\n",
            "161:\tlearn: 0.7770444\ttotal: 6.68s\tremaining: 34.6s\n",
            "162:\tlearn: 0.7763952\ttotal: 6.74s\tremaining: 34.6s\n",
            "163:\tlearn: 0.7760526\ttotal: 6.79s\tremaining: 34.6s\n",
            "164:\tlearn: 0.7757043\ttotal: 6.85s\tremaining: 34.7s\n",
            "165:\tlearn: 0.7750820\ttotal: 6.91s\tremaining: 34.7s\n",
            "166:\tlearn: 0.7745268\ttotal: 6.98s\tremaining: 34.8s\n",
            "167:\tlearn: 0.7739463\ttotal: 7.05s\tremaining: 34.9s\n",
            "168:\tlearn: 0.7735320\ttotal: 7.13s\tremaining: 35.1s\n",
            "169:\tlearn: 0.7731483\ttotal: 7.22s\tremaining: 35.3s\n",
            "170:\tlearn: 0.7725902\ttotal: 7.28s\tremaining: 35.3s\n",
            "171:\tlearn: 0.7717553\ttotal: 7.36s\tremaining: 35.4s\n",
            "172:\tlearn: 0.7712823\ttotal: 7.43s\tremaining: 35.5s\n",
            "173:\tlearn: 0.7709104\ttotal: 7.5s\tremaining: 35.6s\n",
            "174:\tlearn: 0.7702704\ttotal: 7.58s\tremaining: 35.7s\n",
            "175:\tlearn: 0.7701148\ttotal: 7.65s\tremaining: 35.8s\n",
            "176:\tlearn: 0.7698187\ttotal: 7.71s\tremaining: 35.9s\n",
            "177:\tlearn: 0.7693081\ttotal: 7.77s\tremaining: 35.9s\n",
            "178:\tlearn: 0.7689931\ttotal: 7.82s\tremaining: 35.9s\n",
            "179:\tlearn: 0.7685366\ttotal: 7.89s\tremaining: 35.9s\n",
            "180:\tlearn: 0.7681274\ttotal: 7.94s\tremaining: 35.9s\n",
            "181:\tlearn: 0.7677415\ttotal: 7.98s\tremaining: 35.9s\n",
            "182:\tlearn: 0.7670720\ttotal: 8.03s\tremaining: 35.9s\n",
            "183:\tlearn: 0.7668538\ttotal: 8.07s\tremaining: 35.8s\n",
            "184:\tlearn: 0.7665429\ttotal: 8.13s\tremaining: 35.8s\n",
            "185:\tlearn: 0.7661007\ttotal: 8.21s\tremaining: 35.9s\n",
            "186:\tlearn: 0.7658157\ttotal: 8.3s\tremaining: 36.1s\n",
            "187:\tlearn: 0.7654607\ttotal: 8.38s\tremaining: 36.2s\n",
            "188:\tlearn: 0.7649841\ttotal: 8.44s\tremaining: 36.2s\n",
            "189:\tlearn: 0.7645704\ttotal: 8.51s\tremaining: 36.3s\n",
            "190:\tlearn: 0.7644049\ttotal: 8.57s\tremaining: 36.3s\n",
            "191:\tlearn: 0.7641910\ttotal: 8.64s\tremaining: 36.3s\n",
            "192:\tlearn: 0.7636908\ttotal: 8.69s\tremaining: 36.3s\n",
            "193:\tlearn: 0.7632126\ttotal: 8.73s\tremaining: 36.3s\n",
            "194:\tlearn: 0.7629660\ttotal: 8.78s\tremaining: 36.3s\n",
            "195:\tlearn: 0.7624039\ttotal: 8.85s\tremaining: 36.3s\n",
            "196:\tlearn: 0.7621493\ttotal: 8.92s\tremaining: 36.4s\n",
            "197:\tlearn: 0.7614237\ttotal: 8.99s\tremaining: 36.4s\n",
            "198:\tlearn: 0.7610427\ttotal: 9.06s\tremaining: 36.5s\n",
            "199:\tlearn: 0.7606319\ttotal: 9.13s\tremaining: 36.5s\n",
            "200:\tlearn: 0.7602245\ttotal: 9.2s\tremaining: 36.6s\n",
            "201:\tlearn: 0.7597194\ttotal: 9.27s\tremaining: 36.6s\n",
            "202:\tlearn: 0.7588413\ttotal: 9.35s\tremaining: 36.7s\n",
            "203:\tlearn: 0.7585146\ttotal: 9.41s\tremaining: 36.7s\n",
            "204:\tlearn: 0.7580833\ttotal: 9.48s\tremaining: 36.8s\n",
            "205:\tlearn: 0.7576204\ttotal: 9.54s\tremaining: 36.8s\n",
            "206:\tlearn: 0.7574004\ttotal: 9.61s\tremaining: 36.8s\n",
            "207:\tlearn: 0.7572457\ttotal: 9.67s\tremaining: 36.8s\n",
            "208:\tlearn: 0.7569766\ttotal: 9.74s\tremaining: 36.9s\n",
            "209:\tlearn: 0.7563987\ttotal: 9.81s\tremaining: 36.9s\n",
            "210:\tlearn: 0.7560477\ttotal: 9.85s\tremaining: 36.8s\n",
            "211:\tlearn: 0.7557984\ttotal: 9.9s\tremaining: 36.8s\n",
            "212:\tlearn: 0.7555677\ttotal: 9.95s\tremaining: 36.8s\n",
            "213:\tlearn: 0.7549330\ttotal: 10s\tremaining: 36.9s\n",
            "214:\tlearn: 0.7547270\ttotal: 10.1s\tremaining: 36.9s\n",
            "215:\tlearn: 0.7542009\ttotal: 10.2s\tremaining: 36.9s\n",
            "216:\tlearn: 0.7540233\ttotal: 10.2s\tremaining: 36.9s\n",
            "217:\tlearn: 0.7538246\ttotal: 10.3s\tremaining: 36.9s\n",
            "218:\tlearn: 0.7529422\ttotal: 10.4s\tremaining: 36.9s\n",
            "219:\tlearn: 0.7526431\ttotal: 10.4s\tremaining: 36.9s\n",
            "220:\tlearn: 0.7521285\ttotal: 10.5s\tremaining: 36.9s\n",
            "221:\tlearn: 0.7518362\ttotal: 10.6s\tremaining: 37s\n",
            "222:\tlearn: 0.7514825\ttotal: 10.6s\tremaining: 37s\n",
            "223:\tlearn: 0.7509360\ttotal: 10.7s\tremaining: 37.1s\n",
            "224:\tlearn: 0.7507809\ttotal: 10.8s\tremaining: 37.1s\n",
            "225:\tlearn: 0.7505584\ttotal: 10.8s\tremaining: 37.1s\n",
            "226:\tlearn: 0.7502854\ttotal: 10.9s\tremaining: 37.1s\n",
            "227:\tlearn: 0.7500317\ttotal: 10.9s\tremaining: 37.1s\n",
            "228:\tlearn: 0.7497591\ttotal: 11s\tremaining: 37.1s\n",
            "229:\tlearn: 0.7494977\ttotal: 11.1s\tremaining: 37.2s\n",
            "230:\tlearn: 0.7490909\ttotal: 11.2s\tremaining: 37.1s\n",
            "231:\tlearn: 0.7487567\ttotal: 11.2s\tremaining: 37.2s\n",
            "232:\tlearn: 0.7485257\ttotal: 11.3s\tremaining: 37.2s\n",
            "233:\tlearn: 0.7480245\ttotal: 11.4s\tremaining: 37.2s\n",
            "234:\tlearn: 0.7476533\ttotal: 11.5s\tremaining: 37.3s\n",
            "235:\tlearn: 0.7472752\ttotal: 11.5s\tremaining: 37.2s\n",
            "236:\tlearn: 0.7469573\ttotal: 11.6s\tremaining: 37.2s\n",
            "237:\tlearn: 0.7464377\ttotal: 11.6s\tremaining: 37.1s\n",
            "238:\tlearn: 0.7461434\ttotal: 11.7s\tremaining: 37.1s\n",
            "239:\tlearn: 0.7457924\ttotal: 11.7s\tremaining: 37s\n",
            "240:\tlearn: 0.7454255\ttotal: 11.7s\tremaining: 36.9s\n",
            "241:\tlearn: 0.7452257\ttotal: 11.8s\tremaining: 36.9s\n",
            "242:\tlearn: 0.7449649\ttotal: 11.8s\tremaining: 36.8s\n",
            "243:\tlearn: 0.7446476\ttotal: 11.8s\tremaining: 36.7s\n",
            "244:\tlearn: 0.7444356\ttotal: 11.9s\tremaining: 36.6s\n",
            "245:\tlearn: 0.7442546\ttotal: 11.9s\tremaining: 36.6s\n",
            "246:\tlearn: 0.7440340\ttotal: 12s\tremaining: 36.6s\n",
            "247:\tlearn: 0.7434850\ttotal: 12s\tremaining: 36.5s\n",
            "248:\tlearn: 0.7432899\ttotal: 12.1s\tremaining: 36.4s\n",
            "249:\tlearn: 0.7430170\ttotal: 12.1s\tremaining: 36.4s\n",
            "250:\tlearn: 0.7427639\ttotal: 12.2s\tremaining: 36.4s\n",
            "251:\tlearn: 0.7424969\ttotal: 12.3s\tremaining: 36.4s\n",
            "252:\tlearn: 0.7422466\ttotal: 12.3s\tremaining: 36.4s\n",
            "253:\tlearn: 0.7420730\ttotal: 12.4s\tremaining: 36.4s\n",
            "254:\tlearn: 0.7414700\ttotal: 12.5s\tremaining: 36.4s\n",
            "255:\tlearn: 0.7413417\ttotal: 12.5s\tremaining: 36.4s\n",
            "256:\tlearn: 0.7409906\ttotal: 12.6s\tremaining: 36.4s\n",
            "257:\tlearn: 0.7407553\ttotal: 12.6s\tremaining: 36.3s\n",
            "258:\tlearn: 0.7406006\ttotal: 12.7s\tremaining: 36.3s\n",
            "259:\tlearn: 0.7402138\ttotal: 12.7s\tremaining: 36.2s\n",
            "260:\tlearn: 0.7400920\ttotal: 12.8s\tremaining: 36.2s\n",
            "261:\tlearn: 0.7399079\ttotal: 12.8s\tremaining: 36.1s\n",
            "262:\tlearn: 0.7396928\ttotal: 12.9s\tremaining: 36.1s\n",
            "263:\tlearn: 0.7395120\ttotal: 12.9s\tremaining: 36.1s\n",
            "264:\tlearn: 0.7391517\ttotal: 13s\tremaining: 36s\n",
            "265:\tlearn: 0.7388820\ttotal: 13s\tremaining: 35.9s\n",
            "266:\tlearn: 0.7386197\ttotal: 13.1s\tremaining: 35.8s\n",
            "267:\tlearn: 0.7384737\ttotal: 13.1s\tremaining: 35.8s\n",
            "268:\tlearn: 0.7382054\ttotal: 13.2s\tremaining: 35.7s\n",
            "269:\tlearn: 0.7380082\ttotal: 13.2s\tremaining: 35.7s\n",
            "270:\tlearn: 0.7377723\ttotal: 13.3s\tremaining: 35.7s\n",
            "271:\tlearn: 0.7374196\ttotal: 13.3s\tremaining: 35.7s\n",
            "272:\tlearn: 0.7372914\ttotal: 13.4s\tremaining: 35.6s\n",
            "273:\tlearn: 0.7370712\ttotal: 13.4s\tremaining: 35.5s\n",
            "274:\tlearn: 0.7368590\ttotal: 13.4s\tremaining: 35.4s\n",
            "275:\tlearn: 0.7366722\ttotal: 13.4s\tremaining: 35.3s\n",
            "276:\tlearn: 0.7365041\ttotal: 13.5s\tremaining: 35.2s\n",
            "277:\tlearn: 0.7363068\ttotal: 13.5s\tremaining: 35.1s\n",
            "278:\tlearn: 0.7361030\ttotal: 13.5s\tremaining: 35s\n",
            "279:\tlearn: 0.7359450\ttotal: 13.6s\tremaining: 34.9s\n",
            "280:\tlearn: 0.7357293\ttotal: 13.6s\tremaining: 34.8s\n",
            "281:\tlearn: 0.7355219\ttotal: 13.6s\tremaining: 34.7s\n",
            "282:\tlearn: 0.7351277\ttotal: 13.6s\tremaining: 34.6s\n",
            "283:\tlearn: 0.7349279\ttotal: 13.7s\tremaining: 34.5s\n",
            "284:\tlearn: 0.7346904\ttotal: 13.7s\tremaining: 34.4s\n",
            "285:\tlearn: 0.7344863\ttotal: 13.7s\tremaining: 34.3s\n",
            "286:\tlearn: 0.7342824\ttotal: 13.8s\tremaining: 34.2s\n",
            "287:\tlearn: 0.7341049\ttotal: 13.8s\tremaining: 34.1s\n",
            "288:\tlearn: 0.7337682\ttotal: 13.8s\tremaining: 34s\n",
            "289:\tlearn: 0.7336368\ttotal: 13.9s\tremaining: 33.9s\n",
            "290:\tlearn: 0.7334716\ttotal: 13.9s\tremaining: 33.8s\n",
            "291:\tlearn: 0.7333221\ttotal: 13.9s\tremaining: 33.7s\n",
            "292:\tlearn: 0.7331110\ttotal: 13.9s\tremaining: 33.6s\n",
            "293:\tlearn: 0.7328633\ttotal: 14s\tremaining: 33.5s\n",
            "294:\tlearn: 0.7326732\ttotal: 14s\tremaining: 33.5s\n",
            "295:\tlearn: 0.7325450\ttotal: 14s\tremaining: 33.4s\n",
            "296:\tlearn: 0.7324022\ttotal: 14.1s\tremaining: 33.3s\n",
            "297:\tlearn: 0.7322673\ttotal: 14.1s\tremaining: 33.2s\n",
            "298:\tlearn: 0.7319657\ttotal: 14.1s\tremaining: 33.1s\n",
            "299:\tlearn: 0.7316197\ttotal: 14.1s\tremaining: 33s\n",
            "300:\tlearn: 0.7314915\ttotal: 14.2s\tremaining: 32.9s\n",
            "301:\tlearn: 0.7312987\ttotal: 14.2s\tremaining: 32.8s\n",
            "302:\tlearn: 0.7312362\ttotal: 14.2s\tremaining: 32.7s\n",
            "303:\tlearn: 0.7308980\ttotal: 14.3s\tremaining: 32.6s\n",
            "304:\tlearn: 0.7307188\ttotal: 14.3s\tremaining: 32.6s\n",
            "305:\tlearn: 0.7304798\ttotal: 14.3s\tremaining: 32.5s\n",
            "306:\tlearn: 0.7302538\ttotal: 14.3s\tremaining: 32.4s\n",
            "307:\tlearn: 0.7300118\ttotal: 14.4s\tremaining: 32.3s\n",
            "308:\tlearn: 0.7297793\ttotal: 14.4s\tremaining: 32.2s\n",
            "309:\tlearn: 0.7295935\ttotal: 14.4s\tremaining: 32.1s\n",
            "310:\tlearn: 0.7294057\ttotal: 14.5s\tremaining: 32s\n",
            "311:\tlearn: 0.7292610\ttotal: 14.5s\tremaining: 31.9s\n",
            "312:\tlearn: 0.7290567\ttotal: 14.5s\tremaining: 31.8s\n",
            "313:\tlearn: 0.7289148\ttotal: 14.5s\tremaining: 31.8s\n",
            "314:\tlearn: 0.7286002\ttotal: 14.6s\tremaining: 31.7s\n",
            "315:\tlearn: 0.7282957\ttotal: 14.6s\tremaining: 31.6s\n",
            "316:\tlearn: 0.7281489\ttotal: 14.6s\tremaining: 31.5s\n",
            "317:\tlearn: 0.7279435\ttotal: 14.7s\tremaining: 31.4s\n",
            "318:\tlearn: 0.7277422\ttotal: 14.7s\tremaining: 31.4s\n",
            "319:\tlearn: 0.7275716\ttotal: 14.7s\tremaining: 31.3s\n",
            "320:\tlearn: 0.7273384\ttotal: 14.7s\tremaining: 31.2s\n",
            "321:\tlearn: 0.7272171\ttotal: 14.8s\tremaining: 31.1s\n",
            "322:\tlearn: 0.7270442\ttotal: 14.8s\tremaining: 31s\n",
            "323:\tlearn: 0.7269566\ttotal: 14.8s\tremaining: 30.9s\n",
            "324:\tlearn: 0.7267232\ttotal: 14.8s\tremaining: 30.8s\n",
            "325:\tlearn: 0.7264942\ttotal: 14.9s\tremaining: 30.8s\n",
            "326:\tlearn: 0.7263775\ttotal: 14.9s\tremaining: 30.7s\n",
            "327:\tlearn: 0.7262381\ttotal: 14.9s\tremaining: 30.6s\n",
            "328:\tlearn: 0.7259370\ttotal: 15s\tremaining: 30.5s\n",
            "329:\tlearn: 0.7257211\ttotal: 15s\tremaining: 30.4s\n",
            "330:\tlearn: 0.7254818\ttotal: 15s\tremaining: 30.4s\n",
            "331:\tlearn: 0.7253588\ttotal: 15s\tremaining: 30.3s\n",
            "332:\tlearn: 0.7252587\ttotal: 15.1s\tremaining: 30.2s\n",
            "333:\tlearn: 0.7250504\ttotal: 15.1s\tremaining: 30.1s\n",
            "334:\tlearn: 0.7248646\ttotal: 15.1s\tremaining: 30.1s\n",
            "335:\tlearn: 0.7247425\ttotal: 15.2s\tremaining: 30s\n",
            "336:\tlearn: 0.7245605\ttotal: 15.2s\tremaining: 29.9s\n",
            "337:\tlearn: 0.7243475\ttotal: 15.2s\tremaining: 29.8s\n",
            "338:\tlearn: 0.7241839\ttotal: 15.3s\tremaining: 29.7s\n",
            "339:\tlearn: 0.7240044\ttotal: 15.3s\tremaining: 29.7s\n",
            "340:\tlearn: 0.7238732\ttotal: 15.3s\tremaining: 29.6s\n",
            "341:\tlearn: 0.7235955\ttotal: 15.3s\tremaining: 29.5s\n",
            "342:\tlearn: 0.7233697\ttotal: 15.4s\tremaining: 29.4s\n",
            "343:\tlearn: 0.7232965\ttotal: 15.4s\tremaining: 29.4s\n",
            "344:\tlearn: 0.7231021\ttotal: 15.4s\tremaining: 29.3s\n",
            "345:\tlearn: 0.7229132\ttotal: 15.5s\tremaining: 29.2s\n",
            "346:\tlearn: 0.7227173\ttotal: 15.5s\tremaining: 29.1s\n",
            "347:\tlearn: 0.7224953\ttotal: 15.5s\tremaining: 29.1s\n",
            "348:\tlearn: 0.7222939\ttotal: 15.5s\tremaining: 29s\n",
            "349:\tlearn: 0.7220922\ttotal: 15.6s\tremaining: 28.9s\n",
            "350:\tlearn: 0.7218479\ttotal: 15.6s\tremaining: 28.8s\n",
            "351:\tlearn: 0.7216733\ttotal: 15.6s\tremaining: 28.8s\n",
            "352:\tlearn: 0.7215130\ttotal: 15.7s\tremaining: 28.7s\n",
            "353:\tlearn: 0.7213093\ttotal: 15.7s\tremaining: 28.6s\n",
            "354:\tlearn: 0.7211125\ttotal: 15.7s\tremaining: 28.5s\n",
            "355:\tlearn: 0.7209657\ttotal: 15.7s\tremaining: 28.5s\n",
            "356:\tlearn: 0.7207460\ttotal: 15.8s\tremaining: 28.4s\n",
            "357:\tlearn: 0.7205761\ttotal: 15.8s\tremaining: 28.3s\n",
            "358:\tlearn: 0.7202184\ttotal: 15.8s\tremaining: 28.3s\n",
            "359:\tlearn: 0.7200772\ttotal: 15.9s\tremaining: 28.2s\n",
            "360:\tlearn: 0.7198335\ttotal: 15.9s\tremaining: 28.1s\n",
            "361:\tlearn: 0.7196738\ttotal: 15.9s\tremaining: 28s\n",
            "362:\tlearn: 0.7195768\ttotal: 15.9s\tremaining: 28s\n",
            "363:\tlearn: 0.7194688\ttotal: 16s\tremaining: 27.9s\n",
            "364:\tlearn: 0.7192556\ttotal: 16s\tremaining: 27.8s\n",
            "365:\tlearn: 0.7190964\ttotal: 16s\tremaining: 27.8s\n",
            "366:\tlearn: 0.7188203\ttotal: 16.1s\tremaining: 27.7s\n",
            "367:\tlearn: 0.7186906\ttotal: 16.1s\tremaining: 27.6s\n",
            "368:\tlearn: 0.7185458\ttotal: 16.1s\tremaining: 27.6s\n",
            "369:\tlearn: 0.7184057\ttotal: 16.2s\tremaining: 27.5s\n",
            "370:\tlearn: 0.7181354\ttotal: 16.2s\tremaining: 27.4s\n",
            "371:\tlearn: 0.7179906\ttotal: 16.2s\tremaining: 27.4s\n",
            "372:\tlearn: 0.7178725\ttotal: 16.2s\tremaining: 27.3s\n",
            "373:\tlearn: 0.7176795\ttotal: 16.3s\tremaining: 27.2s\n",
            "374:\tlearn: 0.7175719\ttotal: 16.3s\tremaining: 27.2s\n",
            "375:\tlearn: 0.7174847\ttotal: 16.3s\tremaining: 27.1s\n",
            "376:\tlearn: 0.7173914\ttotal: 16.3s\tremaining: 27s\n",
            "377:\tlearn: 0.7171633\ttotal: 16.4s\tremaining: 26.9s\n",
            "378:\tlearn: 0.7170568\ttotal: 16.4s\tremaining: 26.9s\n",
            "379:\tlearn: 0.7168989\ttotal: 16.4s\tremaining: 26.8s\n",
            "380:\tlearn: 0.7166870\ttotal: 16.5s\tremaining: 26.7s\n",
            "381:\tlearn: 0.7164706\ttotal: 16.5s\tremaining: 26.7s\n",
            "382:\tlearn: 0.7163214\ttotal: 16.5s\tremaining: 26.6s\n",
            "383:\tlearn: 0.7161401\ttotal: 16.5s\tremaining: 26.5s\n",
            "384:\tlearn: 0.7159036\ttotal: 16.6s\tremaining: 26.5s\n",
            "385:\tlearn: 0.7157855\ttotal: 16.6s\tremaining: 26.4s\n",
            "386:\tlearn: 0.7156905\ttotal: 16.6s\tremaining: 26.4s\n",
            "387:\tlearn: 0.7155054\ttotal: 16.7s\tremaining: 26.3s\n",
            "388:\tlearn: 0.7153659\ttotal: 16.7s\tremaining: 26.2s\n",
            "389:\tlearn: 0.7152483\ttotal: 16.7s\tremaining: 26.2s\n",
            "390:\tlearn: 0.7151483\ttotal: 16.7s\tremaining: 26.1s\n",
            "391:\tlearn: 0.7150005\ttotal: 16.8s\tremaining: 26s\n",
            "392:\tlearn: 0.7149217\ttotal: 16.8s\tremaining: 26s\n",
            "393:\tlearn: 0.7147412\ttotal: 16.8s\tremaining: 25.9s\n",
            "394:\tlearn: 0.7146060\ttotal: 16.9s\tremaining: 25.8s\n",
            "395:\tlearn: 0.7144315\ttotal: 16.9s\tremaining: 25.8s\n",
            "396:\tlearn: 0.7142618\ttotal: 16.9s\tremaining: 25.7s\n",
            "397:\tlearn: 0.7141075\ttotal: 17s\tremaining: 25.6s\n",
            "398:\tlearn: 0.7138127\ttotal: 17s\tremaining: 25.6s\n",
            "399:\tlearn: 0.7136921\ttotal: 17s\tremaining: 25.5s\n",
            "400:\tlearn: 0.7135382\ttotal: 17s\tremaining: 25.5s\n",
            "401:\tlearn: 0.7133814\ttotal: 17.1s\tremaining: 25.4s\n",
            "402:\tlearn: 0.7132642\ttotal: 17.1s\tremaining: 25.3s\n",
            "403:\tlearn: 0.7130100\ttotal: 17.1s\tremaining: 25.3s\n",
            "404:\tlearn: 0.7128332\ttotal: 17.2s\tremaining: 25.2s\n",
            "405:\tlearn: 0.7125855\ttotal: 17.2s\tremaining: 25.2s\n",
            "406:\tlearn: 0.7124420\ttotal: 17.2s\tremaining: 25.1s\n",
            "407:\tlearn: 0.7123118\ttotal: 17.3s\tremaining: 25s\n",
            "408:\tlearn: 0.7120513\ttotal: 17.3s\tremaining: 25s\n",
            "409:\tlearn: 0.7119293\ttotal: 17.3s\tremaining: 24.9s\n",
            "410:\tlearn: 0.7117999\ttotal: 17.3s\tremaining: 24.9s\n",
            "411:\tlearn: 0.7116766\ttotal: 17.4s\tremaining: 24.8s\n",
            "412:\tlearn: 0.7115615\ttotal: 17.4s\tremaining: 24.7s\n",
            "413:\tlearn: 0.7114654\ttotal: 17.4s\tremaining: 24.7s\n",
            "414:\tlearn: 0.7113545\ttotal: 17.5s\tremaining: 24.6s\n",
            "415:\tlearn: 0.7112949\ttotal: 17.5s\tremaining: 24.5s\n",
            "416:\tlearn: 0.7111911\ttotal: 17.5s\tremaining: 24.5s\n",
            "417:\tlearn: 0.7109749\ttotal: 17.5s\tremaining: 24.4s\n",
            "418:\tlearn: 0.7109084\ttotal: 17.6s\tremaining: 24.4s\n",
            "419:\tlearn: 0.7107624\ttotal: 17.6s\tremaining: 24.3s\n",
            "420:\tlearn: 0.7105414\ttotal: 17.6s\tremaining: 24.2s\n",
            "421:\tlearn: 0.7102728\ttotal: 17.6s\tremaining: 24.2s\n",
            "422:\tlearn: 0.7100105\ttotal: 17.7s\tremaining: 24.1s\n",
            "423:\tlearn: 0.7098751\ttotal: 17.7s\tremaining: 24.1s\n",
            "424:\tlearn: 0.7097691\ttotal: 17.7s\tremaining: 24s\n",
            "425:\tlearn: 0.7095227\ttotal: 17.8s\tremaining: 23.9s\n",
            "426:\tlearn: 0.7093421\ttotal: 17.8s\tremaining: 23.9s\n",
            "427:\tlearn: 0.7092420\ttotal: 17.8s\tremaining: 23.8s\n",
            "428:\tlearn: 0.7091597\ttotal: 17.8s\tremaining: 23.7s\n",
            "429:\tlearn: 0.7090774\ttotal: 17.9s\tremaining: 23.7s\n",
            "430:\tlearn: 0.7089860\ttotal: 17.9s\tremaining: 23.6s\n",
            "431:\tlearn: 0.7088121\ttotal: 17.9s\tremaining: 23.6s\n",
            "432:\tlearn: 0.7086243\ttotal: 18s\tremaining: 23.5s\n",
            "433:\tlearn: 0.7085009\ttotal: 18s\tremaining: 23.5s\n",
            "434:\tlearn: 0.7081302\ttotal: 18s\tremaining: 23.4s\n",
            "435:\tlearn: 0.7080380\ttotal: 18s\tremaining: 23.3s\n",
            "436:\tlearn: 0.7079223\ttotal: 18.1s\tremaining: 23.3s\n",
            "437:\tlearn: 0.7077559\ttotal: 18.1s\tremaining: 23.2s\n",
            "438:\tlearn: 0.7076337\ttotal: 18.1s\tremaining: 23.2s\n",
            "439:\tlearn: 0.7075275\ttotal: 18.2s\tremaining: 23.1s\n",
            "440:\tlearn: 0.7073811\ttotal: 18.2s\tremaining: 23.1s\n",
            "441:\tlearn: 0.7073049\ttotal: 18.2s\tremaining: 23s\n",
            "442:\tlearn: 0.7072027\ttotal: 18.2s\tremaining: 22.9s\n",
            "443:\tlearn: 0.7070953\ttotal: 18.3s\tremaining: 22.9s\n",
            "444:\tlearn: 0.7070044\ttotal: 18.3s\tremaining: 22.8s\n",
            "445:\tlearn: 0.7068965\ttotal: 18.3s\tremaining: 22.8s\n",
            "446:\tlearn: 0.7068228\ttotal: 18.4s\tremaining: 22.7s\n",
            "447:\tlearn: 0.7066044\ttotal: 18.4s\tremaining: 22.7s\n",
            "448:\tlearn: 0.7065288\ttotal: 18.4s\tremaining: 22.6s\n",
            "449:\tlearn: 0.7063729\ttotal: 18.4s\tremaining: 22.5s\n",
            "450:\tlearn: 0.7061831\ttotal: 18.5s\tremaining: 22.5s\n",
            "451:\tlearn: 0.7060842\ttotal: 18.5s\tremaining: 22.4s\n",
            "452:\tlearn: 0.7058553\ttotal: 18.5s\tremaining: 22.4s\n",
            "453:\tlearn: 0.7056785\ttotal: 18.6s\tremaining: 22.3s\n",
            "454:\tlearn: 0.7055353\ttotal: 18.6s\tremaining: 22.3s\n",
            "455:\tlearn: 0.7054092\ttotal: 18.6s\tremaining: 22.2s\n",
            "456:\tlearn: 0.7052345\ttotal: 18.6s\tremaining: 22.2s\n",
            "457:\tlearn: 0.7050711\ttotal: 18.7s\tremaining: 22.1s\n",
            "458:\tlearn: 0.7049880\ttotal: 18.7s\tremaining: 22s\n",
            "459:\tlearn: 0.7049105\ttotal: 18.7s\tremaining: 22s\n",
            "460:\tlearn: 0.7047760\ttotal: 18.8s\tremaining: 21.9s\n",
            "461:\tlearn: 0.7046781\ttotal: 18.8s\tremaining: 21.9s\n",
            "462:\tlearn: 0.7045566\ttotal: 18.8s\tremaining: 21.8s\n",
            "463:\tlearn: 0.7043729\ttotal: 18.8s\tremaining: 21.8s\n",
            "464:\tlearn: 0.7041256\ttotal: 18.9s\tremaining: 21.7s\n",
            "465:\tlearn: 0.7039455\ttotal: 18.9s\tremaining: 21.7s\n",
            "466:\tlearn: 0.7038088\ttotal: 18.9s\tremaining: 21.6s\n",
            "467:\tlearn: 0.7036853\ttotal: 19s\tremaining: 21.6s\n",
            "468:\tlearn: 0.7035556\ttotal: 19s\tremaining: 21.5s\n",
            "469:\tlearn: 0.7034858\ttotal: 19s\tremaining: 21.4s\n",
            "470:\tlearn: 0.7033566\ttotal: 19s\tremaining: 21.4s\n",
            "471:\tlearn: 0.7032179\ttotal: 19.1s\tremaining: 21.3s\n",
            "472:\tlearn: 0.7031107\ttotal: 19.1s\tremaining: 21.3s\n",
            "473:\tlearn: 0.7028968\ttotal: 19.1s\tremaining: 21.2s\n",
            "474:\tlearn: 0.7027054\ttotal: 19.2s\tremaining: 21.2s\n",
            "475:\tlearn: 0.7025720\ttotal: 19.2s\tremaining: 21.1s\n",
            "476:\tlearn: 0.7024670\ttotal: 19.2s\tremaining: 21.1s\n",
            "477:\tlearn: 0.7022661\ttotal: 19.3s\tremaining: 21s\n",
            "478:\tlearn: 0.7020629\ttotal: 19.3s\tremaining: 21s\n",
            "479:\tlearn: 0.7019324\ttotal: 19.3s\tremaining: 20.9s\n",
            "480:\tlearn: 0.7017624\ttotal: 19.3s\tremaining: 20.9s\n",
            "481:\tlearn: 0.7015652\ttotal: 19.4s\tremaining: 20.8s\n",
            "482:\tlearn: 0.7014687\ttotal: 19.4s\tremaining: 20.8s\n",
            "483:\tlearn: 0.7013646\ttotal: 19.4s\tremaining: 20.7s\n",
            "484:\tlearn: 0.7012637\ttotal: 19.5s\tremaining: 20.7s\n",
            "485:\tlearn: 0.7011435\ttotal: 19.5s\tremaining: 20.6s\n",
            "486:\tlearn: 0.7010135\ttotal: 19.5s\tremaining: 20.5s\n",
            "487:\tlearn: 0.7008716\ttotal: 19.5s\tremaining: 20.5s\n",
            "488:\tlearn: 0.7007798\ttotal: 19.6s\tremaining: 20.4s\n",
            "489:\tlearn: 0.7007175\ttotal: 19.6s\tremaining: 20.4s\n",
            "490:\tlearn: 0.7005818\ttotal: 19.6s\tremaining: 20.3s\n",
            "491:\tlearn: 0.7003951\ttotal: 19.7s\tremaining: 20.3s\n",
            "492:\tlearn: 0.7002228\ttotal: 19.7s\tremaining: 20.2s\n",
            "493:\tlearn: 0.7001574\ttotal: 19.7s\tremaining: 20.2s\n",
            "494:\tlearn: 0.7000074\ttotal: 19.7s\tremaining: 20.1s\n",
            "495:\tlearn: 0.6999191\ttotal: 19.8s\tremaining: 20.1s\n",
            "496:\tlearn: 0.6997251\ttotal: 19.8s\tremaining: 20s\n",
            "497:\tlearn: 0.6995925\ttotal: 19.8s\tremaining: 20s\n",
            "498:\tlearn: 0.6995103\ttotal: 19.9s\tremaining: 19.9s\n",
            "499:\tlearn: 0.6994380\ttotal: 19.9s\tremaining: 19.9s\n",
            "500:\tlearn: 0.6992625\ttotal: 19.9s\tremaining: 19.8s\n",
            "501:\tlearn: 0.6991356\ttotal: 19.9s\tremaining: 19.8s\n",
            "502:\tlearn: 0.6990439\ttotal: 20s\tremaining: 19.7s\n",
            "503:\tlearn: 0.6989482\ttotal: 20s\tremaining: 19.7s\n",
            "504:\tlearn: 0.6987183\ttotal: 20s\tremaining: 19.6s\n",
            "505:\tlearn: 0.6984790\ttotal: 20.1s\tremaining: 19.6s\n",
            "506:\tlearn: 0.6983964\ttotal: 20.1s\tremaining: 19.5s\n",
            "507:\tlearn: 0.6982904\ttotal: 20.1s\tremaining: 19.5s\n",
            "508:\tlearn: 0.6981890\ttotal: 20.1s\tremaining: 19.4s\n",
            "509:\tlearn: 0.6980690\ttotal: 20.2s\tremaining: 19.4s\n",
            "510:\tlearn: 0.6979329\ttotal: 20.2s\tremaining: 19.3s\n",
            "511:\tlearn: 0.6977755\ttotal: 20.2s\tremaining: 19.3s\n",
            "512:\tlearn: 0.6976795\ttotal: 20.3s\tremaining: 19.2s\n",
            "513:\tlearn: 0.6975968\ttotal: 20.3s\tremaining: 19.2s\n",
            "514:\tlearn: 0.6974955\ttotal: 20.3s\tremaining: 19.1s\n",
            "515:\tlearn: 0.6972282\ttotal: 20.4s\tremaining: 19.1s\n",
            "516:\tlearn: 0.6971108\ttotal: 20.4s\tremaining: 19s\n",
            "517:\tlearn: 0.6970323\ttotal: 20.4s\tremaining: 19s\n",
            "518:\tlearn: 0.6969513\ttotal: 20.4s\tremaining: 18.9s\n",
            "519:\tlearn: 0.6967379\ttotal: 20.5s\tremaining: 18.9s\n",
            "520:\tlearn: 0.6966644\ttotal: 20.5s\tremaining: 18.8s\n",
            "521:\tlearn: 0.6965687\ttotal: 20.5s\tremaining: 18.8s\n",
            "522:\tlearn: 0.6964539\ttotal: 20.6s\tremaining: 18.7s\n",
            "523:\tlearn: 0.6963215\ttotal: 20.6s\tremaining: 18.7s\n",
            "524:\tlearn: 0.6962610\ttotal: 20.6s\tremaining: 18.6s\n",
            "525:\tlearn: 0.6961587\ttotal: 20.6s\tremaining: 18.6s\n",
            "526:\tlearn: 0.6958745\ttotal: 20.7s\tremaining: 18.5s\n",
            "527:\tlearn: 0.6957032\ttotal: 20.7s\tremaining: 18.5s\n",
            "528:\tlearn: 0.6956560\ttotal: 20.7s\tremaining: 18.5s\n",
            "529:\tlearn: 0.6955734\ttotal: 20.8s\tremaining: 18.4s\n",
            "530:\tlearn: 0.6954614\ttotal: 20.8s\tremaining: 18.4s\n",
            "531:\tlearn: 0.6953952\ttotal: 20.8s\tremaining: 18.3s\n",
            "532:\tlearn: 0.6951806\ttotal: 20.8s\tremaining: 18.3s\n",
            "533:\tlearn: 0.6951060\ttotal: 20.9s\tremaining: 18.2s\n",
            "534:\tlearn: 0.6949176\ttotal: 20.9s\tremaining: 18.2s\n",
            "535:\tlearn: 0.6947735\ttotal: 20.9s\tremaining: 18.1s\n",
            "536:\tlearn: 0.6946933\ttotal: 21s\tremaining: 18.1s\n",
            "537:\tlearn: 0.6945425\ttotal: 21s\tremaining: 18s\n",
            "538:\tlearn: 0.6944338\ttotal: 21s\tremaining: 18s\n",
            "539:\tlearn: 0.6943198\ttotal: 21s\tremaining: 17.9s\n",
            "540:\tlearn: 0.6941462\ttotal: 21.1s\tremaining: 17.9s\n",
            "541:\tlearn: 0.6940100\ttotal: 21.1s\tremaining: 17.8s\n",
            "542:\tlearn: 0.6938459\ttotal: 21.1s\tremaining: 17.8s\n",
            "543:\tlearn: 0.6937499\ttotal: 21.2s\tremaining: 17.7s\n",
            "544:\tlearn: 0.6936806\ttotal: 21.2s\tremaining: 17.7s\n",
            "545:\tlearn: 0.6934754\ttotal: 21.2s\tremaining: 17.6s\n",
            "546:\tlearn: 0.6933464\ttotal: 21.3s\tremaining: 17.6s\n",
            "547:\tlearn: 0.6932604\ttotal: 21.3s\tremaining: 17.6s\n",
            "548:\tlearn: 0.6930332\ttotal: 21.3s\tremaining: 17.5s\n",
            "549:\tlearn: 0.6928661\ttotal: 21.3s\tremaining: 17.5s\n",
            "550:\tlearn: 0.6926470\ttotal: 21.4s\tremaining: 17.4s\n",
            "551:\tlearn: 0.6925971\ttotal: 21.4s\tremaining: 17.4s\n",
            "552:\tlearn: 0.6924783\ttotal: 21.4s\tremaining: 17.3s\n",
            "553:\tlearn: 0.6922818\ttotal: 21.5s\tremaining: 17.3s\n",
            "554:\tlearn: 0.6920859\ttotal: 21.5s\tremaining: 17.2s\n",
            "555:\tlearn: 0.6918717\ttotal: 21.5s\tremaining: 17.2s\n",
            "556:\tlearn: 0.6915578\ttotal: 21.6s\tremaining: 17.1s\n",
            "557:\tlearn: 0.6913860\ttotal: 21.6s\tremaining: 17.1s\n",
            "558:\tlearn: 0.6911906\ttotal: 21.6s\tremaining: 17.1s\n",
            "559:\tlearn: 0.6910328\ttotal: 21.6s\tremaining: 17s\n",
            "560:\tlearn: 0.6909809\ttotal: 21.7s\tremaining: 17s\n",
            "561:\tlearn: 0.6908447\ttotal: 21.7s\tremaining: 16.9s\n",
            "562:\tlearn: 0.6906654\ttotal: 21.7s\tremaining: 16.9s\n",
            "563:\tlearn: 0.6905548\ttotal: 21.8s\tremaining: 16.8s\n",
            "564:\tlearn: 0.6904356\ttotal: 21.8s\tremaining: 16.8s\n",
            "565:\tlearn: 0.6902722\ttotal: 21.8s\tremaining: 16.7s\n",
            "566:\tlearn: 0.6902279\ttotal: 21.8s\tremaining: 16.7s\n",
            "567:\tlearn: 0.6901755\ttotal: 21.9s\tremaining: 16.6s\n",
            "568:\tlearn: 0.6900548\ttotal: 21.9s\tremaining: 16.6s\n",
            "569:\tlearn: 0.6899565\ttotal: 21.9s\tremaining: 16.5s\n",
            "570:\tlearn: 0.6897748\ttotal: 22s\tremaining: 16.5s\n",
            "571:\tlearn: 0.6896229\ttotal: 22s\tremaining: 16.5s\n",
            "572:\tlearn: 0.6894212\ttotal: 22s\tremaining: 16.4s\n",
            "573:\tlearn: 0.6892517\ttotal: 22.1s\tremaining: 16.4s\n",
            "574:\tlearn: 0.6890845\ttotal: 22.1s\tremaining: 16.3s\n",
            "575:\tlearn: 0.6889043\ttotal: 22.1s\tremaining: 16.3s\n",
            "576:\tlearn: 0.6887289\ttotal: 22.1s\tremaining: 16.2s\n",
            "577:\tlearn: 0.6884932\ttotal: 22.2s\tremaining: 16.2s\n",
            "578:\tlearn: 0.6883888\ttotal: 22.2s\tremaining: 16.1s\n",
            "579:\tlearn: 0.6883164\ttotal: 22.2s\tremaining: 16.1s\n",
            "580:\tlearn: 0.6881985\ttotal: 22.3s\tremaining: 16.1s\n",
            "581:\tlearn: 0.6880915\ttotal: 22.3s\tremaining: 16s\n",
            "582:\tlearn: 0.6880021\ttotal: 22.3s\tremaining: 16s\n",
            "583:\tlearn: 0.6879087\ttotal: 22.3s\tremaining: 15.9s\n",
            "584:\tlearn: 0.6877952\ttotal: 22.4s\tremaining: 15.9s\n",
            "585:\tlearn: 0.6877420\ttotal: 22.4s\tremaining: 15.8s\n",
            "586:\tlearn: 0.6876720\ttotal: 22.4s\tremaining: 15.8s\n",
            "587:\tlearn: 0.6876225\ttotal: 22.5s\tremaining: 15.7s\n",
            "588:\tlearn: 0.6875192\ttotal: 22.5s\tremaining: 15.7s\n",
            "589:\tlearn: 0.6874049\ttotal: 22.5s\tremaining: 15.6s\n",
            "590:\tlearn: 0.6872946\ttotal: 22.5s\tremaining: 15.6s\n",
            "591:\tlearn: 0.6872333\ttotal: 22.6s\tremaining: 15.6s\n",
            "592:\tlearn: 0.6870360\ttotal: 22.6s\tremaining: 15.5s\n",
            "593:\tlearn: 0.6869590\ttotal: 22.6s\tremaining: 15.5s\n",
            "594:\tlearn: 0.6868897\ttotal: 22.7s\tremaining: 15.4s\n",
            "595:\tlearn: 0.6867703\ttotal: 22.7s\tremaining: 15.4s\n",
            "596:\tlearn: 0.6866394\ttotal: 22.7s\tremaining: 15.3s\n",
            "597:\tlearn: 0.6865582\ttotal: 22.7s\tremaining: 15.3s\n",
            "598:\tlearn: 0.6864161\ttotal: 22.8s\tremaining: 15.2s\n",
            "599:\tlearn: 0.6862619\ttotal: 22.8s\tremaining: 15.2s\n",
            "600:\tlearn: 0.6862054\ttotal: 22.8s\tremaining: 15.2s\n",
            "601:\tlearn: 0.6861394\ttotal: 22.9s\tremaining: 15.1s\n",
            "602:\tlearn: 0.6860210\ttotal: 22.9s\tremaining: 15.1s\n",
            "603:\tlearn: 0.6859473\ttotal: 22.9s\tremaining: 15s\n",
            "604:\tlearn: 0.6858509\ttotal: 22.9s\tremaining: 15s\n",
            "605:\tlearn: 0.6857265\ttotal: 23s\tremaining: 14.9s\n",
            "606:\tlearn: 0.6856198\ttotal: 23s\tremaining: 14.9s\n",
            "607:\tlearn: 0.6855172\ttotal: 23s\tremaining: 14.8s\n",
            "608:\tlearn: 0.6854073\ttotal: 23s\tremaining: 14.8s\n",
            "609:\tlearn: 0.6853680\ttotal: 23.1s\tremaining: 14.8s\n",
            "610:\tlearn: 0.6852672\ttotal: 23.1s\tremaining: 14.7s\n",
            "611:\tlearn: 0.6851447\ttotal: 23.1s\tremaining: 14.7s\n",
            "612:\tlearn: 0.6850218\ttotal: 23.2s\tremaining: 14.6s\n",
            "613:\tlearn: 0.6848862\ttotal: 23.2s\tremaining: 14.6s\n",
            "614:\tlearn: 0.6847589\ttotal: 23.2s\tremaining: 14.5s\n",
            "615:\tlearn: 0.6846727\ttotal: 23.3s\tremaining: 14.5s\n",
            "616:\tlearn: 0.6845976\ttotal: 23.3s\tremaining: 14.5s\n",
            "617:\tlearn: 0.6844416\ttotal: 23.3s\tremaining: 14.4s\n",
            "618:\tlearn: 0.6843438\ttotal: 23.3s\tremaining: 14.4s\n",
            "619:\tlearn: 0.6842818\ttotal: 23.4s\tremaining: 14.3s\n",
            "620:\tlearn: 0.6842049\ttotal: 23.4s\tremaining: 14.3s\n",
            "621:\tlearn: 0.6841052\ttotal: 23.4s\tremaining: 14.2s\n",
            "622:\tlearn: 0.6840694\ttotal: 23.5s\tremaining: 14.2s\n",
            "623:\tlearn: 0.6839730\ttotal: 23.5s\tremaining: 14.1s\n",
            "624:\tlearn: 0.6838978\ttotal: 23.5s\tremaining: 14.1s\n",
            "625:\tlearn: 0.6837963\ttotal: 23.5s\tremaining: 14.1s\n",
            "626:\tlearn: 0.6837026\ttotal: 23.6s\tremaining: 14s\n",
            "627:\tlearn: 0.6835531\ttotal: 23.6s\tremaining: 14s\n",
            "628:\tlearn: 0.6834450\ttotal: 23.6s\tremaining: 13.9s\n",
            "629:\tlearn: 0.6833418\ttotal: 23.6s\tremaining: 13.9s\n",
            "630:\tlearn: 0.6831909\ttotal: 23.7s\tremaining: 13.8s\n",
            "631:\tlearn: 0.6830992\ttotal: 23.7s\tremaining: 13.8s\n",
            "632:\tlearn: 0.6829972\ttotal: 23.7s\tremaining: 13.8s\n",
            "633:\tlearn: 0.6828224\ttotal: 23.8s\tremaining: 13.7s\n",
            "634:\tlearn: 0.6827202\ttotal: 23.8s\tremaining: 13.7s\n",
            "635:\tlearn: 0.6826344\ttotal: 23.8s\tremaining: 13.6s\n",
            "636:\tlearn: 0.6825141\ttotal: 23.9s\tremaining: 13.6s\n",
            "637:\tlearn: 0.6823664\ttotal: 23.9s\tremaining: 13.6s\n",
            "638:\tlearn: 0.6823060\ttotal: 23.9s\tremaining: 13.5s\n",
            "639:\tlearn: 0.6821951\ttotal: 23.9s\tremaining: 13.5s\n",
            "640:\tlearn: 0.6821346\ttotal: 24s\tremaining: 13.4s\n",
            "641:\tlearn: 0.6819947\ttotal: 24s\tremaining: 13.4s\n",
            "642:\tlearn: 0.6818839\ttotal: 24s\tremaining: 13.3s\n",
            "643:\tlearn: 0.6817580\ttotal: 24.1s\tremaining: 13.3s\n",
            "644:\tlearn: 0.6816965\ttotal: 24.1s\tremaining: 13.3s\n",
            "645:\tlearn: 0.6815919\ttotal: 24.1s\tremaining: 13.2s\n",
            "646:\tlearn: 0.6815074\ttotal: 24.1s\tremaining: 13.2s\n",
            "647:\tlearn: 0.6814235\ttotal: 24.2s\tremaining: 13.1s\n",
            "648:\tlearn: 0.6813314\ttotal: 24.2s\tremaining: 13.1s\n",
            "649:\tlearn: 0.6811743\ttotal: 24.2s\tremaining: 13s\n",
            "650:\tlearn: 0.6810711\ttotal: 24.3s\tremaining: 13s\n",
            "651:\tlearn: 0.6810050\ttotal: 24.3s\tremaining: 13s\n",
            "652:\tlearn: 0.6809052\ttotal: 24.3s\tremaining: 12.9s\n",
            "653:\tlearn: 0.6808215\ttotal: 24.3s\tremaining: 12.9s\n",
            "654:\tlearn: 0.6806906\ttotal: 24.4s\tremaining: 12.8s\n",
            "655:\tlearn: 0.6805838\ttotal: 24.4s\tremaining: 12.8s\n",
            "656:\tlearn: 0.6804584\ttotal: 24.4s\tremaining: 12.8s\n",
            "657:\tlearn: 0.6803928\ttotal: 24.5s\tremaining: 12.7s\n",
            "658:\tlearn: 0.6802905\ttotal: 24.5s\tremaining: 12.7s\n",
            "659:\tlearn: 0.6801608\ttotal: 24.5s\tremaining: 12.6s\n",
            "660:\tlearn: 0.6800041\ttotal: 24.6s\tremaining: 12.6s\n",
            "661:\tlearn: 0.6798709\ttotal: 24.6s\tremaining: 12.5s\n",
            "662:\tlearn: 0.6796932\ttotal: 24.6s\tremaining: 12.5s\n",
            "663:\tlearn: 0.6796054\ttotal: 24.6s\tremaining: 12.5s\n",
            "664:\tlearn: 0.6795022\ttotal: 24.7s\tremaining: 12.4s\n",
            "665:\tlearn: 0.6793571\ttotal: 24.7s\tremaining: 12.4s\n",
            "666:\tlearn: 0.6791980\ttotal: 24.7s\tremaining: 12.3s\n",
            "667:\tlearn: 0.6791195\ttotal: 24.8s\tremaining: 12.3s\n",
            "668:\tlearn: 0.6790089\ttotal: 24.8s\tremaining: 12.3s\n",
            "669:\tlearn: 0.6789030\ttotal: 24.8s\tremaining: 12.2s\n",
            "670:\tlearn: 0.6787503\ttotal: 24.9s\tremaining: 12.2s\n",
            "671:\tlearn: 0.6786125\ttotal: 24.9s\tremaining: 12.1s\n",
            "672:\tlearn: 0.6785055\ttotal: 24.9s\tremaining: 12.1s\n",
            "673:\tlearn: 0.6783492\ttotal: 24.9s\tremaining: 12.1s\n",
            "674:\tlearn: 0.6782335\ttotal: 25s\tremaining: 12s\n",
            "675:\tlearn: 0.6781326\ttotal: 25s\tremaining: 12s\n",
            "676:\tlearn: 0.6780399\ttotal: 25s\tremaining: 11.9s\n",
            "677:\tlearn: 0.6779259\ttotal: 25s\tremaining: 11.9s\n",
            "678:\tlearn: 0.6778032\ttotal: 25.1s\tremaining: 11.9s\n",
            "679:\tlearn: 0.6776786\ttotal: 25.1s\tremaining: 11.8s\n",
            "680:\tlearn: 0.6775309\ttotal: 25.1s\tremaining: 11.8s\n",
            "681:\tlearn: 0.6774451\ttotal: 25.2s\tremaining: 11.7s\n",
            "682:\tlearn: 0.6773548\ttotal: 25.2s\tremaining: 11.7s\n",
            "683:\tlearn: 0.6773079\ttotal: 25.2s\tremaining: 11.7s\n",
            "684:\tlearn: 0.6771699\ttotal: 25.3s\tremaining: 11.6s\n",
            "685:\tlearn: 0.6771137\ttotal: 25.3s\tremaining: 11.6s\n",
            "686:\tlearn: 0.6770529\ttotal: 25.3s\tremaining: 11.5s\n",
            "687:\tlearn: 0.6769492\ttotal: 25.3s\tremaining: 11.5s\n",
            "688:\tlearn: 0.6768793\ttotal: 25.4s\tremaining: 11.4s\n",
            "689:\tlearn: 0.6768341\ttotal: 25.4s\tremaining: 11.4s\n",
            "690:\tlearn: 0.6767147\ttotal: 25.4s\tremaining: 11.4s\n",
            "691:\tlearn: 0.6766370\ttotal: 25.4s\tremaining: 11.3s\n",
            "692:\tlearn: 0.6765265\ttotal: 25.5s\tremaining: 11.3s\n",
            "693:\tlearn: 0.6763441\ttotal: 25.5s\tremaining: 11.2s\n",
            "694:\tlearn: 0.6762675\ttotal: 25.5s\tremaining: 11.2s\n",
            "695:\tlearn: 0.6761907\ttotal: 25.6s\tremaining: 11.2s\n",
            "696:\tlearn: 0.6760801\ttotal: 25.6s\tremaining: 11.1s\n",
            "697:\tlearn: 0.6759908\ttotal: 25.6s\tremaining: 11.1s\n",
            "698:\tlearn: 0.6759415\ttotal: 25.7s\tremaining: 11s\n",
            "699:\tlearn: 0.6758739\ttotal: 25.7s\tremaining: 11s\n",
            "700:\tlearn: 0.6758217\ttotal: 25.7s\tremaining: 11s\n",
            "701:\tlearn: 0.6757065\ttotal: 25.7s\tremaining: 10.9s\n",
            "702:\tlearn: 0.6756271\ttotal: 25.8s\tremaining: 10.9s\n",
            "703:\tlearn: 0.6754386\ttotal: 25.8s\tremaining: 10.8s\n",
            "704:\tlearn: 0.6753077\ttotal: 25.8s\tremaining: 10.8s\n",
            "705:\tlearn: 0.6752282\ttotal: 25.9s\tremaining: 10.8s\n",
            "706:\tlearn: 0.6751162\ttotal: 25.9s\tremaining: 10.7s\n",
            "707:\tlearn: 0.6750024\ttotal: 25.9s\tremaining: 10.7s\n",
            "708:\tlearn: 0.6748834\ttotal: 25.9s\tremaining: 10.7s\n",
            "709:\tlearn: 0.6748255\ttotal: 26s\tremaining: 10.6s\n",
            "710:\tlearn: 0.6747891\ttotal: 26s\tremaining: 10.6s\n",
            "711:\tlearn: 0.6747044\ttotal: 26s\tremaining: 10.5s\n",
            "712:\tlearn: 0.6745758\ttotal: 26.1s\tremaining: 10.5s\n",
            "713:\tlearn: 0.6744786\ttotal: 26.1s\tremaining: 10.4s\n",
            "714:\tlearn: 0.6743442\ttotal: 26.1s\tremaining: 10.4s\n",
            "715:\tlearn: 0.6741693\ttotal: 26.1s\tremaining: 10.4s\n",
            "716:\tlearn: 0.6740489\ttotal: 26.2s\tremaining: 10.3s\n",
            "717:\tlearn: 0.6738766\ttotal: 26.2s\tremaining: 10.3s\n",
            "718:\tlearn: 0.6738133\ttotal: 26.2s\tremaining: 10.3s\n",
            "719:\tlearn: 0.6736796\ttotal: 26.3s\tremaining: 10.2s\n",
            "720:\tlearn: 0.6736024\ttotal: 26.3s\tremaining: 10.2s\n",
            "721:\tlearn: 0.6735260\ttotal: 26.3s\tremaining: 10.1s\n",
            "722:\tlearn: 0.6734313\ttotal: 26.4s\tremaining: 10.1s\n",
            "723:\tlearn: 0.6733101\ttotal: 26.4s\tremaining: 10.1s\n",
            "724:\tlearn: 0.6732789\ttotal: 26.4s\tremaining: 10s\n",
            "725:\tlearn: 0.6731122\ttotal: 26.4s\tremaining: 9.98s\n",
            "726:\tlearn: 0.6730697\ttotal: 26.5s\tremaining: 9.94s\n",
            "727:\tlearn: 0.6730218\ttotal: 26.5s\tremaining: 9.9s\n",
            "728:\tlearn: 0.6729187\ttotal: 26.5s\tremaining: 9.86s\n",
            "729:\tlearn: 0.6728651\ttotal: 26.6s\tremaining: 9.82s\n",
            "730:\tlearn: 0.6728021\ttotal: 26.6s\tremaining: 9.78s\n",
            "731:\tlearn: 0.6727433\ttotal: 26.6s\tremaining: 9.74s\n",
            "732:\tlearn: 0.6726139\ttotal: 26.6s\tremaining: 9.7s\n",
            "733:\tlearn: 0.6725773\ttotal: 26.7s\tremaining: 9.66s\n",
            "734:\tlearn: 0.6725413\ttotal: 26.7s\tremaining: 9.62s\n",
            "735:\tlearn: 0.6723640\ttotal: 26.7s\tremaining: 9.58s\n",
            "736:\tlearn: 0.6723074\ttotal: 26.8s\tremaining: 9.55s\n",
            "737:\tlearn: 0.6722088\ttotal: 26.8s\tremaining: 9.51s\n",
            "738:\tlearn: 0.6721093\ttotal: 26.8s\tremaining: 9.47s\n",
            "739:\tlearn: 0.6720136\ttotal: 26.8s\tremaining: 9.43s\n",
            "740:\tlearn: 0.6719418\ttotal: 26.9s\tremaining: 9.39s\n",
            "741:\tlearn: 0.6718027\ttotal: 26.9s\tremaining: 9.35s\n",
            "742:\tlearn: 0.6717252\ttotal: 26.9s\tremaining: 9.31s\n",
            "743:\tlearn: 0.6716581\ttotal: 27s\tremaining: 9.27s\n",
            "744:\tlearn: 0.6715754\ttotal: 27s\tremaining: 9.23s\n",
            "745:\tlearn: 0.6714622\ttotal: 27s\tremaining: 9.2s\n",
            "746:\tlearn: 0.6713973\ttotal: 27s\tremaining: 9.16s\n",
            "747:\tlearn: 0.6713057\ttotal: 27.1s\tremaining: 9.12s\n",
            "748:\tlearn: 0.6712176\ttotal: 27.1s\tremaining: 9.08s\n",
            "749:\tlearn: 0.6711477\ttotal: 27.1s\tremaining: 9.04s\n",
            "750:\tlearn: 0.6710433\ttotal: 27.2s\tremaining: 9s\n",
            "751:\tlearn: 0.6709660\ttotal: 27.2s\tremaining: 8.96s\n",
            "752:\tlearn: 0.6708819\ttotal: 27.2s\tremaining: 8.93s\n",
            "753:\tlearn: 0.6707884\ttotal: 27.2s\tremaining: 8.89s\n",
            "754:\tlearn: 0.6707456\ttotal: 27.3s\tremaining: 8.85s\n",
            "755:\tlearn: 0.6705914\ttotal: 27.3s\tremaining: 8.81s\n",
            "756:\tlearn: 0.6705317\ttotal: 27.3s\tremaining: 8.77s\n",
            "757:\tlearn: 0.6704840\ttotal: 27.4s\tremaining: 8.73s\n",
            "758:\tlearn: 0.6703814\ttotal: 27.4s\tremaining: 8.7s\n",
            "759:\tlearn: 0.6702958\ttotal: 27.4s\tremaining: 8.66s\n",
            "760:\tlearn: 0.6702222\ttotal: 27.5s\tremaining: 8.62s\n",
            "761:\tlearn: 0.6700464\ttotal: 27.5s\tremaining: 8.58s\n",
            "762:\tlearn: 0.6699476\ttotal: 27.5s\tremaining: 8.54s\n",
            "763:\tlearn: 0.6698454\ttotal: 27.5s\tremaining: 8.51s\n",
            "764:\tlearn: 0.6697645\ttotal: 27.6s\tremaining: 8.47s\n",
            "765:\tlearn: 0.6697061\ttotal: 27.6s\tremaining: 8.43s\n",
            "766:\tlearn: 0.6696322\ttotal: 27.6s\tremaining: 8.39s\n",
            "767:\tlearn: 0.6695641\ttotal: 27.7s\tremaining: 8.35s\n",
            "768:\tlearn: 0.6694673\ttotal: 27.7s\tremaining: 8.31s\n",
            "769:\tlearn: 0.6694062\ttotal: 27.7s\tremaining: 8.28s\n",
            "770:\tlearn: 0.6692889\ttotal: 27.7s\tremaining: 8.24s\n",
            "771:\tlearn: 0.6692011\ttotal: 27.8s\tremaining: 8.2s\n",
            "772:\tlearn: 0.6691333\ttotal: 27.8s\tremaining: 8.16s\n",
            "773:\tlearn: 0.6689062\ttotal: 27.8s\tremaining: 8.12s\n",
            "774:\tlearn: 0.6688376\ttotal: 27.9s\tremaining: 8.09s\n",
            "775:\tlearn: 0.6687422\ttotal: 27.9s\tremaining: 8.05s\n",
            "776:\tlearn: 0.6686831\ttotal: 27.9s\tremaining: 8.01s\n",
            "777:\tlearn: 0.6685972\ttotal: 27.9s\tremaining: 7.97s\n",
            "778:\tlearn: 0.6685317\ttotal: 28s\tremaining: 7.93s\n",
            "779:\tlearn: 0.6684374\ttotal: 28s\tremaining: 7.89s\n",
            "780:\tlearn: 0.6683648\ttotal: 28s\tremaining: 7.86s\n",
            "781:\tlearn: 0.6683072\ttotal: 28s\tremaining: 7.82s\n",
            "782:\tlearn: 0.6681564\ttotal: 28.1s\tremaining: 7.78s\n",
            "783:\tlearn: 0.6679721\ttotal: 28.1s\tremaining: 7.74s\n",
            "784:\tlearn: 0.6678564\ttotal: 28.1s\tremaining: 7.71s\n",
            "785:\tlearn: 0.6677480\ttotal: 28.2s\tremaining: 7.67s\n",
            "786:\tlearn: 0.6676243\ttotal: 28.2s\tremaining: 7.63s\n",
            "787:\tlearn: 0.6675295\ttotal: 28.2s\tremaining: 7.6s\n",
            "788:\tlearn: 0.6674942\ttotal: 28.3s\tremaining: 7.56s\n",
            "789:\tlearn: 0.6674160\ttotal: 28.3s\tremaining: 7.52s\n",
            "790:\tlearn: 0.6673421\ttotal: 28.3s\tremaining: 7.48s\n",
            "791:\tlearn: 0.6672787\ttotal: 28.3s\tremaining: 7.45s\n",
            "792:\tlearn: 0.6671844\ttotal: 28.4s\tremaining: 7.41s\n",
            "793:\tlearn: 0.6670148\ttotal: 28.4s\tremaining: 7.37s\n",
            "794:\tlearn: 0.6669286\ttotal: 28.4s\tremaining: 7.33s\n",
            "795:\tlearn: 0.6668514\ttotal: 28.5s\tremaining: 7.29s\n",
            "796:\tlearn: 0.6667646\ttotal: 28.5s\tremaining: 7.26s\n",
            "797:\tlearn: 0.6667017\ttotal: 28.5s\tremaining: 7.22s\n",
            "798:\tlearn: 0.6666247\ttotal: 28.5s\tremaining: 7.18s\n",
            "799:\tlearn: 0.6665284\ttotal: 28.6s\tremaining: 7.14s\n",
            "800:\tlearn: 0.6664554\ttotal: 28.6s\tremaining: 7.11s\n",
            "801:\tlearn: 0.6663825\ttotal: 28.6s\tremaining: 7.07s\n",
            "802:\tlearn: 0.6662721\ttotal: 28.7s\tremaining: 7.03s\n",
            "803:\tlearn: 0.6662070\ttotal: 28.7s\tremaining: 6.99s\n",
            "804:\tlearn: 0.6660815\ttotal: 28.7s\tremaining: 6.96s\n",
            "805:\tlearn: 0.6659597\ttotal: 28.8s\tremaining: 6.92s\n",
            "806:\tlearn: 0.6659159\ttotal: 28.8s\tremaining: 6.88s\n",
            "807:\tlearn: 0.6657685\ttotal: 28.8s\tremaining: 6.84s\n",
            "808:\tlearn: 0.6656905\ttotal: 28.8s\tremaining: 6.81s\n",
            "809:\tlearn: 0.6655502\ttotal: 28.9s\tremaining: 6.77s\n",
            "810:\tlearn: 0.6654883\ttotal: 28.9s\tremaining: 6.73s\n",
            "811:\tlearn: 0.6654367\ttotal: 28.9s\tremaining: 6.7s\n",
            "812:\tlearn: 0.6653421\ttotal: 29s\tremaining: 6.66s\n",
            "813:\tlearn: 0.6652806\ttotal: 29s\tremaining: 6.62s\n",
            "814:\tlearn: 0.6652072\ttotal: 29s\tremaining: 6.58s\n",
            "815:\tlearn: 0.6650823\ttotal: 29s\tremaining: 6.55s\n",
            "816:\tlearn: 0.6649689\ttotal: 29.1s\tremaining: 6.51s\n",
            "817:\tlearn: 0.6648657\ttotal: 29.1s\tremaining: 6.47s\n",
            "818:\tlearn: 0.6647920\ttotal: 29.1s\tremaining: 6.44s\n",
            "819:\tlearn: 0.6646511\ttotal: 29.2s\tremaining: 6.4s\n",
            "820:\tlearn: 0.6645844\ttotal: 29.2s\tremaining: 6.36s\n",
            "821:\tlearn: 0.6645509\ttotal: 29.2s\tremaining: 6.33s\n",
            "822:\tlearn: 0.6644952\ttotal: 29.2s\tremaining: 6.29s\n",
            "823:\tlearn: 0.6643949\ttotal: 29.3s\tremaining: 6.25s\n",
            "824:\tlearn: 0.6643574\ttotal: 29.3s\tremaining: 6.21s\n",
            "825:\tlearn: 0.6642851\ttotal: 29.3s\tremaining: 6.18s\n",
            "826:\tlearn: 0.6641970\ttotal: 29.4s\tremaining: 6.14s\n",
            "827:\tlearn: 0.6641373\ttotal: 29.4s\tremaining: 6.1s\n",
            "828:\tlearn: 0.6640284\ttotal: 29.4s\tremaining: 6.07s\n",
            "829:\tlearn: 0.6639083\ttotal: 29.5s\tremaining: 6.03s\n",
            "830:\tlearn: 0.6637804\ttotal: 29.5s\tremaining: 6s\n",
            "831:\tlearn: 0.6636737\ttotal: 29.5s\tremaining: 5.96s\n",
            "832:\tlearn: 0.6636157\ttotal: 29.5s\tremaining: 5.92s\n",
            "833:\tlearn: 0.6635640\ttotal: 29.6s\tremaining: 5.88s\n",
            "834:\tlearn: 0.6633703\ttotal: 29.6s\tremaining: 5.85s\n",
            "835:\tlearn: 0.6633152\ttotal: 29.6s\tremaining: 5.81s\n",
            "836:\tlearn: 0.6632456\ttotal: 29.7s\tremaining: 5.78s\n",
            "837:\tlearn: 0.6631466\ttotal: 29.7s\tremaining: 5.74s\n",
            "838:\tlearn: 0.6630604\ttotal: 29.7s\tremaining: 5.7s\n",
            "839:\tlearn: 0.6630185\ttotal: 29.7s\tremaining: 5.66s\n",
            "840:\tlearn: 0.6628866\ttotal: 29.8s\tremaining: 5.63s\n",
            "841:\tlearn: 0.6627876\ttotal: 29.8s\tremaining: 5.59s\n",
            "842:\tlearn: 0.6626863\ttotal: 29.8s\tremaining: 5.55s\n",
            "843:\tlearn: 0.6625286\ttotal: 29.9s\tremaining: 5.52s\n",
            "844:\tlearn: 0.6624528\ttotal: 29.9s\tremaining: 5.48s\n",
            "845:\tlearn: 0.6624139\ttotal: 29.9s\tremaining: 5.44s\n",
            "846:\tlearn: 0.6623425\ttotal: 29.9s\tremaining: 5.41s\n",
            "847:\tlearn: 0.6622133\ttotal: 30s\tremaining: 5.37s\n",
            "848:\tlearn: 0.6621079\ttotal: 30s\tremaining: 5.33s\n",
            "849:\tlearn: 0.6620745\ttotal: 30s\tremaining: 5.3s\n",
            "850:\tlearn: 0.6619990\ttotal: 30.1s\tremaining: 5.26s\n",
            "851:\tlearn: 0.6617481\ttotal: 30.1s\tremaining: 5.23s\n",
            "852:\tlearn: 0.6616806\ttotal: 30.1s\tremaining: 5.19s\n",
            "853:\tlearn: 0.6616126\ttotal: 30.1s\tremaining: 5.15s\n",
            "854:\tlearn: 0.6615221\ttotal: 30.2s\tremaining: 5.12s\n",
            "855:\tlearn: 0.6614326\ttotal: 30.2s\tremaining: 5.08s\n",
            "856:\tlearn: 0.6613798\ttotal: 30.2s\tremaining: 5.04s\n",
            "857:\tlearn: 0.6612744\ttotal: 30.3s\tremaining: 5.01s\n",
            "858:\tlearn: 0.6612176\ttotal: 30.3s\tremaining: 4.97s\n",
            "859:\tlearn: 0.6611464\ttotal: 30.3s\tremaining: 4.94s\n",
            "860:\tlearn: 0.6610152\ttotal: 30.4s\tremaining: 4.9s\n",
            "861:\tlearn: 0.6609726\ttotal: 30.4s\tremaining: 4.86s\n",
            "862:\tlearn: 0.6609174\ttotal: 30.4s\tremaining: 4.83s\n",
            "863:\tlearn: 0.6608415\ttotal: 30.4s\tremaining: 4.79s\n",
            "864:\tlearn: 0.6607527\ttotal: 30.5s\tremaining: 4.75s\n",
            "865:\tlearn: 0.6606796\ttotal: 30.5s\tremaining: 4.72s\n",
            "866:\tlearn: 0.6606342\ttotal: 30.5s\tremaining: 4.68s\n",
            "867:\tlearn: 0.6605672\ttotal: 30.5s\tremaining: 4.64s\n",
            "868:\tlearn: 0.6604725\ttotal: 30.6s\tremaining: 4.61s\n",
            "869:\tlearn: 0.6604031\ttotal: 30.6s\tremaining: 4.57s\n",
            "870:\tlearn: 0.6603254\ttotal: 30.6s\tremaining: 4.54s\n",
            "871:\tlearn: 0.6601869\ttotal: 30.7s\tremaining: 4.5s\n",
            "872:\tlearn: 0.6600453\ttotal: 30.7s\tremaining: 4.47s\n",
            "873:\tlearn: 0.6599652\ttotal: 30.7s\tremaining: 4.43s\n",
            "874:\tlearn: 0.6598874\ttotal: 30.8s\tremaining: 4.39s\n",
            "875:\tlearn: 0.6598040\ttotal: 30.8s\tremaining: 4.36s\n",
            "876:\tlearn: 0.6597417\ttotal: 30.8s\tremaining: 4.32s\n",
            "877:\tlearn: 0.6596568\ttotal: 30.8s\tremaining: 4.29s\n",
            "878:\tlearn: 0.6595811\ttotal: 30.9s\tremaining: 4.25s\n",
            "879:\tlearn: 0.6594560\ttotal: 30.9s\tremaining: 4.21s\n",
            "880:\tlearn: 0.6593688\ttotal: 30.9s\tremaining: 4.18s\n",
            "881:\tlearn: 0.6592815\ttotal: 31s\tremaining: 4.14s\n",
            "882:\tlearn: 0.6592037\ttotal: 31s\tremaining: 4.11s\n",
            "883:\tlearn: 0.6591173\ttotal: 31s\tremaining: 4.07s\n",
            "884:\tlearn: 0.6590284\ttotal: 31.1s\tremaining: 4.03s\n",
            "885:\tlearn: 0.6589853\ttotal: 31.1s\tremaining: 4s\n",
            "886:\tlearn: 0.6588844\ttotal: 31.1s\tremaining: 3.96s\n",
            "887:\tlearn: 0.6588210\ttotal: 31.1s\tremaining: 3.93s\n",
            "888:\tlearn: 0.6587757\ttotal: 31.2s\tremaining: 3.89s\n",
            "889:\tlearn: 0.6587155\ttotal: 31.2s\tremaining: 3.85s\n",
            "890:\tlearn: 0.6585941\ttotal: 31.2s\tremaining: 3.82s\n",
            "891:\tlearn: 0.6584857\ttotal: 31.2s\tremaining: 3.78s\n",
            "892:\tlearn: 0.6584182\ttotal: 31.3s\tremaining: 3.75s\n",
            "893:\tlearn: 0.6583382\ttotal: 31.3s\tremaining: 3.71s\n",
            "894:\tlearn: 0.6582150\ttotal: 31.3s\tremaining: 3.67s\n",
            "895:\tlearn: 0.6581147\ttotal: 31.4s\tremaining: 3.64s\n",
            "896:\tlearn: 0.6580125\ttotal: 31.4s\tremaining: 3.6s\n",
            "897:\tlearn: 0.6579526\ttotal: 31.4s\tremaining: 3.57s\n",
            "898:\tlearn: 0.6578137\ttotal: 31.4s\tremaining: 3.53s\n",
            "899:\tlearn: 0.6577705\ttotal: 31.5s\tremaining: 3.5s\n",
            "900:\tlearn: 0.6576744\ttotal: 31.5s\tremaining: 3.46s\n",
            "901:\tlearn: 0.6575647\ttotal: 31.5s\tremaining: 3.42s\n",
            "902:\tlearn: 0.6574969\ttotal: 31.6s\tremaining: 3.39s\n",
            "903:\tlearn: 0.6574357\ttotal: 31.6s\tremaining: 3.36s\n",
            "904:\tlearn: 0.6573280\ttotal: 31.6s\tremaining: 3.32s\n",
            "905:\tlearn: 0.6572466\ttotal: 31.7s\tremaining: 3.29s\n",
            "906:\tlearn: 0.6571020\ttotal: 31.7s\tremaining: 3.25s\n",
            "907:\tlearn: 0.6570253\ttotal: 31.7s\tremaining: 3.21s\n",
            "908:\tlearn: 0.6569464\ttotal: 31.8s\tremaining: 3.18s\n",
            "909:\tlearn: 0.6569130\ttotal: 31.8s\tremaining: 3.14s\n",
            "910:\tlearn: 0.6567585\ttotal: 31.8s\tremaining: 3.11s\n",
            "911:\tlearn: 0.6566999\ttotal: 31.8s\tremaining: 3.07s\n",
            "912:\tlearn: 0.6566297\ttotal: 31.9s\tremaining: 3.04s\n",
            "913:\tlearn: 0.6565510\ttotal: 31.9s\tremaining: 3s\n",
            "914:\tlearn: 0.6565226\ttotal: 31.9s\tremaining: 2.96s\n",
            "915:\tlearn: 0.6564494\ttotal: 31.9s\tremaining: 2.93s\n",
            "916:\tlearn: 0.6563705\ttotal: 32s\tremaining: 2.89s\n",
            "917:\tlearn: 0.6562957\ttotal: 32s\tremaining: 2.86s\n",
            "918:\tlearn: 0.6562206\ttotal: 32s\tremaining: 2.82s\n",
            "919:\tlearn: 0.6560866\ttotal: 32.1s\tremaining: 2.79s\n",
            "920:\tlearn: 0.6560395\ttotal: 32.1s\tremaining: 2.75s\n",
            "921:\tlearn: 0.6559553\ttotal: 32.1s\tremaining: 2.72s\n",
            "922:\tlearn: 0.6558376\ttotal: 32.1s\tremaining: 2.68s\n",
            "923:\tlearn: 0.6557712\ttotal: 32.2s\tremaining: 2.65s\n",
            "924:\tlearn: 0.6556888\ttotal: 32.2s\tremaining: 2.61s\n",
            "925:\tlearn: 0.6555923\ttotal: 32.2s\tremaining: 2.58s\n",
            "926:\tlearn: 0.6555273\ttotal: 32.3s\tremaining: 2.54s\n",
            "927:\tlearn: 0.6554227\ttotal: 32.3s\tremaining: 2.5s\n",
            "928:\tlearn: 0.6553271\ttotal: 32.3s\tremaining: 2.47s\n",
            "929:\tlearn: 0.6552143\ttotal: 32.4s\tremaining: 2.44s\n",
            "930:\tlearn: 0.6551496\ttotal: 32.4s\tremaining: 2.4s\n",
            "931:\tlearn: 0.6550684\ttotal: 32.4s\tremaining: 2.36s\n",
            "932:\tlearn: 0.6549850\ttotal: 32.4s\tremaining: 2.33s\n",
            "933:\tlearn: 0.6549273\ttotal: 32.5s\tremaining: 2.29s\n",
            "934:\tlearn: 0.6548729\ttotal: 32.5s\tremaining: 2.26s\n",
            "935:\tlearn: 0.6547981\ttotal: 32.5s\tremaining: 2.22s\n",
            "936:\tlearn: 0.6547551\ttotal: 32.6s\tremaining: 2.19s\n",
            "937:\tlearn: 0.6546995\ttotal: 32.6s\tremaining: 2.15s\n",
            "938:\tlearn: 0.6546458\ttotal: 32.6s\tremaining: 2.12s\n",
            "939:\tlearn: 0.6545984\ttotal: 32.6s\tremaining: 2.08s\n",
            "940:\tlearn: 0.6545036\ttotal: 32.7s\tremaining: 2.05s\n",
            "941:\tlearn: 0.6544812\ttotal: 32.7s\tremaining: 2.01s\n",
            "942:\tlearn: 0.6544315\ttotal: 32.7s\tremaining: 1.98s\n",
            "943:\tlearn: 0.6543584\ttotal: 32.8s\tremaining: 1.94s\n",
            "944:\tlearn: 0.6543073\ttotal: 32.8s\tremaining: 1.91s\n",
            "945:\tlearn: 0.6542359\ttotal: 32.8s\tremaining: 1.87s\n",
            "946:\tlearn: 0.6541572\ttotal: 32.8s\tremaining: 1.84s\n",
            "947:\tlearn: 0.6540907\ttotal: 32.9s\tremaining: 1.8s\n",
            "948:\tlearn: 0.6540251\ttotal: 32.9s\tremaining: 1.77s\n",
            "949:\tlearn: 0.6539768\ttotal: 32.9s\tremaining: 1.73s\n",
            "950:\tlearn: 0.6538936\ttotal: 32.9s\tremaining: 1.7s\n",
            "951:\tlearn: 0.6538202\ttotal: 33s\tremaining: 1.66s\n",
            "952:\tlearn: 0.6537785\ttotal: 33s\tremaining: 1.63s\n",
            "953:\tlearn: 0.6536444\ttotal: 33s\tremaining: 1.59s\n",
            "954:\tlearn: 0.6535518\ttotal: 33.1s\tremaining: 1.56s\n",
            "955:\tlearn: 0.6534930\ttotal: 33.1s\tremaining: 1.52s\n",
            "956:\tlearn: 0.6534400\ttotal: 33.1s\tremaining: 1.49s\n",
            "957:\tlearn: 0.6533773\ttotal: 33.1s\tremaining: 1.45s\n",
            "958:\tlearn: 0.6533083\ttotal: 33.2s\tremaining: 1.42s\n",
            "959:\tlearn: 0.6532247\ttotal: 33.2s\tremaining: 1.38s\n",
            "960:\tlearn: 0.6531649\ttotal: 33.2s\tremaining: 1.35s\n",
            "961:\tlearn: 0.6530760\ttotal: 33.3s\tremaining: 1.31s\n",
            "962:\tlearn: 0.6529813\ttotal: 33.3s\tremaining: 1.28s\n",
            "963:\tlearn: 0.6528859\ttotal: 33.3s\tremaining: 1.24s\n",
            "964:\tlearn: 0.6527839\ttotal: 33.4s\tremaining: 1.21s\n",
            "965:\tlearn: 0.6526988\ttotal: 33.4s\tremaining: 1.18s\n",
            "966:\tlearn: 0.6525820\ttotal: 33.4s\tremaining: 1.14s\n",
            "967:\tlearn: 0.6525232\ttotal: 33.4s\tremaining: 1.1s\n",
            "968:\tlearn: 0.6524504\ttotal: 33.5s\tremaining: 1.07s\n",
            "969:\tlearn: 0.6523855\ttotal: 33.5s\tremaining: 1.04s\n",
            "970:\tlearn: 0.6523143\ttotal: 33.5s\tremaining: 1s\n",
            "971:\tlearn: 0.6522180\ttotal: 33.6s\tremaining: 967ms\n",
            "972:\tlearn: 0.6521088\ttotal: 33.6s\tremaining: 932ms\n",
            "973:\tlearn: 0.6520338\ttotal: 33.6s\tremaining: 897ms\n",
            "974:\tlearn: 0.6519671\ttotal: 33.6s\tremaining: 863ms\n",
            "975:\tlearn: 0.6519079\ttotal: 33.7s\tremaining: 828ms\n",
            "976:\tlearn: 0.6517999\ttotal: 33.7s\tremaining: 793ms\n",
            "977:\tlearn: 0.6517491\ttotal: 33.7s\tremaining: 759ms\n",
            "978:\tlearn: 0.6516629\ttotal: 33.8s\tremaining: 724ms\n",
            "979:\tlearn: 0.6516131\ttotal: 33.8s\tremaining: 690ms\n",
            "980:\tlearn: 0.6514854\ttotal: 33.8s\tremaining: 655ms\n",
            "981:\tlearn: 0.6514442\ttotal: 33.8s\tremaining: 620ms\n",
            "982:\tlearn: 0.6513829\ttotal: 33.9s\tremaining: 586ms\n",
            "983:\tlearn: 0.6512909\ttotal: 33.9s\tremaining: 551ms\n",
            "984:\tlearn: 0.6512574\ttotal: 33.9s\tremaining: 517ms\n",
            "985:\tlearn: 0.6512154\ttotal: 34s\tremaining: 482ms\n",
            "986:\tlearn: 0.6511217\ttotal: 34s\tremaining: 448ms\n",
            "987:\tlearn: 0.6510625\ttotal: 34s\tremaining: 413ms\n",
            "988:\tlearn: 0.6509369\ttotal: 34s\tremaining: 379ms\n",
            "989:\tlearn: 0.6508846\ttotal: 34.1s\tremaining: 344ms\n",
            "990:\tlearn: 0.6508304\ttotal: 34.1s\tremaining: 310ms\n",
            "991:\tlearn: 0.6507871\ttotal: 34.1s\tremaining: 275ms\n",
            "992:\tlearn: 0.6507303\ttotal: 34.2s\tremaining: 241ms\n",
            "993:\tlearn: 0.6506004\ttotal: 34.2s\tremaining: 206ms\n",
            "994:\tlearn: 0.6505128\ttotal: 34.2s\tremaining: 172ms\n",
            "995:\tlearn: 0.6504656\ttotal: 34.2s\tremaining: 138ms\n",
            "996:\tlearn: 0.6503767\ttotal: 34.3s\tremaining: 103ms\n",
            "997:\tlearn: 0.6503198\ttotal: 34.3s\tremaining: 68.8ms\n",
            "998:\tlearn: 0.6502313\ttotal: 34.3s\tremaining: 34.4ms\n",
            "999:\tlearn: 0.6501662\ttotal: 34.4s\tremaining: 0us\n"
          ]
        },
        {
          "output_type": "execute_result",
          "data": {
            "text/plain": [
              "0.517504873294347"
            ]
          },
          "metadata": {},
          "execution_count": 68
        }
      ],
      "source": [
        "cbc= CatBoostClassifier()\n",
        "cbc.fit(X_res,y_res)\n",
        "y_pred= cbc.predict(X_val)\n",
        "accuracy_score(y_val,y_pred)"
      ]
    },
    {
      "cell_type": "code",
      "source": [
        "pred_cbc=cbc.predict(test_df)\n",
        "preds= np.array(output_labels)[pred_cbc]\n",
        "prediction_cat= pd.DataFrame(preds,columns=['season'])\n",
        "prediction_cat.to_csv('My_submission_final.csv',index=False)"
      ],
      "metadata": {
        "id": "HrOER8ZJpkGi"
      },
      "execution_count": 69,
      "outputs": []
    },
    {
      "cell_type": "code",
      "source": [
        "prediction_cat"
      ],
      "metadata": {
        "colab": {
          "base_uri": "https://localhost:8080/",
          "height": 424
        },
        "id": "kIN1mEuTwE16",
        "outputId": "9f1f7939-1ed3-44fc-816b-0a9fe7d5044c"
      },
      "execution_count": 70,
      "outputs": [
        {
          "output_type": "execute_result",
          "data": {
            "text/html": [
              "\n",
              "  <div id=\"df-27c5aa01-ff17-4443-b198-0326d4aaa176\">\n",
              "    <div class=\"colab-df-container\">\n",
              "      <div>\n",
              "<style scoped>\n",
              "    .dataframe tbody tr th:only-of-type {\n",
              "        vertical-align: middle;\n",
              "    }\n",
              "\n",
              "    .dataframe tbody tr th {\n",
              "        vertical-align: top;\n",
              "    }\n",
              "\n",
              "    .dataframe thead th {\n",
              "        text-align: right;\n",
              "    }\n",
              "</style>\n",
              "<table border=\"1\" class=\"dataframe\">\n",
              "  <thead>\n",
              "    <tr style=\"text-align: right;\">\n",
              "      <th></th>\n",
              "      <th>season</th>\n",
              "    </tr>\n",
              "  </thead>\n",
              "  <tbody>\n",
              "    <tr>\n",
              "      <th>0</th>\n",
              "      <td>s</td>\n",
              "    </tr>\n",
              "    <tr>\n",
              "      <th>1</th>\n",
              "      <td>a</td>\n",
              "    </tr>\n",
              "    <tr>\n",
              "      <th>2</th>\n",
              "      <td>u</td>\n",
              "    </tr>\n",
              "    <tr>\n",
              "      <th>3</th>\n",
              "      <td>a</td>\n",
              "    </tr>\n",
              "    <tr>\n",
              "      <th>4</th>\n",
              "      <td>u</td>\n",
              "    </tr>\n",
              "    <tr>\n",
              "      <th>...</th>\n",
              "      <td>...</td>\n",
              "    </tr>\n",
              "    <tr>\n",
              "      <th>18316</th>\n",
              "      <td>a</td>\n",
              "    </tr>\n",
              "    <tr>\n",
              "      <th>18317</th>\n",
              "      <td>a</td>\n",
              "    </tr>\n",
              "    <tr>\n",
              "      <th>18318</th>\n",
              "      <td>a</td>\n",
              "    </tr>\n",
              "    <tr>\n",
              "      <th>18319</th>\n",
              "      <td>u</td>\n",
              "    </tr>\n",
              "    <tr>\n",
              "      <th>18320</th>\n",
              "      <td>u</td>\n",
              "    </tr>\n",
              "  </tbody>\n",
              "</table>\n",
              "<p>18321 rows × 1 columns</p>\n",
              "</div>\n",
              "      <button class=\"colab-df-convert\" onclick=\"convertToInteractive('df-27c5aa01-ff17-4443-b198-0326d4aaa176')\"\n",
              "              title=\"Convert this dataframe to an interactive table.\"\n",
              "              style=\"display:none;\">\n",
              "        \n",
              "  <svg xmlns=\"http://www.w3.org/2000/svg\" height=\"24px\"viewBox=\"0 0 24 24\"\n",
              "       width=\"24px\">\n",
              "    <path d=\"M0 0h24v24H0V0z\" fill=\"none\"/>\n",
              "    <path d=\"M18.56 5.44l.94 2.06.94-2.06 2.06-.94-2.06-.94-.94-2.06-.94 2.06-2.06.94zm-11 1L8.5 8.5l.94-2.06 2.06-.94-2.06-.94L8.5 2.5l-.94 2.06-2.06.94zm10 10l.94 2.06.94-2.06 2.06-.94-2.06-.94-.94-2.06-.94 2.06-2.06.94z\"/><path d=\"M17.41 7.96l-1.37-1.37c-.4-.4-.92-.59-1.43-.59-.52 0-1.04.2-1.43.59L10.3 9.45l-7.72 7.72c-.78.78-.78 2.05 0 2.83L4 21.41c.39.39.9.59 1.41.59.51 0 1.02-.2 1.41-.59l7.78-7.78 2.81-2.81c.8-.78.8-2.07 0-2.86zM5.41 20L4 18.59l7.72-7.72 1.47 1.35L5.41 20z\"/>\n",
              "  </svg>\n",
              "      </button>\n",
              "      \n",
              "  <style>\n",
              "    .colab-df-container {\n",
              "      display:flex;\n",
              "      flex-wrap:wrap;\n",
              "      gap: 12px;\n",
              "    }\n",
              "\n",
              "    .colab-df-convert {\n",
              "      background-color: #E8F0FE;\n",
              "      border: none;\n",
              "      border-radius: 50%;\n",
              "      cursor: pointer;\n",
              "      display: none;\n",
              "      fill: #1967D2;\n",
              "      height: 32px;\n",
              "      padding: 0 0 0 0;\n",
              "      width: 32px;\n",
              "    }\n",
              "\n",
              "    .colab-df-convert:hover {\n",
              "      background-color: #E2EBFA;\n",
              "      box-shadow: 0px 1px 2px rgba(60, 64, 67, 0.3), 0px 1px 3px 1px rgba(60, 64, 67, 0.15);\n",
              "      fill: #174EA6;\n",
              "    }\n",
              "\n",
              "    [theme=dark] .colab-df-convert {\n",
              "      background-color: #3B4455;\n",
              "      fill: #D2E3FC;\n",
              "    }\n",
              "\n",
              "    [theme=dark] .colab-df-convert:hover {\n",
              "      background-color: #434B5C;\n",
              "      box-shadow: 0px 1px 3px 1px rgba(0, 0, 0, 0.15);\n",
              "      filter: drop-shadow(0px 1px 2px rgba(0, 0, 0, 0.3));\n",
              "      fill: #FFFFFF;\n",
              "    }\n",
              "  </style>\n",
              "\n",
              "      <script>\n",
              "        const buttonEl =\n",
              "          document.querySelector('#df-27c5aa01-ff17-4443-b198-0326d4aaa176 button.colab-df-convert');\n",
              "        buttonEl.style.display =\n",
              "          google.colab.kernel.accessAllowed ? 'block' : 'none';\n",
              "\n",
              "        async function convertToInteractive(key) {\n",
              "          const element = document.querySelector('#df-27c5aa01-ff17-4443-b198-0326d4aaa176');\n",
              "          const dataTable =\n",
              "            await google.colab.kernel.invokeFunction('convertToInteractive',\n",
              "                                                     [key], {});\n",
              "          if (!dataTable) return;\n",
              "\n",
              "          const docLinkHtml = 'Like what you see? Visit the ' +\n",
              "            '<a target=\"_blank\" href=https://colab.research.google.com/notebooks/data_table.ipynb>data table notebook</a>'\n",
              "            + ' to learn more about interactive tables.';\n",
              "          element.innerHTML = '';\n",
              "          dataTable['output_type'] = 'display_data';\n",
              "          await google.colab.output.renderOutput(dataTable, element);\n",
              "          const docLink = document.createElement('div');\n",
              "          docLink.innerHTML = docLinkHtml;\n",
              "          element.appendChild(docLink);\n",
              "        }\n",
              "      </script>\n",
              "    </div>\n",
              "  </div>\n",
              "  "
            ],
            "text/plain": [
              "      season\n",
              "0          s\n",
              "1          a\n",
              "2          u\n",
              "3          a\n",
              "4          u\n",
              "...      ...\n",
              "18316      a\n",
              "18317      a\n",
              "18318      a\n",
              "18319      u\n",
              "18320      u\n",
              "\n",
              "[18321 rows x 1 columns]"
            ]
          },
          "metadata": {},
          "execution_count": 70
        }
      ]
    },
    {
      "cell_type": "markdown",
      "source": [
        "### **Hyper parameter tuning**"
      ],
      "metadata": {
        "id": "KedHdI72wUGJ"
      }
    },
    {
      "cell_type": "markdown",
      "source": [
        "This too is entirely upto you , for me the best performing model was catboost with default parameters since it helped achieve a great rank"
      ],
      "metadata": {
        "id": "dODPbxr8waOV"
      }
    },
    {
      "cell_type": "code",
      "source": [
        "# Number of trees in random forest\n",
        "n_estimators = [300, 400, 500, 600, 700]\n",
        "# Number of features to consider at every split\n",
        "max_features = ['auto', 'sqrt','log2']\n",
        "# Maximum number of levels in tree\n",
        "max_depth = [5, 8, 15, 25, 30]\n",
        "# Minimum number of samples required to split a node\n",
        "min_samples_split = [2, 5, 10, 14]\n",
        "# Minimum number of samples required at each leaf node\n",
        "min_samples_leaf = [1, 2, 4, 6, 8]\n",
        "# Create the random grid\n",
        "random_grid = {'n_estimators': n_estimators,\n",
        "               'max_features': max_features,\n",
        "               'max_depth': max_depth,\n",
        "               'min_samples_split': min_samples_split,\n",
        "               'min_samples_leaf': min_samples_leaf,\n",
        "              'criterion':['entropy','gini']}\n",
        "print(random_grid)"
      ],
      "metadata": {
        "colab": {
          "base_uri": "https://localhost:8080/"
        },
        "id": "PafOLBWMeJc_",
        "outputId": "289c773f-9dc0-4d89-cee3-f07c96a88bd5"
      },
      "execution_count": null,
      "outputs": [
        {
          "output_type": "stream",
          "name": "stdout",
          "text": [
            "{'n_estimators': [300, 400, 500, 600, 700], 'max_features': ['auto', 'sqrt', 'log2'], 'max_depth': [5, 8, 15, 25, 30], 'min_samples_split': [2, 5, 10, 14], 'min_samples_leaf': [1, 2, 4, 6, 8], 'criterion': ['entropy', 'gini']}\n"
          ]
        }
      ]
    },
    {
      "cell_type": "code",
      "source": [
        "rf=RandomForestClassifier()\n",
        "rf_randomcv=RandomizedSearchCV(estimator=rf,param_distributions=random_grid,n_iter=1,cv=3,verbose=2,\n",
        "                               random_state=100,n_jobs=-1)\n",
        "### fit the randomized model\n",
        "rf_randomcv.fit(X_res,y_res)"
      ],
      "metadata": {
        "colab": {
          "base_uri": "https://localhost:8080/"
        },
        "id": "uxkeYhydpmhO",
        "outputId": "68c844f8-2581-4bac-98b2-4bd02e5d9f3b"
      },
      "execution_count": null,
      "outputs": [
        {
          "output_type": "stream",
          "name": "stdout",
          "text": [
            "Fitting 3 folds for each of 1 candidates, totalling 3 fits\n"
          ]
        },
        {
          "output_type": "execute_result",
          "data": {
            "text/plain": [
              "RandomizedSearchCV(cv=3, estimator=RandomForestClassifier(), n_iter=1,\n",
              "                   n_jobs=-1,\n",
              "                   param_distributions={'criterion': ['entropy', 'gini'],\n",
              "                                        'max_depth': [5, 8, 15, 25, 30],\n",
              "                                        'max_features': ['auto', 'sqrt',\n",
              "                                                         'log2'],\n",
              "                                        'min_samples_leaf': [1, 2, 4, 6, 8],\n",
              "                                        'min_samples_split': [2, 5, 10, 14],\n",
              "                                        'n_estimators': [300, 400, 500, 600,\n",
              "                                                         700]},\n",
              "                   random_state=100, verbose=2)"
            ]
          },
          "metadata": {},
          "execution_count": 65
        }
      ]
    },
    {
      "cell_type": "code",
      "source": [
        "rf_randomcv.best_score_"
      ],
      "metadata": {
        "colab": {
          "base_uri": "https://localhost:8080/"
        },
        "id": "Ww71FYB4pzp4",
        "outputId": "ccf03133-ddef-44c3-9489-af508f75f7a7"
      },
      "execution_count": null,
      "outputs": [
        {
          "output_type": "execute_result",
          "data": {
            "text/plain": [
              "0.4629349138404127"
            ]
          },
          "metadata": {},
          "execution_count": 66
        }
      ]
    },
    {
      "cell_type": "code",
      "source": [
        "param_grid={\n",
        "    'max_depth': range(3,10,2),\n",
        "    'min_child_weight': range(1,6,1),\n",
        "    'learning_rate':[0.0001, 0.001, 0.01, 0.1, 0.2, 0.3],\n",
        "    'gamma':[i/10.0 for i in range(0,5)],\n",
        "    'n_estimators':[300,400,500,600,700],\n",
        "    'reg_alpha':[0, 0.001, 0.005, 0.01, 0.05],\n",
        "    'reg_lambda':[0.2,0.4,0.6,0.8]\n",
        "}"
      ],
      "metadata": {
        "id": "RWg6rUbcq3C0"
      },
      "execution_count": null,
      "outputs": []
    },
    {
      "cell_type": "code",
      "source": [
        "xgb= XGBClassifier()\n",
        "xgb_randomcv=RandomizedSearchCV(estimator=xgb,param_distributions=param_grid,n_iter=1,cv=5,verbose=3,\n",
        "                               random_state=32,n_jobs=-1)\n",
        "xgb_randomcv.fit(X_res,y_res)"
      ],
      "metadata": {
        "colab": {
          "base_uri": "https://localhost:8080/"
        },
        "id": "_Bu53-9VqJ-i",
        "outputId": "1af15194-e6a9-423f-b344-3b73d0c4dfc3"
      },
      "execution_count": null,
      "outputs": [
        {
          "metadata": {
            "tags": null
          },
          "name": "stdout",
          "output_type": "stream",
          "text": [
            "Fitting 5 folds for each of 1 candidates, totalling 5 fits\n"
          ]
        },
        {
          "output_type": "execute_result",
          "data": {
            "text/plain": [
              "RandomizedSearchCV(cv=5, estimator=XGBClassifier(), n_iter=1, n_jobs=-1,\n",
              "                   param_distributions={'gamma': [0.0, 0.1, 0.2, 0.3, 0.4],\n",
              "                                        'learning_rate': [0.0001, 0.001, 0.01,\n",
              "                                                          0.1, 0.2, 0.3],\n",
              "                                        'max_depth': range(3, 10, 2),\n",
              "                                        'min_child_weight': range(1, 6),\n",
              "                                        'n_estimators': [300, 400, 500, 600,\n",
              "                                                         700],\n",
              "                                        'reg_alpha': [0, 0.001, 0.005, 0.01,\n",
              "                                                      0.05],\n",
              "                                        'reg_lambda': [0.2, 0.4, 0.6, 0.8]},\n",
              "                   random_state=32, verbose=3)"
            ]
          },
          "metadata": {},
          "execution_count": 51
        }
      ]
    },
    {
      "cell_type": "code",
      "source": [
        "xgb_randomcv.best_score_"
      ],
      "metadata": {
        "colab": {
          "base_uri": "https://localhost:8080/"
        },
        "id": "cDntpIPcrC0N",
        "outputId": "9fbe8d68-1d79-4d41-ed62-d8e542d97dcb"
      },
      "execution_count": null,
      "outputs": [
        {
          "output_type": "execute_result",
          "data": {
            "text/plain": [
              "0.611875754582373"
            ]
          },
          "metadata": {},
          "execution_count": 52
        }
      ]
    },
    {
      "cell_type": "code",
      "source": [
        "xgb_randomcv.best_params_"
      ],
      "metadata": {
        "colab": {
          "base_uri": "https://localhost:8080/"
        },
        "id": "3yC2lP2d2Oe2",
        "outputId": "070b12f0-426b-4896-b91d-efe7a1af9d80"
      },
      "execution_count": null,
      "outputs": [
        {
          "output_type": "execute_result",
          "data": {
            "text/plain": [
              "{'gamma': 0.0,\n",
              " 'learning_rate': 0.3,\n",
              " 'max_depth': 5,\n",
              " 'min_child_weight': 5,\n",
              " 'n_estimators': 600,\n",
              " 'reg_alpha': 0.001,\n",
              " 'reg_lambda': 0.8}"
            ]
          },
          "metadata": {},
          "execution_count": 59
        }
      ]
    },
    {
      "cell_type": "code",
      "source": [
        "XGB_model=XGBClassifier(n_estimators=600,\n",
        "                        learning_rate=0.3,\n",
        "                        min_child_weight=5,\n",
        "                        max_depth=5,\n",
        "                        gamma=0.0,\n",
        "                        reg_alpha=0.001,\n",
        "                        reg_lambda=0.8)\n",
        "\n",
        "XGB_model.fit(X_res.to_numpy(),y_res.to_numpy())\n",
        "y_pred= XGB_model.predict(test_df.to_numpy())"
      ],
      "metadata": {
        "id": "tkOY6LYes3cP"
      },
      "execution_count": null,
      "outputs": []
    },
    {
      "cell_type": "code",
      "source": [
        "pred= np.array(output_labels)[y_pred]\n",
        "prediction_XG= pd.DataFrame(pred,columns=['season'])\n",
        "prediction_XG.to_csv('My_sub_20.csv',index=None)"
      ],
      "metadata": {
        "id": "tiv4h19d8aB6"
      },
      "execution_count": null,
      "outputs": []
    },
    {
      "cell_type": "code",
      "source": [
        ""
      ],
      "metadata": {
        "id": "jglLMobWvEFC"
      },
      "execution_count": null,
      "outputs": []
    }
  ],
  "metadata": {
    "colab": {
      "name": "Tredence_ode2code.ipynb",
      "provenance": []
    },
    "kernelspec": {
      "display_name": "Python 3",
      "name": "python3"
    },
    "language_info": {
      "name": "python"
    }
  },
  "nbformat": 4,
  "nbformat_minor": 0
}